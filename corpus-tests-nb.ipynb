{
 "cells": [
  {
   "cell_type": "markdown",
   "source": [
    "# Setup\n",
    "### Import libraries"
   ],
   "metadata": {
    "collapsed": false
   },
   "id": "1a0b9bd69967a0a2"
  },
  {
   "cell_type": "code",
   "id": "initial_id",
   "metadata": {
    "collapsed": true,
    "ExecuteTime": {
     "end_time": "2025-03-26T20:30:55.423984Z",
     "start_time": "2025-03-26T20:30:52.181755Z"
    }
   },
   "source": [
    "import nltk\n",
    "from nltk import pos_tag\n",
    "import string\n",
    "import pandas as pd\n",
    "from collections import defaultdict\n",
    "from scipy.stats import zscore\n",
    "import scipy.stats as stats\n",
    "from nltk.corpus import wordnet as wn\n",
    "import matplotlib.pyplot as plt\n",
    "from nltk.tokenize import sent_tokenize\n",
    "import numpy as np\n",
    "from collections import defaultdict\n",
    "import re\n",
    "from textblob import TextBlob\n",
    "from sklearn.preprocessing import PolynomialFeatures\n",
    "from sklearn.linear_model import LinearRegression\n",
    "from nltk.sentiment import SentimentIntensityAnalyzer\n",
    "from scipy.stats import pearsonr, spearmanr\n",
    "from nltk.corpus import verbnet as vn\n",
    "from nltk.corpus.reader.verbnet import VerbnetCorpusReader\n",
    "from nltk.stem import WordNetLemmatizer\n",
    "from nltk.corpus import wordnet\n",
    "from datasets import load_dataset\n",
    "import spacy\n",
    "vn_reader = VerbnetCorpusReader(root=nltk.data.find('corpora/verbnet').path, fileids='.*\\.xml')"
   ],
   "outputs": [
    {
     "name": "stderr",
     "output_type": "stream",
     "text": [
      "/Users/souparna/Desktop/DiyaDiss/.venv/lib/python3.9/site-packages/tqdm/auto.py:21: TqdmWarning: IProgress not found. Please update jupyter and ipywidgets. See https://ipywidgets.readthedocs.io/en/stable/user_install.html\n",
      "  from .autonotebook import tqdm as notebook_tqdm\n"
     ]
    }
   ],
   "execution_count": 1
  },
  {
   "cell_type": "code",
   "source": [
    "import ssl\n",
    "ssl._create_default_https_context = ssl._create_unverified_context\n",
    "\n",
    "# Ensure necessary downloads\n",
    "nltk.download('punkt')\n",
    "nltk.download('punkt_tab')\n",
    "nltk.download('wordnet')\n",
    "nltk.download('averaged_perceptron_tagger')\n",
    "nltk.download('vader_lexicon')"
   ],
   "metadata": {
    "collapsed": false,
    "ExecuteTime": {
     "end_time": "2025-03-26T20:30:55.651683Z",
     "start_time": "2025-03-26T20:30:55.442767Z"
    }
   },
   "id": "c3fbdeea589a48e8",
   "outputs": [
    {
     "name": "stderr",
     "output_type": "stream",
     "text": [
      "[nltk_data] Downloading package punkt to /Users/souparna/nltk_data...\n",
      "[nltk_data]   Package punkt is already up-to-date!\n",
      "[nltk_data] Downloading package punkt_tab to\n",
      "[nltk_data]     /Users/souparna/nltk_data...\n",
      "[nltk_data]   Package punkt_tab is already up-to-date!\n",
      "[nltk_data] Downloading package wordnet to\n",
      "[nltk_data]     /Users/souparna/nltk_data...\n",
      "[nltk_data]   Package wordnet is already up-to-date!\n",
      "[nltk_data] Downloading package averaged_perceptron_tagger to\n",
      "[nltk_data]     /Users/souparna/nltk_data...\n",
      "[nltk_data]   Package averaged_perceptron_tagger is already up-to-\n",
      "[nltk_data]       date!\n",
      "[nltk_data] Downloading package vader_lexicon to\n",
      "[nltk_data]     /Users/souparna/nltk_data...\n",
      "[nltk_data]   Package vader_lexicon is already up-to-date!\n"
     ]
    },
    {
     "data": {
      "text/plain": [
       "True"
      ]
     },
     "execution_count": 2,
     "metadata": {},
     "output_type": "execute_result"
    }
   ],
   "execution_count": 2
  },
  {
   "cell_type": "markdown",
   "source": [
    "### Load and clean dataset"
   ],
   "metadata": {
    "collapsed": false
   },
   "id": "2e78d1029b3ae512"
  },
  {
   "cell_type": "code",
   "source": [
    "ds = load_dataset(\"ucberkeley-dlab/measuring-hate-speech\", split=\"train\")"
   ],
   "metadata": {
    "collapsed": false,
    "ExecuteTime": {
     "end_time": "2025-03-26T20:31:00.061450Z",
     "start_time": "2025-03-26T20:30:58.245734Z"
    }
   },
   "id": "bcd499b39d71ec69",
   "outputs": [],
   "execution_count": 3
  },
  {
   "cell_type": "code",
   "source": [
    "# chooses text from Platform 0, then retains only text and HS score columns\n",
    "filtered_ds = ds.filter(lambda x: x['platform'] == 0).select_columns(['text','hate_speech_score']) # Change HERE FOR YT REDDIT AND X TODO\n",
    "\n",
    "# converts data structure to Pandas DataFrame\n",
    "filtered_df = pd.DataFrame(filtered_ds)"
   ],
   "metadata": {
    "collapsed": false,
    "ExecuteTime": {
     "end_time": "2025-03-26T20:31:01.400201Z",
     "start_time": "2025-03-26T20:31:00.072367Z"
    }
   },
   "id": "1e05cb6849945044",
   "outputs": [],
   "execution_count": 4
  },
  {
   "cell_type": "code",
   "source": [
    "# Arabic Unicode range (General Arabic script: 0600–06FF, Arabic Supplement: 0750–077F, etc.)\n",
    "arabic_re = re.compile(r\"[\\u0600-\\u06FF\\u0750-\\u077F\\u08A0-\\u08FF\\uFB50-\\uFDFF\\uFE70-\\uFEFF]\")\n",
    "\n",
    "# Function to check if text contains Arabic script\n",
    "filtered_df = filtered_df[~filtered_df[\"text\"].str.contains(arabic_re, na=False)]"
   ],
   "metadata": {
    "collapsed": false,
    "ExecuteTime": {
     "end_time": "2025-03-26T20:31:01.460376Z",
     "start_time": "2025-03-26T20:31:01.417829Z"
    }
   },
   "id": "1ea35c520543ecce",
   "outputs": [],
   "execution_count": 5
  },
  {
   "cell_type": "code",
   "source": [
    "# collapse all entries with the same text into a single entry with a single hate_speech_score\n",
    "# the hate_speech_score in the dataset considers annotator labels as well as a weighting factor (annotator bias/severity)\n",
    "filtered_df = filtered_df.groupby('text', as_index=False).median('hate_speech_score')"
   ],
   "metadata": {
    "collapsed": false,
    "ExecuteTime": {
     "end_time": "2025-03-26T20:31:01.512426Z",
     "start_time": "2025-03-26T20:31:01.476710Z"
    }
   },
   "id": "b4f849c8222c4979",
   "outputs": [],
   "execution_count": 6
  },
  {
   "cell_type": "markdown",
   "source": [
    "questions that require more contextual understanding (not just counting verbs); what are the socially interesting questions? social-psychological background to all of this in write-up."
   ],
   "metadata": {
    "collapsed": false
   },
   "id": "7050c100baa1c84"
  },
  {
   "cell_type": "markdown",
   "source": [
    "# Text processing"
   ],
   "metadata": {
    "collapsed": false
   },
   "id": "e47ee8a55dd57ec3"
  },
  {
   "cell_type": "code",
   "source": [
    "tokenised_df = filtered_df.copy()\n",
    "# print(tokenised_df)"
   ],
   "metadata": {
    "collapsed": false,
    "ExecuteTime": {
     "end_time": "2025-03-26T20:31:01.519145Z",
     "start_time": "2025-03-26T20:31:01.516942Z"
    }
   },
   "id": "bf6fffa4e38ff8d9",
   "outputs": [],
   "execution_count": 7
  },
  {
   "metadata": {
    "ExecuteTime": {
     "end_time": "2025-03-27T09:16:15.875395Z",
     "start_time": "2025-03-27T09:16:15.199634Z"
    }
   },
   "cell_type": "code",
   "source": [
    "import matplotlib.pyplot as plt\n",
    "import seaborn as sns\n",
    "\n",
    "# Assuming `parsed_extractions_df` contains the hate speech scores\n",
    "# If it's in a different DataFrame, adjust accordingly\n",
    "\n",
    "# Plot histogram of hate speech scores\n",
    "plt.figure(figsize=(10, 6))\n",
    "sns.histplot(\n",
    "    data=tokenised_df,\n",
    "    x=\"hate_speech_score\",\n",
    "    bins=100,\n",
    "    stat=\"count\",\n",
    "    kde=False,\n",
    "    color=\"blue\"\n",
    ")\n",
    "\n",
    "plt.xlabel(\"Hate Speech Score\")\n",
    "plt.ylabel(\"Number of Entries\")\n",
    "plt.title(\"Distribution of Hate Speech Scores\")\n",
    "plt.grid(True)\n",
    "plt.tight_layout()\n",
    "\n",
    "# Save plot\n",
    "output_path = \"data_distribution.png\"\n",
    "plt.savefig(output_path, dpi=300)\n",
    "plt.show()\n"
   ],
   "id": "6888e4f8dee9b3c5",
   "outputs": [
    {
     "data": {
      "text/plain": [
       "<Figure size 1000x600 with 1 Axes>"
      ],
      "image/png": "[encoded data removed]"
     },
     "metadata": {},
     "output_type": "display_data"
    }
   ],
   "execution_count": 197
  },
  {
   "cell_type": "markdown",
   "source": [
    "## tokenise"
   ],
   "metadata": {
    "collapsed": false
   },
   "id": "8c09defe4b14c5f8"
  },
  {
   "cell_type": "code",
   "source": [
    "# Initialize Lemmatizer\n",
    "lemmatizer = WordNetLemmatizer()\n",
    "\n",
    "# Function to get POS tags compatible with WordNet\n",
    "def get_wordnet_pos(word):\n",
    "    tag = nltk.pos_tag([word])[0][1][0].upper()  # Get first letter of POS tag\n",
    "    tag_dict = {\"J\": wordnet.ADJ, \"N\": wordnet.NOUN, \"V\": wordnet.VERB, \"R\": wordnet.ADV}\n",
    "    return tag_dict.get(tag, wordnet.NOUN)  # Default to NOUN\n",
    "\n",
    "def get_tokens(example):\n",
    "    # # Define regex for tokenization\n",
    "    # pattern = r'''(?x)  # inline variant of VERBOSE flag\n",
    "    #     \\$?\\d+(?:\\.\\d+)?  # currency amounts in regex\n",
    "    #     | (?:[A-Z]\\.)+    # abbreviations\n",
    "    #     | \\w+             # any sequence of word characters\n",
    "    #     | [^\\w\\s]+        # sequences of punctuation\n",
    "    # '''\n",
    "    # \n",
    "    # # Tokenize text\n",
    "    # tokens = nltk.tokenize.regexp_tokenize(example['text'], pattern)\n",
    "    tokens = nltk.word_tokenize(example['text'])\n",
    "    # \n",
    "    # Remove punctuation, convert to lowercase, and filter emojis\n",
    "    tokens = [token.strip(string.punctuation).lower() for token in tokens]\n",
    "    tokens = [token for token in tokens if token and token.isascii()]\n",
    "    example['tokens'] = tokens\n",
    "    return example\n",
    "\n",
    "def get_string_tokens(example):\n",
    "    example['string_tokens'] = ' '.join(example['tokens'])\n",
    "    return example\n",
    "\n",
    "tokenised_df = tokenised_df.apply(get_tokens, axis=1)"
   ],
   "metadata": {
    "collapsed": false,
    "ExecuteTime": {
     "end_time": "2025-03-26T20:31:08.918293Z",
     "start_time": "2025-03-26T20:31:01.530558Z"
    }
   },
   "id": "ed39e39c893d4a49",
   "outputs": [],
   "execution_count": 8
  },
  {
   "metadata": {
    "ExecuteTime": {
     "end_time": "2025-03-26T20:31:12.557489Z",
     "start_time": "2025-03-26T20:31:08.959345Z"
    }
   },
   "cell_type": "code",
   "source": "tokenised_df = tokenised_df.apply(get_string_tokens, axis=1)",
   "id": "bef14e11ab621529",
   "outputs": [],
   "execution_count": 9
  },
  {
   "cell_type": "code",
   "source": [
    "def get_lemmas(example):\n",
    "    lemmatized_tokens = [lemmatizer.lemmatize(token, get_wordnet_pos(token)) for token in example['tokens']]\n",
    "    example['lemmas'] = lemmatized_tokens\n",
    "    return example\n",
    "\n",
    "tokenised_df = tokenised_df.apply(get_lemmas, axis=1)"
   ],
   "metadata": {
    "collapsed": false,
    "ExecuteTime": {
     "end_time": "2025-03-26T20:31:34.389200Z",
     "start_time": "2025-03-26T20:31:12.562026Z"
    }
   },
   "id": "74d3680a697c7e33",
   "outputs": [],
   "execution_count": 10
  },
  {
   "cell_type": "code",
   "source": [
    "print(tokenised_df)"
   ],
   "metadata": {
    "collapsed": false,
    "ExecuteTime": {
     "end_time": "2025-03-26T20:31:34.430067Z",
     "start_time": "2025-03-26T20:31:34.422602Z"
    }
   },
   "id": "af8788d985786cb7",
   "outputs": [
    {
     "name": "stdout",
     "output_type": "stream",
     "text": [
      "                                                    text  hate_speech_score  \\\n",
      "0      ! thank u! im transmasc and generally present ...              -3.92   \n",
      "1                              !Go fuck yourself faggot!               2.47   \n",
      "2                   !flair [I love women and minorities]              -4.48   \n",
      "3                 !flair [death to all niggers and gays]               3.28   \n",
      "4      \" *gulhfg* that's the sound of your mom suckin...               1.81   \n",
      "...                                                  ...                ...   \n",
      "15834   😉 First time posting here. I'll post more Asians              -1.22   \n",
      "15835  😍😍😍my God ur beautiful and Middle Eastern is e...              -3.83   \n",
      "15836                        🤡 gas yourself not the jews               1.98   \n",
      "15837  🤣🤣🤣🤣 disgusting sick gay fag, you deserve this...               1.62   \n",
      "15838  🤧  The limousine liberal Jews and WASPs who wa...               1.99   \n",
      "\n",
      "                                                  tokens  \\\n",
      "0      [thank, u, im, transmasc, and, generally, pres...   \n",
      "1                           [go, fuck, yourself, faggot]   \n",
      "2               [flair, i, love, women, and, minorities]   \n",
      "3            [flair, death, to, all, niggers, and, gays]   \n",
      "4      [gulhfg, that, s, the, sound, of, your, mom, s...   \n",
      "...                                                  ...   \n",
      "15834  [first, time, posting, here, i, ll, post, more...   \n",
      "15835  [god, ur, beautiful, and, middle, eastern, is,...   \n",
      "15836                    [gas, yourself, not, the, jews]   \n",
      "15837  [disgusting, sick, gay, fag, you, deserve, thi...   \n",
      "15838  [the, limousine, liberal, jews, and, wasps, wh...   \n",
      "\n",
      "                                           string_tokens  \\\n",
      "0      thank u im transmasc and generally present mas...   \n",
      "1                                go fuck yourself faggot   \n",
      "2                      flair i love women and minorities   \n",
      "3                    flair death to all niggers and gays   \n",
      "4      gulhfg that s the sound of your mom sucking my...   \n",
      "...                                                  ...   \n",
      "15834      first time posting here i ll post more asians   \n",
      "15835  god ur beautiful and middle eastern is even be...   \n",
      "15836                          gas yourself not the jews   \n",
      "15837  disgusting sick gay fag you deserve this go cr...   \n",
      "15838  the limousine liberal jews and wasps who want ...   \n",
      "\n",
      "                                                  lemmas  \n",
      "0      [thank, u, im, transmasc, and, generally, pres...  \n",
      "1                           [go, fuck, yourself, faggot]  \n",
      "2                 [flair, i, love, woman, and, minority]  \n",
      "3              [flair, death, to, all, nigger, and, gay]  \n",
      "4      [gulhfg, that, s, the, sound, of, your, mom, s...  \n",
      "...                                                  ...  \n",
      "15834  [first, time, post, here, i, ll, post, more, a...  \n",
      "15835  [god, ur, beautiful, and, middle, eastern, be,...  \n",
      "15836                     [gas, yourself, not, the, jew]  \n",
      "15837  [disgust, sick, gay, fag, you, deserve, this, ...  \n",
      "15838  [the, limousine, liberal, jew, and, wasp, who,...  \n",
      "\n",
      "[15839 rows x 5 columns]\n"
     ]
    }
   ],
   "execution_count": 11
  },
  {
   "cell_type": "code",
   "source": [
    "def weighted_hatespeech_score(df, column):\n",
    "    \"\"\"\n",
    "    Given a DataFrame with columns ['text', 'hate_speech_score'],\n",
    "    compute per-word stats:\n",
    "      1. The average hate_speech_score (avg_score).\n",
    "      2. The frequency (count of occurrences) of each word.\n",
    "      3. A weighted score = avg_score * frequency.\n",
    "\n",
    "    Returns a DataFrame with columns:\n",
    "        ['avg_score', 'frequency', 'weighted_score']\n",
    "    indexed by the word.\n",
    "    \"\"\"\n",
    "    # Store data in a dict of the form:\n",
    "    # { word: {\"scores\": [...], \"count\": int} }\n",
    "    word_data = defaultdict(lambda: {'scores': [], 'count': 0})\n",
    "\n",
    "    for _, row in df.iterrows():\n",
    "        score = row['hate_speech_score']\n",
    "        text = row[column]\n",
    "\n",
    "        # Simple whitespace-based tokenization\n",
    "        words = text\n",
    "\n",
    "        for w in words:\n",
    "            word_data[w]['scores'].append(score)\n",
    "            word_data[w]['count'] += 1\n",
    "\n",
    "    results = []\n",
    "    for word, data in word_data.items():\n",
    "        # Compute average score for the word\n",
    "        avg_score = sum(data['scores']) / len(data['scores'])\n",
    "\n",
    "        # Weighted measure: multiply the average by the frequency\n",
    "        weighted_score = avg_score * data['count']\n",
    "\n",
    "        results.append((\n",
    "            word,\n",
    "            avg_score,\n",
    "            data['count'],\n",
    "            weighted_score\n",
    "        ))\n",
    "\n",
    "    # Build results DataFrame\n",
    "    df_results = (pd.DataFrame(\n",
    "        results,\n",
    "        columns=['word', 'avg_score', 'frequency', 'weighted_score']\n",
    "    ))\n",
    "#.set_index('word'))\n",
    "\n",
    "    # Sort by weighted_score descending, so higher-impact words appear first\n",
    "    df_results.sort_values(by='weighted_score', ascending=False, inplace=True)\n",
    "\n",
    "    return df_results\n"
   ],
   "metadata": {
    "collapsed": false,
    "ExecuteTime": {
     "end_time": "2025-03-26T20:31:34.461477Z",
     "start_time": "2025-03-26T20:31:34.456495Z"
    }
   },
   "id": "2672689f5345ce61",
   "outputs": [],
   "execution_count": 12
  },
  {
   "cell_type": "code",
   "source": [
    "word_scores_df = weighted_hatespeech_score(tokenised_df, 'lemmas')"
   ],
   "metadata": {
    "collapsed": false,
    "ExecuteTime": {
     "end_time": "2025-03-26T20:31:35.046092Z",
     "start_time": "2025-03-26T20:31:34.488481Z"
    }
   },
   "id": "9d64ec00f556203e",
   "outputs": [],
   "execution_count": 13
  },
  {
   "cell_type": "code",
   "source": [
    "# Print the top 20 words by normalized weighted score\n",
    "print(word_scores_df.head(50))\n",
    "\n",
    "# Print the bottom 20 words by normalized weighted score\n",
    "print(word_scores_df.tail(50))"
   ],
   "metadata": {
    "collapsed": false,
    "ExecuteTime": {
     "end_time": "2025-03-27T09:17:48.247080Z",
     "start_time": "2025-03-27T09:17:48.210925Z"
    }
   },
   "id": "7d6413376af83e",
   "outputs": [
    {
     "name": "stdout",
     "output_type": "stream",
     "text": [
      "            word  avg_score  frequency  weighted_score\n",
      "37          fuck   0.471938       3900         1840.56\n",
      "39        faggot   1.313870        540          709.49\n",
      "264        bitch   0.929861        722          671.36\n",
      "161         cunt   1.149335        526          604.55\n",
      "147       retard   1.095722        395          432.81\n",
      "245        whore   1.284643        308          395.67\n",
      "193           as   0.406596        799          324.87\n",
      "46        nigger   1.596283        191          304.89\n",
      "130         slut   1.063688        263          279.75\n",
      "60          shit   0.197239       1007          198.62\n",
      "691         dumb   0.764715        246          188.12\n",
      "562          fag   0.955604        182          173.92\n",
      "548       stupid   0.457465        355          162.40\n",
      "444        piece   0.672403        233          156.67\n",
      "835         hole   0.633964        222          140.74\n",
      "229          fat   0.560383        235          131.69\n",
      "1060        shut   0.692021        188          130.10\n",
      "411    worthless   1.713529         68          116.52\n",
      "121          cum   0.269698        430          115.97\n",
      "1386       trash   0.668953        172          115.06\n",
      "196         kill   0.173944        611          106.28\n",
      "1718       dirty   1.246786         84          104.73\n",
      "78          ugly   0.749640        139          104.20\n",
      "399        mouth   0.378194        216           81.69\n",
      "55          dick   0.128719        609           78.39\n",
      "553          die   0.331191        235           77.83\n",
      "495       inbred   1.451400         50           72.57\n",
      "540         rape   0.335164        213           71.39\n",
      "763         scum   0.993913         69           68.58\n",
      "2397      filthy   1.548182         44           68.12\n",
      "1228    shithole   0.929718         71           66.01\n",
      "430        loser   0.546182        110           60.08\n",
      "983   degenerate   0.758718         78           59.18\n",
      "352         cock   0.088436        652           57.66\n",
      "1413     disgust   0.308929        168           51.90\n",
      "105          off   0.076533        672           51.43\n",
      "57        fuckin   0.514694         98           50.44\n",
      "441        brain   0.503939         99           49.89\n",
      "722        waste   0.724925         67           48.57\n",
      "2091          iq   0.815932         59           48.14\n",
      "841         nuke   0.866909         55           47.68\n",
      "82       useless   1.189487         39           46.39\n",
      "1767         hoe   0.488172         93           45.40\n",
      "5023        wipe   1.163846         39           45.39\n",
      "1315         rip   1.068718         39           41.68\n",
      "2179        slap   0.526753         77           40.56\n",
      "3991          ur   0.256516        155           39.76\n",
      "6456       choke   0.941905         42           39.56\n",
      "4936      tranny   1.100286         35           38.51\n",
      "579          pig   0.835652         46           38.44\n",
      "        word  avg_score  frequency  weighted_score\n",
      "148     from  -1.489107       1210        -1801.82\n",
      "1268    feel  -2.871399        636        -1826.21\n",
      "73       say  -1.615603       1203        -1943.57\n",
      "62      more  -1.937387       1018        -1972.26\n",
      "106     what  -1.276475       1597        -2038.53\n",
      "200      get  -0.859087       2387        -2050.64\n",
      "96      know  -1.962478       1045        -2050.79\n",
      "294     come  -2.327709        886        -2062.35\n",
      "480      can  -1.586322       1305        -2070.15\n",
      "183     make  -1.561276       1332        -2079.62\n",
      "31     there  -1.889520       1145        -2163.50\n",
      "685    think  -1.984959       1093        -2169.56\n",
      "41      love  -2.632460        882        -2321.83\n",
      "45       all  -1.112755       2127        -2366.83\n",
      "268       or  -1.708523       1510        -2579.87\n",
      "71       out  -1.746315       1490        -2602.01\n",
      "304      who  -1.689235       1543        -2606.49\n",
      "86        we  -1.680431       1576        -2648.36\n",
      "206       on  -1.214601       2267        -2753.50\n",
      "17     about  -1.908897       1460        -2786.99\n",
      "178       if  -1.516097       1942        -2944.26\n",
      "84      like  -1.134145       2601        -2949.91\n",
      "97      just  -1.434813       2136        -3064.76\n",
      "42     woman  -1.628832       1910        -3111.07\n",
      "184       me  -1.924755       1775        -3416.44\n",
      "85      this  -1.303809       2691        -3508.55\n",
      "14        so  -1.621464       2186        -3544.52\n",
      "278     they  -1.191080       3223        -3838.85\n",
      "202        m  -2.416579       1754        -4238.68\n",
      "83    people  -1.807844       2500        -4519.61\n",
      "276      not  -1.922323       2381        -4577.05\n",
      "261     with  -1.508124       3081        -4646.53\n",
      "24       but  -2.249577       2412        -5425.98\n",
      "34        my  -1.946759       3002        -5844.17\n",
      "219      for  -1.804120       3357        -6056.43\n",
      "94       n't  -1.605476       3857        -6192.32\n",
      "48         s  -1.621650       4163        -6750.93\n",
      "138     have  -1.736199       4012        -6965.63\n",
      "68        do  -1.632610       4276        -6981.04\n",
      "131       in  -1.461346       5148        -7523.01\n",
      "56       you  -0.792894       9800        -7770.36\n",
      "19      that  -1.570491       6229        -9782.59\n",
      "51        of  -1.451451       7120       -10334.33\n",
      "25        it  -1.952891       5627       -10988.92\n",
      "4        and  -1.513371      10692       -16180.96\n",
      "49       the  -1.332951      12405       -16535.26\n",
      "27        to  -1.553222      10796       -16768.59\n",
      "11         a  -1.466102      12831       -18811.56\n",
      "8          i  -2.082690      11526       -24005.08\n",
      "15        be  -1.678246      17096       -28691.30\n"
     ]
    }
   ],
   "execution_count": 198
  },
  {
   "metadata": {
    "ExecuteTime": {
     "end_time": "2025-03-27T10:25:22.524045Z",
     "start_time": "2025-03-27T10:25:22.357186Z"
    }
   },
   "cell_type": "code",
   "source": [
    "words_freq_sorted_df = sorted_word_scores_df = word_scores_df.sort_values(by=\"weighted_score\", ascending=False)\n",
    "\n",
    "top_100 = word_scores_df.sort_values(by=\"weighted_score\", ascending=False).head(100)\n",
    "bottom_100 = word_scores_df.sort_values(by=\"weighted_score\", ascending=True).head(100)\n",
    "\n",
    "# Export to CSV\n",
    "top_path = \"top_100_words_by_weighted_score.csv\"\n",
    "bottom_path = \"bottom_100_words_by_weighted_score.csv\"\n",
    "\n",
    "top_100[[\"word\", \"weighted_score\"]].to_csv(top_path, index=False)\n",
    "bottom_100[[\"word\", \"weighted_score\"]].to_csv(bottom_path, index=False)"
   ],
   "id": "6b065cf4e0441220",
   "outputs": [],
   "execution_count": 212
  },
  {
   "cell_type": "markdown",
   "source": [
    "## Part of speech tagging"
   ],
   "metadata": {
    "collapsed": false
   },
   "id": "3a0cac82aeff829f"
  },
  {
   "cell_type": "code",
   "source": [
    "# pos_df = tokenised_df.copy()\n",
    "# pos_df['tags'] = pos_df['tokens'].apply(nltk.pos_tag)\n",
    "\n",
    "# Load the small English model\n",
    "nlp = spacy.load(\"en_core_web_sm\")\n",
    "\n",
    "# Apply spaCy NLP pipeline to your DataFrame\n",
    "def spacy_pos_tag(text):\n",
    "    doc = nlp(text)\n",
    "    return [(token.text.lower(), token.tag_) for token in doc if token.is_ascii and token.is_alpha]  # tag_ gives detailed POS tags\n"
   ],
   "metadata": {
    "collapsed": false,
    "ExecuteTime": {
     "end_time": "2025-03-26T20:31:35.544904Z",
     "start_time": "2025-03-26T20:31:35.146409Z"
    }
   },
   "id": "ceef893f31a57c57",
   "outputs": [],
   "execution_count": 15
  },
  {
   "cell_type": "code",
   "source": [
    "pos_df = tokenised_df.copy()\n",
    "pos_df['tags'] = pos_df['text'].apply(spacy_pos_tag)"
   ],
   "metadata": {
    "collapsed": false,
    "ExecuteTime": {
     "end_time": "2025-03-26T20:33:48.383677Z",
     "start_time": "2025-03-26T20:31:35.561326Z"
    }
   },
   "id": "4508edbfdf7e0360",
   "outputs": [],
   "execution_count": 16
  },
  {
   "cell_type": "code",
   "source": [
    "print(pos_df)"
   ],
   "metadata": {
    "collapsed": false,
    "ExecuteTime": {
     "end_time": "2025-03-26T20:33:48.545320Z",
     "start_time": "2025-03-26T20:33:48.518850Z"
    }
   },
   "id": "77305b9985913492",
   "outputs": [
    {
     "name": "stdout",
     "output_type": "stream",
     "text": [
      "                                                    text  hate_speech_score  \\\n",
      "0      ! thank u! im transmasc and generally present ...              -3.92   \n",
      "1                              !Go fuck yourself faggot!               2.47   \n",
      "2                   !flair [I love women and minorities]              -4.48   \n",
      "3                 !flair [death to all niggers and gays]               3.28   \n",
      "4      \" *gulhfg* that's the sound of your mom suckin...               1.81   \n",
      "...                                                  ...                ...   \n",
      "15834   😉 First time posting here. I'll post more Asians              -1.22   \n",
      "15835  😍😍😍my God ur beautiful and Middle Eastern is e...              -3.83   \n",
      "15836                        🤡 gas yourself not the jews               1.98   \n",
      "15837  🤣🤣🤣🤣 disgusting sick gay fag, you deserve this...               1.62   \n",
      "15838  🤧  The limousine liberal Jews and WASPs who wa...               1.99   \n",
      "\n",
      "                                                  tokens  \\\n",
      "0      [thank, u, im, transmasc, and, generally, pres...   \n",
      "1                           [go, fuck, yourself, faggot]   \n",
      "2               [flair, i, love, women, and, minorities]   \n",
      "3            [flair, death, to, all, niggers, and, gays]   \n",
      "4      [gulhfg, that, s, the, sound, of, your, mom, s...   \n",
      "...                                                  ...   \n",
      "15834  [first, time, posting, here, i, ll, post, more...   \n",
      "15835  [god, ur, beautiful, and, middle, eastern, is,...   \n",
      "15836                    [gas, yourself, not, the, jews]   \n",
      "15837  [disgusting, sick, gay, fag, you, deserve, thi...   \n",
      "15838  [the, limousine, liberal, jews, and, wasps, wh...   \n",
      "\n",
      "                                           string_tokens  \\\n",
      "0      thank u im transmasc and generally present mas...   \n",
      "1                                go fuck yourself faggot   \n",
      "2                      flair i love women and minorities   \n",
      "3                    flair death to all niggers and gays   \n",
      "4      gulhfg that s the sound of your mom sucking my...   \n",
      "...                                                  ...   \n",
      "15834      first time posting here i ll post more asians   \n",
      "15835  god ur beautiful and middle eastern is even be...   \n",
      "15836                          gas yourself not the jews   \n",
      "15837  disgusting sick gay fag you deserve this go cr...   \n",
      "15838  the limousine liberal jews and wasps who want ...   \n",
      "\n",
      "                                                  lemmas  \\\n",
      "0      [thank, u, im, transmasc, and, generally, pres...   \n",
      "1                           [go, fuck, yourself, faggot]   \n",
      "2                 [flair, i, love, woman, and, minority]   \n",
      "3              [flair, death, to, all, nigger, and, gay]   \n",
      "4      [gulhfg, that, s, the, sound, of, your, mom, s...   \n",
      "...                                                  ...   \n",
      "15834  [first, time, post, here, i, ll, post, more, a...   \n",
      "15835  [god, ur, beautiful, and, middle, eastern, be,...   \n",
      "15836                     [gas, yourself, not, the, jew]   \n",
      "15837  [disgust, sick, gay, fag, you, deserve, this, ...   \n",
      "15838  [the, limousine, liberal, jew, and, wasp, who,...   \n",
      "\n",
      "                                                    tags  \n",
      "0      [(thank, VBP), (u, NNP), (i, PRP), (m, VBP), (...  \n",
      "1      [(go, VB), (fuck, NN), (yourself, PRP), (faggo...  \n",
      "2      [(flair, NN), (i, PRP), (love, VBP), (women, N...  \n",
      "3      [(flair, NN), (death, NN), (to, IN), (all, DT)...  \n",
      "4      [(gulhfg, VB), (that, DT), (the, DT), (sound, ...  \n",
      "...                                                  ...  \n",
      "15834  [(first, NNP), (time, NN), (posting, VBG), (he...  \n",
      "15835  [(my, PRP$), (god, NNP), (ur, VBP), (beautiful...  \n",
      "15836  [(gas, NN), (yourself, PRP), (not, RB), (the, ...  \n",
      "15837  [(disgusting, VBG), (sick, JJ), (gay, NN), (fa...  \n",
      "15838  [(the, DT), (limousine, NN), (liberal, JJ), (j...  \n",
      "\n",
      "[15839 rows x 6 columns]\n"
     ]
    }
   ],
   "execution_count": 17
  },
  {
   "cell_type": "code",
   "source": [
    "# separate nouns and verbs\n",
    "pos_df['nouns'] = pos_df['tags'].apply(lambda row: [tag[0] for tag in row if tag[1].startswith(\"NN\")])\n",
    "\n",
    "# Define the contraction replacements\n",
    "contraction_map = {\"m\": \"am\", \"s\": \"is\", \"ll\": \"will\", \"re\": \"are\", \"ve\": \"have\"}\n",
    "\n",
    "# Extract verbs and replace contractions\n",
    "pos_df['verbs'] = pos_df['tags'].apply(\n",
    "    lambda row: [contraction_map.get(tag[0], tag[0]) for tag in row if tag[1].startswith(\"VB\")]\n",
    ")"
   ],
   "metadata": {
    "collapsed": false,
    "ExecuteTime": {
     "end_time": "2025-03-26T20:33:48.742362Z",
     "start_time": "2025-03-26T20:33:48.591169Z"
    }
   },
   "id": "97d21bab163d1e0",
   "outputs": [],
   "execution_count": 18
  },
  {
   "cell_type": "code",
   "source": [
    "print(pos_df)"
   ],
   "metadata": {
    "collapsed": false,
    "ExecuteTime": {
     "end_time": "2025-03-26T20:33:48.777058Z",
     "start_time": "2025-03-26T20:33:48.757188Z"
    }
   },
   "id": "5623ca1795ec41bd",
   "outputs": [
    {
     "name": "stdout",
     "output_type": "stream",
     "text": [
      "                                                    text  hate_speech_score  \\\n",
      "0      ! thank u! im transmasc and generally present ...              -3.92   \n",
      "1                              !Go fuck yourself faggot!               2.47   \n",
      "2                   !flair [I love women and minorities]              -4.48   \n",
      "3                 !flair [death to all niggers and gays]               3.28   \n",
      "4      \" *gulhfg* that's the sound of your mom suckin...               1.81   \n",
      "...                                                  ...                ...   \n",
      "15834   😉 First time posting here. I'll post more Asians              -1.22   \n",
      "15835  😍😍😍my God ur beautiful and Middle Eastern is e...              -3.83   \n",
      "15836                        🤡 gas yourself not the jews               1.98   \n",
      "15837  🤣🤣🤣🤣 disgusting sick gay fag, you deserve this...               1.62   \n",
      "15838  🤧  The limousine liberal Jews and WASPs who wa...               1.99   \n",
      "\n",
      "                                                  tokens  \\\n",
      "0      [thank, u, im, transmasc, and, generally, pres...   \n",
      "1                           [go, fuck, yourself, faggot]   \n",
      "2               [flair, i, love, women, and, minorities]   \n",
      "3            [flair, death, to, all, niggers, and, gays]   \n",
      "4      [gulhfg, that, s, the, sound, of, your, mom, s...   \n",
      "...                                                  ...   \n",
      "15834  [first, time, posting, here, i, ll, post, more...   \n",
      "15835  [god, ur, beautiful, and, middle, eastern, is,...   \n",
      "15836                    [gas, yourself, not, the, jews]   \n",
      "15837  [disgusting, sick, gay, fag, you, deserve, thi...   \n",
      "15838  [the, limousine, liberal, jews, and, wasps, wh...   \n",
      "\n",
      "                                           string_tokens  \\\n",
      "0      thank u im transmasc and generally present mas...   \n",
      "1                                go fuck yourself faggot   \n",
      "2                      flair i love women and minorities   \n",
      "3                    flair death to all niggers and gays   \n",
      "4      gulhfg that s the sound of your mom sucking my...   \n",
      "...                                                  ...   \n",
      "15834      first time posting here i ll post more asians   \n",
      "15835  god ur beautiful and middle eastern is even be...   \n",
      "15836                          gas yourself not the jews   \n",
      "15837  disgusting sick gay fag you deserve this go cr...   \n",
      "15838  the limousine liberal jews and wasps who want ...   \n",
      "\n",
      "                                                  lemmas  \\\n",
      "0      [thank, u, im, transmasc, and, generally, pres...   \n",
      "1                           [go, fuck, yourself, faggot]   \n",
      "2                 [flair, i, love, woman, and, minority]   \n",
      "3              [flair, death, to, all, nigger, and, gay]   \n",
      "4      [gulhfg, that, s, the, sound, of, your, mom, s...   \n",
      "...                                                  ...   \n",
      "15834  [first, time, post, here, i, ll, post, more, a...   \n",
      "15835  [god, ur, beautiful, and, middle, eastern, be,...   \n",
      "15836                     [gas, yourself, not, the, jew]   \n",
      "15837  [disgust, sick, gay, fag, you, deserve, this, ...   \n",
      "15838  [the, limousine, liberal, jew, and, wasp, who,...   \n",
      "\n",
      "                                                    tags  \\\n",
      "0      [(thank, VBP), (u, NNP), (i, PRP), (m, VBP), (...   \n",
      "1      [(go, VB), (fuck, NN), (yourself, PRP), (faggo...   \n",
      "2      [(flair, NN), (i, PRP), (love, VBP), (women, N...   \n",
      "3      [(flair, NN), (death, NN), (to, IN), (all, DT)...   \n",
      "4      [(gulhfg, VB), (that, DT), (the, DT), (sound, ...   \n",
      "...                                                  ...   \n",
      "15834  [(first, NNP), (time, NN), (posting, VBG), (he...   \n",
      "15835  [(my, PRP$), (god, NNP), (ur, VBP), (beautiful...   \n",
      "15836  [(gas, NN), (yourself, PRP), (not, RB), (the, ...   \n",
      "15837  [(disgusting, VBG), (sick, JJ), (gay, NN), (fa...   \n",
      "15838  [(the, DT), (limousine, NN), (liberal, JJ), (j...   \n",
      "\n",
      "                                                   nouns  \\\n",
      "0             [u, transmasc, bit, good, things, lesbian]   \n",
      "1                                                 [fuck]   \n",
      "2                             [flair, women, minorities]   \n",
      "3                          [flair, death, niggers, gays]   \n",
      "4      [sound, mom, dick, fuckin, homo, n, shit, r, k...   \n",
      "...                                                  ...   \n",
      "15834                              [first, time, asians]   \n",
      "15835                                     [god, eastern]   \n",
      "15836                                        [gas, jews]   \n",
      "15837  [gay, fag, pride, parade, hundreds, std, men, ...   \n",
      "15838  [limousine, jews, wasps, guilt, sjw, gays, nig...   \n",
      "\n",
      "                                                   verbs  \n",
      "0      [thank, am, look, was, wondering, go, am, were...  \n",
      "1                                           [go, faggot]  \n",
      "2                                                 [love]  \n",
      "3                                                     []  \n",
      "4                                 [gulhfg, sucking, was]  \n",
      "...                                                  ...  \n",
      "15834                                    [posting, post]  \n",
      "15835                                           [ur, is]  \n",
      "15836                                                 []  \n",
      "15837           [disgusting, deserve, go, cry, be, fuck]  \n",
      "15838  [want, assuage, maladjusted, pester, bother, l...  \n",
      "\n",
      "[15839 rows x 8 columns]\n"
     ]
    }
   ],
   "execution_count": 19
  },
  {
   "metadata": {},
   "cell_type": "code",
   "outputs": [],
   "execution_count": null,
   "source": "",
   "id": "975cd97e533548fb"
  },
  {
   "metadata": {
    "ExecuteTime": {
     "end_time": "2025-03-26T20:33:48.797335Z",
     "start_time": "2025-03-26T20:33:48.794150Z"
    }
   },
   "cell_type": "code",
   "source": [
    "# import json\n",
    "# import pandas as pd\n",
    "# from pycorenlp import StanfordCoreNLP\n",
    "#\n",
    "# def extract_thematic_roles(df, text_col=\"text\", server_url=\"http://localhost:9000\"):\n",
    "#     # Connect to the CoreNLP server\n",
    "#     nlp = StanfordCoreNLP(server_url)\n",
    "#\n",
    "#     # Include natlog as recommended by CoreNLP for OpenIE\n",
    "#     properties = {\n",
    "#         'annotators': 'tokenize,ssplit,pos,lemma,depparse,natlog,openie',\n",
    "#         'outputFormat': 'json'\n",
    "#     }\n",
    "#\n",
    "#     def process_text(text):\n",
    "#         # Annotate the text\n",
    "#         response = nlp.annotate(text, properties=properties)\n",
    "#         # If response is a string, convert it to a dict\n",
    "#         if isinstance(response, str):\n",
    "#             response = json.loads(response)\n",
    "#         # For debugging, print keys to check if \"openie\" exists:\n",
    "#         print(\"DEBUG keys for:\", text, list(response.keys()))\n",
    "#         triples = []\n",
    "#         if isinstance(response, dict) and \"sentences\" in response:\n",
    "#             for sentence in response[\"sentences\"]:\n",
    "#                 if \"openie\" in sentence:\n",
    "#                     for triple in sentence[\"openie\"]:\n",
    "#                         triples.append(triple)\n",
    "#         return triples\n",
    "#\n",
    "#     # Apply processing to each row in the DataFrame\n",
    "#     df[\"thematic_roles\"] = df[text_col].apply(process_text)\n",
    "#     return df\n",
    "#\n",
    "# # Example usage:\n",
    "# data = {\"text\": [\"John sold the car to Mary.\", \"Alice gave Bob a book.\", \" I sold Mary a car.\"]}\n",
    "# pos_df = pd.DataFrame(data)\n",
    "#\n",
    "# # Extract thematic roles\n",
    "# result_df = extract_thematic_roles(pos_df)\n",
    "# print(result_df[[\"text\", \"thematic_roles\"]])\n"
   ],
   "id": "aeb424293aa8cff3",
   "outputs": [],
   "execution_count": 20
  },
  {
   "metadata": {
    "ExecuteTime": {
     "end_time": "2025-03-26T20:33:48.843962Z",
     "start_time": "2025-03-26T20:33:48.824548Z"
    }
   },
   "cell_type": "code",
   "source": "print(pos_df)",
   "id": "9e3d68d60a666c9d",
   "outputs": [
    {
     "name": "stdout",
     "output_type": "stream",
     "text": [
      "                                                    text  hate_speech_score  \\\n",
      "0      ! thank u! im transmasc and generally present ...              -3.92   \n",
      "1                              !Go fuck yourself faggot!               2.47   \n",
      "2                   !flair [I love women and minorities]              -4.48   \n",
      "3                 !flair [death to all niggers and gays]               3.28   \n",
      "4      \" *gulhfg* that's the sound of your mom suckin...               1.81   \n",
      "...                                                  ...                ...   \n",
      "15834   😉 First time posting here. I'll post more Asians              -1.22   \n",
      "15835  😍😍😍my God ur beautiful and Middle Eastern is e...              -3.83   \n",
      "15836                        🤡 gas yourself not the jews               1.98   \n",
      "15837  🤣🤣🤣🤣 disgusting sick gay fag, you deserve this...               1.62   \n",
      "15838  🤧  The limousine liberal Jews and WASPs who wa...               1.99   \n",
      "\n",
      "                                                  tokens  \\\n",
      "0      [thank, u, im, transmasc, and, generally, pres...   \n",
      "1                           [go, fuck, yourself, faggot]   \n",
      "2               [flair, i, love, women, and, minorities]   \n",
      "3            [flair, death, to, all, niggers, and, gays]   \n",
      "4      [gulhfg, that, s, the, sound, of, your, mom, s...   \n",
      "...                                                  ...   \n",
      "15834  [first, time, posting, here, i, ll, post, more...   \n",
      "15835  [god, ur, beautiful, and, middle, eastern, is,...   \n",
      "15836                    [gas, yourself, not, the, jews]   \n",
      "15837  [disgusting, sick, gay, fag, you, deserve, thi...   \n",
      "15838  [the, limousine, liberal, jews, and, wasps, wh...   \n",
      "\n",
      "                                           string_tokens  \\\n",
      "0      thank u im transmasc and generally present mas...   \n",
      "1                                go fuck yourself faggot   \n",
      "2                      flair i love women and minorities   \n",
      "3                    flair death to all niggers and gays   \n",
      "4      gulhfg that s the sound of your mom sucking my...   \n",
      "...                                                  ...   \n",
      "15834      first time posting here i ll post more asians   \n",
      "15835  god ur beautiful and middle eastern is even be...   \n",
      "15836                          gas yourself not the jews   \n",
      "15837  disgusting sick gay fag you deserve this go cr...   \n",
      "15838  the limousine liberal jews and wasps who want ...   \n",
      "\n",
      "                                                  lemmas  \\\n",
      "0      [thank, u, im, transmasc, and, generally, pres...   \n",
      "1                           [go, fuck, yourself, faggot]   \n",
      "2                 [flair, i, love, woman, and, minority]   \n",
      "3              [flair, death, to, all, nigger, and, gay]   \n",
      "4      [gulhfg, that, s, the, sound, of, your, mom, s...   \n",
      "...                                                  ...   \n",
      "15834  [first, time, post, here, i, ll, post, more, a...   \n",
      "15835  [god, ur, beautiful, and, middle, eastern, be,...   \n",
      "15836                     [gas, yourself, not, the, jew]   \n",
      "15837  [disgust, sick, gay, fag, you, deserve, this, ...   \n",
      "15838  [the, limousine, liberal, jew, and, wasp, who,...   \n",
      "\n",
      "                                                    tags  \\\n",
      "0      [(thank, VBP), (u, NNP), (i, PRP), (m, VBP), (...   \n",
      "1      [(go, VB), (fuck, NN), (yourself, PRP), (faggo...   \n",
      "2      [(flair, NN), (i, PRP), (love, VBP), (women, N...   \n",
      "3      [(flair, NN), (death, NN), (to, IN), (all, DT)...   \n",
      "4      [(gulhfg, VB), (that, DT), (the, DT), (sound, ...   \n",
      "...                                                  ...   \n",
      "15834  [(first, NNP), (time, NN), (posting, VBG), (he...   \n",
      "15835  [(my, PRP$), (god, NNP), (ur, VBP), (beautiful...   \n",
      "15836  [(gas, NN), (yourself, PRP), (not, RB), (the, ...   \n",
      "15837  [(disgusting, VBG), (sick, JJ), (gay, NN), (fa...   \n",
      "15838  [(the, DT), (limousine, NN), (liberal, JJ), (j...   \n",
      "\n",
      "                                                   nouns  \\\n",
      "0             [u, transmasc, bit, good, things, lesbian]   \n",
      "1                                                 [fuck]   \n",
      "2                             [flair, women, minorities]   \n",
      "3                          [flair, death, niggers, gays]   \n",
      "4      [sound, mom, dick, fuckin, homo, n, shit, r, k...   \n",
      "...                                                  ...   \n",
      "15834                              [first, time, asians]   \n",
      "15835                                     [god, eastern]   \n",
      "15836                                        [gas, jews]   \n",
      "15837  [gay, fag, pride, parade, hundreds, std, men, ...   \n",
      "15838  [limousine, jews, wasps, guilt, sjw, gays, nig...   \n",
      "\n",
      "                                                   verbs  \n",
      "0      [thank, am, look, was, wondering, go, am, were...  \n",
      "1                                           [go, faggot]  \n",
      "2                                                 [love]  \n",
      "3                                                     []  \n",
      "4                                 [gulhfg, sucking, was]  \n",
      "...                                                  ...  \n",
      "15834                                    [posting, post]  \n",
      "15835                                           [ur, is]  \n",
      "15836                                                 []  \n",
      "15837           [disgusting, deserve, go, cry, be, fuck]  \n",
      "15838  [want, assuage, maladjusted, pester, bother, l...  \n",
      "\n",
      "[15839 rows x 8 columns]\n"
     ]
    }
   ],
   "execution_count": 21
  },
  {
   "metadata": {},
   "cell_type": "code",
   "outputs": [],
   "execution_count": null,
   "source": "",
   "id": "a1c9acffbd2fec21"
  },
  {
   "metadata": {
    "ExecuteTime": {
     "end_time": "2025-03-27T09:33:42.045482Z",
     "start_time": "2025-03-27T09:33:41.927011Z"
    }
   },
   "cell_type": "code",
   "source": "pos_df[\"text_length\"] = pos_df[\"text\"].apply(lambda x: len(str(x).split()))l",
   "id": "a4a13bf1eed01abb",
   "outputs": [],
   "execution_count": 204
  },
  {
   "metadata": {
    "ExecuteTime": {
     "end_time": "2025-03-27T09:33:47.194267Z",
     "start_time": "2025-03-27T09:33:46.584970Z"
    }
   },
   "cell_type": "code",
   "source": [
    "import pandas as pd\n",
    "import matplotlib.pyplot as plt\n",
    "import seaborn as sns\n",
    "\n",
    "# Check if the DataFrame is loaded; if not, we'll create a placeholder\n",
    "\n",
    "df = pos_df.copy()\n",
    "\n",
    "# Categorize the entries\n",
    "def categorize_hs(score):\n",
    "    if score > 0.5:\n",
    "        return \"Hate speech\"\n",
    "    elif score < -1:\n",
    "        return \"Non hate speech\"\n",
    "    else:\n",
    "        return \"Neutal speech\"\n",
    "\n",
    "df[\"speech_category\"] = df[\"hate_speech_score\"].apply(categorize_hs)\n",
    "\n",
    "# Compute average text length per category\n",
    "avg_text_lengths = df.groupby(\"speech_category\")[\"text_length\"].mean().reset_index()\n",
    "\n",
    "# Reorder the categories to bring 'regular_speech' to the center\n",
    "category_order = [\"Non hate speech\", \"Neutal speech\", \"Hate speech\"]\n",
    "\n",
    "# Plot again with the new order\n",
    "plt.figure(figsize=(8, 6))\n",
    "sns.barplot(data=avg_text_lengths, x=\"speech_category\", y=\"text_length\", order=category_order, palette=\"muted\")\n",
    "plt.xlabel(\"Speech Category\")\n",
    "plt.ylabel(\"Average Text Length\")\n",
    "plt.title(\"Average Text Length by Speech Category\")\n",
    "plt.tight_layout()\n",
    "\n",
    "# Save updated plot\n",
    "output_path = \"speech_category_text_len.png\"\n",
    "plt.savefig(output_path, dpi=300)\n",
    "plt.show()\n"
   ],
   "id": "c2ad67eff65f0115",
   "outputs": [
    {
     "name": "stderr",
     "output_type": "stream",
     "text": [
      "/var/folders/ws/94nxr4hn0h958g2tjwnjtlxh0000gn/T/ipykernel_85132/3654384015.py:28: FutureWarning: \n",
      "\n",
      "Passing `palette` without assigning `hue` is deprecated and will be removed in v0.14.0. Assign the `x` variable to `hue` and set `legend=False` for the same effect.\n",
      "\n",
      "  sns.barplot(data=avg_text_lengths, x=\"speech_category\", y=\"text_length\", order=category_order, palette=\"muted\")\n"
     ]
    },
    {
     "data": {
      "text/plain": [
       "<Figure size 800x600 with 1 Axes>"
      ],
      "image/png": "[encoded data removed]"
     },
     "metadata": {},
     "output_type": "display_data"
    }
   ],
   "execution_count": 205
  },
  {
   "metadata": {
    "ExecuteTime": {
     "end_time": "2025-03-27T11:11:11.358826Z",
     "start_time": "2025-03-27T11:11:11.057752Z"
    }
   },
   "cell_type": "code",
   "source": [
    "### Noun Verb Count Function\n",
    "import pandas as pd\n",
    "\n",
    "# 1) Flatten (explode) each column\n",
    "nouns_exploded = pos_df.explode('nouns')   # turn list-like nouns into one entry per row\n",
    "verbs_exploded = pos_df.explode('verbs')   # same for verbs\n",
    "\n",
    "# 2) Count how often each noun appears\n",
    "noun_counts = nouns_exploded['nouns'].value_counts().reset_index()\n",
    "noun_counts.columns = ['noun', 'frequency']\n",
    "\n",
    "# 3) Count how often each verb appears\n",
    "verb_counts = verbs_exploded['verbs'].value_counts().reset_index()\n",
    "verb_counts.columns = ['verb', 'frequency']\n",
    "\n",
    "# Merge nouns with scores\n",
    "nouns_with_score = noun_counts.merge(\n",
    "    word_scores_df[['word', 'weighted_score']],\n",
    "    how='left',\n",
    "    left_on='noun',\n",
    "    right_on='word'\n",
    ")\n",
    "\n",
    "# Merge verbs with scores (use 'verb' instead of 'noun')\n",
    "verbs_with_score = verb_counts.merge(\n",
    "    word_scores_df[['word', 'weighted_score']],\n",
    "    how='left',\n",
    "    left_on='verb',      # <-- CHANGE HERE\n",
    "    right_on='word'\n",
    ")\n",
    "\n",
    "print(nouns_with_score.head())\n",
    "print(verbs_with_score.head())\n",
    "# 1) Sort descending for top 100\n",
    "top_100_nouns = nouns_with_score.sort_values(by=\"weighted_score\", ascending=False).head(100)\n",
    "top_100_nouns[['noun','weighted_score']].to_csv(\"top_100_nouns.csv\", index=False)\n",
    "\n",
    "# 2) Sort ascending for bottom 100\n",
    "bottom_100_nouns = nouns_with_score.sort_values(by=\"weighted_score\", ascending=True).head(100)\n",
    "bottom_100_nouns[['noun','weighted_score']].to_csv(\"bottom_100_nouns.csv\", index=False)\n",
    "# 1) Sort descending for top 100 verbs\n",
    "top_100_verbs = verbs_with_score.sort_values(by=\"weighted_score\", ascending=False).head(100)\n",
    "top_100_verbs[['verb','weighted_score']].to_csv(\"top_100_verbs.csv\", index=False)\n",
    "\n",
    "# 2) Sort ascending for bottom 100 verbs\n",
    "bottom_100_verbs = verbs_with_score.sort_values(by=\"weighted_score\", ascending=True).head(100)\n",
    "bottom_100_verbs[['verb','weighted_score']].to_csv(\"bottom_100_verbs.csv\", index=False)\n"
   ],
   "id": "43917317f6a96870",
   "outputs": [
    {
     "name": "stdout",
     "output_type": "stream",
     "text": [
      "     noun  frequency    word  weighted_score\n",
      "0  people       2489  people        -4519.61\n",
      "1   women       1331     NaN             NaN\n",
      "2    fuck       1001    fuck         1840.56\n",
      "3    shit        879    shit          198.62\n",
      "4     ass        766     ass           12.90\n",
      "   verb  frequency  word  weighted_score\n",
      "0    is       5675   NaN             NaN\n",
      "1   are       4122   NaN             NaN\n",
      "2    be       3038    be       -28691.30\n",
      "3    do       2884    do        -6981.04\n",
      "4  have       2555  have        -6965.63\n"
     ]
    }
   ],
   "execution_count": 218
  },
  {
   "metadata": {
    "ExecuteTime": {
     "end_time": "2025-03-26T20:33:48.887167Z",
     "start_time": "2025-03-26T20:33:48.849838Z"
    }
   },
   "cell_type": "code",
   "source": [
    "import json\n",
    "import pandas as pd\n",
    "from pycorenlp import StanfordCoreNLP\n",
    "\n",
    "def extract_thematic_roles(df, text_col=\"text\", server_url=\"http://localhost:9000\"):\n",
    "    # Connect to the CoreNLP server\n",
    "    nlp = StanfordCoreNLP(server_url)\n",
    "\n",
    "    # Request all necessary annotators, including natlog for proper OpenIE extractions.\n",
    "    properties = {\n",
    "        'annotators': 'tokenize,ssplit,pos,lemma,depparse,natlog,openie',\n",
    "        'outputFormat': 'json'\n",
    "    }\n",
    "\n",
    "    def process_text(text):\n",
    "        response = nlp.annotate(text, properties=properties)\n",
    "        # Convert to dict if needed.\n",
    "        if isinstance(response, str):\n",
    "            response = json.loads(response)\n",
    "        triples = []\n",
    "        if isinstance(response, dict) and \"sentences\" in response:\n",
    "            for sentence in response[\"sentences\"]:\n",
    "                if \"openie\" in sentence:\n",
    "                    for triple in sentence[\"openie\"]:\n",
    "                        triples.append(triple)\n",
    "        return triples\n",
    "\n",
    "    df[\"thematic_roles\"] = df[text_col].apply(process_text)\n",
    "    return df\n",
    "\n",
    "def label_tokens_for_text(tokens, thematic_roles):\n",
    "    \"\"\"\n",
    "    Given a list of tokens and a list of OpenIE triples,\n",
    "    assign each token a label (in BIO format) based on the union of all spans.\n",
    "\n",
    "    The priority is: subject > relation > object.\n",
    "    Tokens outside any span are marked as \"O\".\n",
    "    \"\"\"\n",
    "    subject_set = set()\n",
    "    relation_set = set()\n",
    "    object_set = set()\n",
    "\n",
    "    for triple in thematic_roles:\n",
    "        if \"subjectSpan\" in triple:\n",
    "            s_start, s_end = triple[\"subjectSpan\"]\n",
    "            subject_set.update(range(s_start, s_end))\n",
    "        if \"relationSpan\" in triple:\n",
    "            r_start, r_end = triple[\"relationSpan\"]\n",
    "            relation_set.update(range(r_start, r_end))\n",
    "        if \"objectSpan\" in triple:\n",
    "            o_start, o_end = triple[\"objectSpan\"]\n",
    "            object_set.update(range(o_start, o_end))\n",
    "\n",
    "    # Assign a preliminary role to each token with priority subject > relation > object.\n",
    "    prelim = []\n",
    "    for i in range(len(tokens)):\n",
    "        if i in subject_set:\n",
    "            prelim.append(\"subject\")\n",
    "        elif i in relation_set:\n",
    "            prelim.append(\"relation\")\n",
    "        elif i in object_set:\n",
    "            prelim.append(\"object\")\n",
    "        else:\n",
    "            prelim.append(\"O\")\n",
    "\n",
    "    # Convert to BIO format: mark the beginning of each segment with \"B-\" and continuation with \"I-\"\n",
    "    labels = []\n",
    "    for i, role in enumerate(prelim):\n",
    "        if role == \"O\":\n",
    "            labels.append(\"O\")\n",
    "        else:\n",
    "            if i == 0 or prelim[i-1] != role:\n",
    "                labels.append(\"B-\" + role)\n",
    "            else:\n",
    "                labels.append(\"I-\" + role)\n",
    "    return labels\n",
    "\n",
    "def add_token_labels(df):\n",
    "    \"\"\"\n",
    "    Assumes the DataFrame has a \"tokens\" column and a \"thematic_roles\" column.\n",
    "    Adds a new column \"token_labels\" that contains the BIO labels for each token.\n",
    "    Supports multiple triples by taking the union of spans.\n",
    "    \"\"\"\n",
    "    def label_row(row):\n",
    "        tokens = row[\"tokens\"]\n",
    "        triples = row[\"thematic_roles\"]\n",
    "        return label_tokens_for_text(tokens, triples)\n",
    "    df[\"token_labels\"] = df.apply(label_row, axis=1)\n",
    "    return df\n"
   ],
   "id": "ef0f3cd451690429",
   "outputs": [],
   "execution_count": 22
  },
  {
   "metadata": {},
   "cell_type": "code",
   "outputs": [],
   "execution_count": null,
   "source": "",
   "id": "3576a4293506b8cc"
  },
  {
   "metadata": {},
   "cell_type": "markdown",
   "source": "### Stanford Subject verb obj tagger ( not used anymore )",
   "id": "240c4c922669de7f"
  },
  {
   "metadata": {
    "ExecuteTime": {
     "end_time": "2025-03-26T20:33:48.971402Z",
     "start_time": "2025-03-26T20:33:48.968682Z"
    }
   },
   "cell_type": "code",
   "source": [
    "# thematic_ish_df = extract_thematic_roles(pos_df,\"text\")\n",
    "# thematic_ish_df = add_token_labels(thematic_ish_df)\n",
    "# print(thematic_ish_df)"
   ],
   "id": "f91cf49a44335289",
   "outputs": [],
   "execution_count": 23
  },
  {
   "metadata": {
    "ExecuteTime": {
     "end_time": "2025-03-26T20:33:48.980702Z",
     "start_time": "2025-03-26T20:33:48.978726Z"
    }
   },
   "cell_type": "code",
   "source": "# print(thematic_ish_df)\n",
   "id": "332f8567a82ee449",
   "outputs": [],
   "execution_count": 24
  },
  {
   "metadata": {},
   "cell_type": "markdown",
   "source": "### PoliteNess Markers",
   "id": "24695d4ccb4d9b97"
  },
  {
   "metadata": {
    "ExecuteTime": {
     "end_time": "2025-03-26T21:14:00.305129Z",
     "start_time": "2025-03-26T21:14:00.292815Z"
    }
   },
   "cell_type": "code",
   "source": [
    "# Sample politeness markers categorized\n",
    "politeness_markers = {\n",
    "    \"exact\": [\n",
    "        \"please\", \"thank you\", \"thanks\", \"excuse me\", \"pardon me\", \"I appreciate it\", \"I’d really appreciate it\"\n",
    "    ],\n",
    "    \"regex\": {\n",
    "        \"modals\": r\"\\b(could|would|might|may)\\b.*?\\b(you|we|I)\\b\",\n",
    "        \"hedging\": r\"\\b(I think|maybe|perhaps|it seems|possibly)\\b\",\n",
    "        \"apologies\": r\"\\b(I['’]?m sorry|excuse me|pardon me|I hate to ask|I hope I['’]?m not interrupting)\\b\",\n",
    "        \"tentative\": r\"\\b(just|a little|if you don['’]?t mind|would you mind if)\\b\",\n",
    "        \"token_agreement\": r\"\\b(I see your point|That['’]?s a good idea|I understand what you mean),? but\\b\",\n",
    "        \"impersonalization\": r\"\\b(it would be great if|there seems to be|one might consider|some people think)\\b\"\n",
    "    }\n",
    "}\n",
    "\n",
    "# Function to search for politeness markers\n",
    "def detect_politeness(df):\n",
    "    text = df['string_tokens']\n",
    "    found_markers = []\n",
    "\n",
    "    # Check for exact matches\n",
    "    for marker in politeness_markers[\"exact\"]:\n",
    "        if marker.lower() in text.lower():\n",
    "            found_markers.append(marker)\n",
    "\n",
    "    # Check for regex matches\n",
    "    for category, pattern in politeness_markers[\"regex\"].items():\n",
    "        if re.search(pattern, text, re.IGNORECASE):\n",
    "            found_markers.append(category)\n",
    "\n",
    "    df[\"politeness markets\"] = found_markers\n",
    "    df[\"politeness count\"] = len(found_markers)\n",
    "\n",
    "    return df\n"
   ],
   "id": "63c6c8f6306480c1",
   "outputs": [],
   "execution_count": 39
  },
  {
   "metadata": {
    "ExecuteTime": {
     "end_time": "2025-03-26T21:14:18.140872Z",
     "start_time": "2025-03-26T21:14:01.930129Z"
    }
   },
   "cell_type": "code",
   "source": [
    "print(pos_df)\n",
    "polite_df = pos_df.apply(detect_politeness, axis=1)"
   ],
   "id": "ae1871a9ad685fb4",
   "outputs": [
    {
     "name": "stdout",
     "output_type": "stream",
     "text": [
      "                                                    text  hate_speech_score  \\\n",
      "0      ! thank u! im transmasc and generally present ...              -3.92   \n",
      "1                              !Go fuck yourself faggot!               2.47   \n",
      "2                   !flair [I love women and minorities]              -4.48   \n",
      "3                 !flair [death to all niggers and gays]               3.28   \n",
      "4      \" *gulhfg* that's the sound of your mom suckin...               1.81   \n",
      "...                                                  ...                ...   \n",
      "15834   😉 First time posting here. I'll post more Asians              -1.22   \n",
      "15835  😍😍😍my God ur beautiful and Middle Eastern is e...              -3.83   \n",
      "15836                        🤡 gas yourself not the jews               1.98   \n",
      "15837  🤣🤣🤣🤣 disgusting sick gay fag, you deserve this...               1.62   \n",
      "15838  🤧  The limousine liberal Jews and WASPs who wa...               1.99   \n",
      "\n",
      "                                                  tokens  \\\n",
      "0      [thank, u, im, transmasc, and, generally, pres...   \n",
      "1                           [go, fuck, yourself, faggot]   \n",
      "2               [flair, i, love, women, and, minorities]   \n",
      "3            [flair, death, to, all, niggers, and, gays]   \n",
      "4      [gulhfg, that, s, the, sound, of, your, mom, s...   \n",
      "...                                                  ...   \n",
      "15834  [first, time, posting, here, i, ll, post, more...   \n",
      "15835  [god, ur, beautiful, and, middle, eastern, is,...   \n",
      "15836                    [gas, yourself, not, the, jews]   \n",
      "15837  [disgusting, sick, gay, fag, you, deserve, thi...   \n",
      "15838  [the, limousine, liberal, jews, and, wasps, wh...   \n",
      "\n",
      "                                           string_tokens  \\\n",
      "0      thank u im transmasc and generally present mas...   \n",
      "1                                go fuck yourself faggot   \n",
      "2                      flair i love women and minorities   \n",
      "3                    flair death to all niggers and gays   \n",
      "4      gulhfg that s the sound of your mom sucking my...   \n",
      "...                                                  ...   \n",
      "15834      first time posting here i ll post more asians   \n",
      "15835  god ur beautiful and middle eastern is even be...   \n",
      "15836                          gas yourself not the jews   \n",
      "15837  disgusting sick gay fag you deserve this go cr...   \n",
      "15838  the limousine liberal jews and wasps who want ...   \n",
      "\n",
      "                                                  lemmas  \\\n",
      "0      [thank, u, im, transmasc, and, generally, pres...   \n",
      "1                           [go, fuck, yourself, faggot]   \n",
      "2                 [flair, i, love, woman, and, minority]   \n",
      "3              [flair, death, to, all, nigger, and, gay]   \n",
      "4      [gulhfg, that, s, the, sound, of, your, mom, s...   \n",
      "...                                                  ...   \n",
      "15834  [first, time, post, here, i, ll, post, more, a...   \n",
      "15835  [god, ur, beautiful, and, middle, eastern, be,...   \n",
      "15836                     [gas, yourself, not, the, jew]   \n",
      "15837  [disgust, sick, gay, fag, you, deserve, this, ...   \n",
      "15838  [the, limousine, liberal, jew, and, wasp, who,...   \n",
      "\n",
      "                                                    tags  \\\n",
      "0      [(thank, VBP), (u, NNP), (i, PRP), (m, VBP), (...   \n",
      "1      [(go, VB), (fuck, NN), (yourself, PRP), (faggo...   \n",
      "2      [(flair, NN), (i, PRP), (love, VBP), (women, N...   \n",
      "3      [(flair, NN), (death, NN), (to, IN), (all, DT)...   \n",
      "4      [(gulhfg, VB), (that, DT), (the, DT), (sound, ...   \n",
      "...                                                  ...   \n",
      "15834  [(first, NNP), (time, NN), (posting, VBG), (he...   \n",
      "15835  [(my, PRP$), (god, NNP), (ur, VBP), (beautiful...   \n",
      "15836  [(gas, NN), (yourself, PRP), (not, RB), (the, ...   \n",
      "15837  [(disgusting, VBG), (sick, JJ), (gay, NN), (fa...   \n",
      "15838  [(the, DT), (limousine, NN), (liberal, JJ), (j...   \n",
      "\n",
      "                                                   nouns  \\\n",
      "0             [u, transmasc, bit, good, things, lesbian]   \n",
      "1                                                 [fuck]   \n",
      "2                             [flair, women, minorities]   \n",
      "3                          [flair, death, niggers, gays]   \n",
      "4      [sound, mom, dick, fuckin, homo, n, shit, r, k...   \n",
      "...                                                  ...   \n",
      "15834                              [first, time, asians]   \n",
      "15835                                     [god, eastern]   \n",
      "15836                                        [gas, jews]   \n",
      "15837  [gay, fag, pride, parade, hundreds, std, men, ...   \n",
      "15838  [limousine, jews, wasps, guilt, sjw, gays, nig...   \n",
      "\n",
      "                                                   verbs  \n",
      "0      [thank, am, look, was, wondering, go, am, were...  \n",
      "1                                           [go, faggot]  \n",
      "2                                                 [love]  \n",
      "3                                                     []  \n",
      "4                                 [gulhfg, sucking, was]  \n",
      "...                                                  ...  \n",
      "15834                                    [posting, post]  \n",
      "15835                                           [ur, is]  \n",
      "15836                                                 []  \n",
      "15837           [disgusting, deserve, go, cry, be, fuck]  \n",
      "15838  [want, assuage, maladjusted, pester, bother, l...  \n",
      "\n",
      "[15839 rows x 8 columns]\n"
     ]
    }
   ],
   "execution_count": 40
  },
  {
   "metadata": {
    "ExecuteTime": {
     "end_time": "2025-03-27T07:59:03.765653Z",
     "start_time": "2025-03-27T07:59:03.674530Z"
    }
   },
   "cell_type": "code",
   "source": [
    "filtered_polite_df = polite_df[(polite_df['politeness count'] >= 1) & (polite_df['hate_speech_score'] > 1)]\n",
    "\n",
    "# Select only the relevant columns\n",
    "export_df = filtered_polite_df[['text', 'hate_speech_score']]\n",
    "\n",
    "# Save to CSV\n",
    "export_path = \"/Users/souparna/Desktop/DiyaDiss/polite_high_hs_texts.csv\"\n",
    "export_df.to_csv(export_path, index=False)\n",
    "\n",
    "export_path"
   ],
   "id": "fbb6d897f40deb99",
   "outputs": [
    {
     "data": {
      "text/plain": [
       "'/Users/souparna/Desktop/DiyaDiss/polite_high_hs_texts.csv'"
      ]
     },
     "execution_count": 175,
     "metadata": {},
     "output_type": "execute_result"
    }
   ],
   "execution_count": 175
  },
  {
   "metadata": {
    "ExecuteTime": {
     "end_time": "2025-03-26T21:19:45.640216Z",
     "start_time": "2025-03-26T21:19:45.337703Z"
    }
   },
   "cell_type": "code",
   "source": [
    "## Plot the Data\n",
    "import seaborn as sns\n",
    "import matplotlib.pyplot as plt\n",
    "\n",
    "sns.scatterplot(data=polite_df, x=\"hate_speech_score\", y=\"politeness count\")\n",
    "plt.title(\"Scatter Plot of Hate Speech Score vs Politeness Count\")\n",
    "plt.savefig(\"seaborn_scatter_plot.png\", dpi=300, bbox_inches=\"tight\")\n",
    "plt.show()\n"
   ],
   "id": "6ecfbddb3aaf83f",
   "outputs": [
    {
     "data": {
      "text/plain": [
       "<Figure size 640x480 with 1 Axes>"
      ],
      "image/png": "[encoded data removed]"
     },
     "metadata": {},
     "output_type": "display_data"
    }
   ],
   "execution_count": 50
  },
  {
   "metadata": {
    "ExecuteTime": {
     "end_time": "2025-03-26T21:28:16.389537Z",
     "start_time": "2025-03-26T21:28:15.565778Z"
    }
   },
   "cell_type": "code",
   "source": [
    "import seaborn as sns\n",
    "import matplotlib.pyplot as plt\n",
    "\n",
    "fig, axes = plt.subplots(1, 2, figsize=(12, 5))\n",
    "\n",
    "# Distribution (histogram + KDE) of hate_speech_score\n",
    "sns.histplot(polite_df[\"hate_speech_score\"], kde=True, ax=axes[0])\n",
    "axes[0].set_title(\"Distribution of Hate Speech Score\")\n",
    "\n",
    "# Distribution (histogram + KDE) of politeness_count\n",
    "sns.histplot(polite_df[\"politeness count\"], kde=True, ax=axes[1])\n",
    "axes[1].set_title(\"Distribution of Politeness Count\")\n",
    "\n",
    "plt.tight_layout()\n",
    "plt.savefig(\"individual_distributions.png\", dpi=300, bbox_inches=\"tight\")\n",
    "plt.show()\n"
   ],
   "id": "3993d769a4d07b30",
   "outputs": [
    {
     "data": {
      "text/plain": [
       "<Figure size 1200x500 with 2 Axes>"
      ],
      "image/png": "[encoded data removed]"
     },
     "metadata": {},
     "output_type": "display_data"
    }
   ],
   "execution_count": 60
  },
  {
   "metadata": {
    "ExecuteTime": {
     "end_time": "2025-03-27T07:54:37.122440Z",
     "start_time": "2025-03-27T07:54:36.304793Z"
    }
   },
   "cell_type": "code",
   "source": [
    "# import seaborn as sns\n",
    "# import matplotlib.pyplot as plt\n",
    "#\n",
    "# plt.figure(figsize=(8,6))\n",
    "#\n",
    "# # This will bin hate_speech_score and sum politeness_count within each bin.\n",
    "# sns.histplot(\n",
    "#     data=polite_df,\n",
    "#     x=\"hate_speech_score\",\n",
    "#     weights=\"politeness count\",  # We sum these values in each bin\n",
    "#     bins=30,                     # Adjust as needed\n",
    "#     stat=\"count\",                # 'count' here means \"sum of weights\" when 'weights' is given\n",
    "#     color=\"grey\"\n",
    "# )\n",
    "#\n",
    "# plt.xlabel(\"Hate Speech Score\")\n",
    "# plt.ylabel(\"Total Politeness Markers\")\n",
    "# plt.title(\"Total Politeness Markers per Hate Speech Score Bin\")\n",
    "# plt.savefig(\"yay.png\",dpi=300, bbox_inches=\"tight\")\n",
    "# plt.show()\n",
    "\n",
    "# Bin the hate_speech_score into 30 bins\n",
    "polite_df[\"hs_bin\"] = pd.cut(polite_df[\"hate_speech_score\"], bins=30)\n",
    "\n",
    "# Group by bins and calculate mean politeness count\n",
    "bin_stats = polite_df.groupby(\"hs_bin\")[\"politeness count\"].mean().reset_index()\n",
    "\n",
    "# Midpoint for x-axis labels\n",
    "bin_stats[\"bin_center\"] = bin_stats[\"hs_bin\"].apply(lambda x: round(x.mid,2))\n",
    "# Plotting\n",
    "plt.figure(figsize=(10, 6))\n",
    "sns.barplot(\n",
    "    x=\"bin_center\",\n",
    "    y=\"politeness count\",\n",
    "    data=bin_stats,\n",
    "    color=\"grey\"\n",
    ")\n",
    "\n",
    "plt.xlabel(\"Hate Speech Score (Binned)\")\n",
    "plt.ylabel(\"Average Politeness Markers\")\n",
    "plt.title(\"Average Politeness Markers per Hate Speech Score Bin\")\n",
    "plt.xticks(rotation=45)\n",
    "plt.tight_layout()\n",
    "plt.savefig(\"avg_politeness_per_bin.png\", dpi=300)\n",
    "plt.show()\n",
    "\n",
    "\n"
   ],
   "id": "333158785edf57ac",
   "outputs": [
    {
     "name": "stderr",
     "output_type": "stream",
     "text": [
      "/var/folders/ws/94nxr4hn0h958g2tjwnjtlxh0000gn/T/ipykernel_85132/2905896511.py:26: FutureWarning: The default of observed=False is deprecated and will be changed to True in a future version of pandas. Pass observed=False to retain current behavior or observed=True to adopt the future default and silence this warning.\n",
      "  bin_stats = polite_df.groupby(\"hs_bin\")[\"politeness count\"].mean().reset_index()\n"
     ]
    },
    {
     "data": {
      "text/plain": [
       "<Figure size 1000x600 with 1 Axes>"
      ],
      "image/png": "[encoded data removed]"
     },
     "metadata": {},
     "output_type": "display_data"
    }
   ],
   "execution_count": 174
  },
  {
   "metadata": {},
   "cell_type": "markdown",
   "source": "### In Group Out Group",
   "id": "14a5a030bbe5312e"
  },
  {
   "metadata": {
    "ExecuteTime": {
     "end_time": "2025-03-26T21:56:26.260127Z",
     "start_time": "2025-03-26T21:56:26.192206Z"
    }
   },
   "cell_type": "code",
   "outputs": [],
   "execution_count": 67,
   "source": [
    "import re\n",
    "\n",
    "# Sample group markers\n",
    "group_markers = {\n",
    "    \"in_group\": {\n",
    "        \"pronouns\": r\"\\b(we|us|our|ours|ourselves)\\b\",\n",
    "        \"solidarity_terms\": r\"\\b(fellow|comrades|brothers|sisters|kin|friends)\\b\"\n",
    "    },\n",
    "    \"out_group\": {\n",
    "        \"pronouns\": r\"\\b(they|them|their|theirs|themselves)\\b\",\n",
    "        \"othering\": r\"\\b(those people|that lot|outsiders|foreigners|their kind)\\b\"\n",
    "    }\n",
    "}\n",
    "\n",
    "def detect_groups(df):\n",
    "    text = df[\"string_tokens\"]\n",
    "\n",
    "    in_group_found = []\n",
    "    out_group_found = []\n",
    "\n",
    "    # Check in_group markers\n",
    "    for category, pattern in group_markers[\"in_group\"].items():\n",
    "        if re.search(pattern, text, re.IGNORECASE):\n",
    "            in_group_found.append(category)\n",
    "\n",
    "    # Check out_group markers\n",
    "    for category, pattern in group_markers[\"out_group\"].items():\n",
    "        if re.search(pattern, text, re.IGNORECASE):\n",
    "            out_group_found.append(category)\n",
    "\n",
    "    # Store results in new columns\n",
    "    df[\"in_group_markers\"] = in_group_found\n",
    "    df[\"in_group_count\"] = len(in_group_found)\n",
    "\n",
    "    df[\"out_group_markers\"] = out_group_found\n",
    "    df[\"out_group_count\"] = len(out_group_found)\n",
    "\n",
    "    return df\n"
   ],
   "id": "1dffa78c8f1b484e"
  },
  {
   "metadata": {},
   "cell_type": "code",
   "outputs": [],
   "execution_count": null,
   "source": "",
   "id": "c794c97dcd925704"
  },
  {
   "metadata": {
    "ExecuteTime": {
     "end_time": "2025-03-26T21:56:43.593413Z",
     "start_time": "2025-03-26T21:56:27.946876Z"
    }
   },
   "cell_type": "code",
   "source": "groups_df = polite_df.apply(detect_groups, axis=1)\n",
   "id": "f60cb20209f62f82",
   "outputs": [],
   "execution_count": 68
  },
  {
   "metadata": {
    "ExecuteTime": {
     "end_time": "2025-03-26T22:03:54.592587Z",
     "start_time": "2025-03-26T22:03:53.816239Z"
    }
   },
   "cell_type": "code",
   "source": [
    "### Plot it\n",
    "import seaborn as sns\n",
    "import matplotlib.pyplot as plt\n",
    "\n",
    "plt.figure(figsize=(14,6))\n",
    "\n",
    "# Left subplot: In-group count distribution by hate speech score\n",
    "plt.subplot(1, 2, 1)\n",
    "sns.histplot(\n",
    "    data=groups_df,\n",
    "    x=\"hate_speech_score\",\n",
    "    weights=\"in_group_count\",  # Sum of in_group markers in each bin\n",
    "    bins=30,                   # Adjust the number of bins as needed\n",
    "    stat=\"count\",              # Sum of weights per bin\n",
    "    color=\"brown\"\n",
    ")\n",
    "plt.xlabel(\"Hate Speech Score\")\n",
    "plt.ylabel(\"Total In-Group Markers\")\n",
    "plt.title(\"In-Group Count per Hate Speech Score Bin\")\n",
    "\n",
    "# Right subplot: Out-group count distribution by hate speech score\n",
    "plt.subplot(1, 2, 2)\n",
    "sns.histplot(\n",
    "    data=groups_df,\n",
    "    x=\"hate_speech_score\",\n",
    "    weights=\"out_group_count\",  # Sum of out_group markers in each bin\n",
    "    bins=30,\n",
    "    stat=\"count\",\n",
    "    color=\"blue\"\n",
    ")\n",
    "plt.xlabel(\"Hate Speech Score\")\n",
    "plt.ylabel(\"Total Out-Group Markers\")\n",
    "plt.title(\"Out-Group Count per Hate Speech Score Bin\")\n",
    "\n",
    "plt.tight_layout()\n",
    "plt.savefig(\"group_counts_distribution.png\", dpi=300, bbox_inches=\"tight\")\n",
    "plt.show()\n"
   ],
   "id": "bfc8be4d3c9d1f9d",
   "outputs": [
    {
     "data": {
      "text/plain": [
       "<Figure size 1400x600 with 2 Axes>"
      ],
      "image/png": "[encoded data removed]"
     },
     "metadata": {},
     "output_type": "display_data"
    }
   ],
   "execution_count": 78
  },
  {
   "metadata": {
    "ExecuteTime": {
     "end_time": "2025-03-27T08:08:07.632148Z",
     "start_time": "2025-03-27T08:08:06.243786Z"
    }
   },
   "cell_type": "code",
   "source": [
    "import pandas as pd\n",
    "import seaborn as sns\n",
    "import matplotlib.pyplot as plt\n",
    "\n",
    "# Bin the hate_speech_score into 30 bins\n",
    "groups_df[\"hs_bin\"] = pd.cut(groups_df[\"hate_speech_score\"], bins=30)\n",
    "\n",
    "# Group by bins and calculate the mean (average) group markers\n",
    "bin_group_stats = groups_df.groupby(\"hs_bin\", observed=True).agg({\n",
    "    \"in_group_count\": \"mean\",\n",
    "    \"out_group_count\": \"mean\"\n",
    "}).reset_index()\n",
    "\n",
    "# Compute midpoints for better x-axis labels\n",
    "bin_group_stats[\"bin_center\"] = bin_group_stats[\"hs_bin\"].apply(lambda x: round(x.mid,1))\n",
    "\n",
    "# Plotting\n",
    "plt.figure(figsize=(14, 6))\n",
    "\n",
    "# Left: Average In-Group markers per bin\n",
    "plt.subplot(1, 2, 1)\n",
    "sns.barplot(\n",
    "    x=\"bin_center\",\n",
    "    y=\"in_group_count\",\n",
    "    data=bin_group_stats,\n",
    "    color=\"brown\"\n",
    ")\n",
    "plt.xlabel(\"Hate Speech Score (Binned)\")\n",
    "plt.ylabel(\"Average In-Group Markers\")\n",
    "plt.title(\"Average In-Group Markers per Hate Speech Score Bin\")\n",
    "plt.xticks(rotation=45)\n",
    "\n",
    "# Right: Average Out-Group markers per bin\n",
    "plt.subplot(1, 2, 2)\n",
    "sns.barplot(\n",
    "    x=\"bin_center\",\n",
    "    y=\"out_group_count\",\n",
    "    data=bin_group_stats,\n",
    "    color=\"blue\"\n",
    ")\n",
    "plt.xlabel(\"Hate Speech Score (Binned)\")\n",
    "plt.ylabel(\"Average Out-Group Markers\")\n",
    "plt.title(\"Average Out-Group Markers per Hate Speech Score Bin\")\n",
    "plt.xticks(rotation=45)\n",
    "\n",
    "plt.tight_layout()\n",
    "plt.savefig(\"avg_group_marker_counts_per_bin.png\", dpi=300)\n",
    "plt.show()\n"
   ],
   "id": "7c45c74d2093bed2",
   "outputs": [
    {
     "data": {
      "text/plain": [
       "<Figure size 1400x600 with 2 Axes>"
      ],
      "image/png": "[encoded data removed]"
     },
     "metadata": {},
     "output_type": "display_data"
    }
   ],
   "execution_count": 178
  },
  {
   "metadata": {},
   "cell_type": "code",
   "outputs": [],
   "execution_count": null,
   "source": "print(groups_df)",
   "id": "4bb16d24aab38f26"
  },
  {
   "metadata": {},
   "cell_type": "markdown",
   "source": "### Working ALENLP Themantic Analysis",
   "id": "2f55436127e3f3ca"
  },
  {
   "metadata": {
    "ExecuteTime": {
     "end_time": "2025-03-27T07:39:20.085998Z",
     "start_time": "2025-03-27T07:39:19.018625Z"
    }
   },
   "cell_type": "code",
   "source": "themantised_df = pd.read_csv(\"themantised.csv\")",
   "id": "4a56676d61e2a95a",
   "outputs": [],
   "execution_count": 164
  },
  {
   "metadata": {
    "ExecuteTime": {
     "end_time": "2025-03-27T07:39:20.106030Z",
     "start_time": "2025-03-27T07:39:20.094463Z"
    }
   },
   "cell_type": "code",
   "source": "print(themantised_df)",
   "id": "8c1ce8dddeb2204c",
   "outputs": [
    {
     "name": "stdout",
     "output_type": "stream",
     "text": [
      "       Unnamed: 0                                               text  \\\n",
      "0               0  ! thank u! im transmasc and generally present ...   \n",
      "1               1                          !Go fuck yourself faggot!   \n",
      "2               2               !flair [I love women and minorities]   \n",
      "3               3             !flair [death to all niggers and gays]   \n",
      "4               4  \" *gulhfg* that's the sound of your mom suckin...   \n",
      "...           ...                                                ...   \n",
      "15834       15834   😉 First time posting here. I'll post more Asians   \n",
      "15835       15835  😍😍😍my God ur beautiful and Middle Eastern is e...   \n",
      "15836       15836                        🤡 gas yourself not the jews   \n",
      "15837       15837  🤣🤣🤣🤣 disgusting sick gay fag, you deserve this...   \n",
      "15838       15838  🤧  The limousine liberal Jews and WASPs who wa...   \n",
      "\n",
      "       hate_speech_score                                             tokens  \\\n",
      "0                  -3.92  ['thank', 'u', 'im', 'transmasc', 'and', 'gene...   \n",
      "1                   2.47               ['go', 'fuck', 'yourself', 'faggot']   \n",
      "2                  -4.48  ['flair', 'i', 'love', 'women', 'and', 'minori...   \n",
      "3                   3.28  ['flair', 'death', 'to', 'all', 'niggers', 'an...   \n",
      "4                   1.81  ['gulhfg', 'that', 's', 'the', 'sound', 'of', ...   \n",
      "...                  ...                                                ...   \n",
      "15834              -1.22  ['first', 'time', 'posting', 'here', 'i', 'll'...   \n",
      "15835              -3.83  ['god', 'ur', 'beautiful', 'and', 'middle', 'e...   \n",
      "15836               1.98          ['gas', 'yourself', 'not', 'the', 'jews']   \n",
      "15837               1.62  ['disgusting', 'sick', 'gay', 'fag', 'you', 'd...   \n",
      "15838               1.99  ['the', 'limousine', 'liberal', 'jews', 'and',...   \n",
      "\n",
      "                                                  lemmas  \\\n",
      "0      ['thank', 'u', 'im', 'transmasc', 'and', 'gene...   \n",
      "1                   ['go', 'fuck', 'yourself', 'faggot']   \n",
      "2      ['flair', 'i', 'love', 'woman', 'and', 'minori...   \n",
      "3      ['flair', 'death', 'to', 'all', 'nigger', 'and...   \n",
      "4      ['gulhfg', 'that', 's', 'the', 'sound', 'of', ...   \n",
      "...                                                  ...   \n",
      "15834  ['first', 'time', 'post', 'here', 'i', 'll', '...   \n",
      "15835  ['god', 'ur', 'beautiful', 'and', 'middle', 'e...   \n",
      "15836           ['gas', 'yourself', 'not', 'the', 'jew']   \n",
      "15837  ['disgust', 'sick', 'gay', 'fag', 'you', 'dese...   \n",
      "15838  ['the', 'limousine', 'liberal', 'jew', 'and', ...   \n",
      "\n",
      "                                                    tags  \\\n",
      "0      [('thank', 'VBP'), ('u', 'NN'), ('i', 'PRP'), ...   \n",
      "1      [('go', 'VB'), ('fuck', 'VB'), ('yourself', 'P...   \n",
      "2      [('flair', 'NN'), ('i', 'PRP'), ('love', 'VBP'...   \n",
      "3      [('flair', 'NN'), ('death', 'NN'), ('to', 'IN'...   \n",
      "4      [('gulhfg', 'NN'), ('that', 'DT'), ('the', 'DT...   \n",
      "...                                                  ...   \n",
      "15834  [('first', 'RB'), ('time', 'NN'), ('posting', ...   \n",
      "15835  [('my', 'PRP$'), ('god', 'NNP'), ('ur', 'VB'),...   \n",
      "15836  [('gas', 'NN'), ('yourself', 'PRP'), ('not', '...   \n",
      "15837  [('disgusting', 'JJ'), ('sick', 'JJ'), ('gay',...   \n",
      "15838  [('the', 'DT'), ('limousine', 'NN'), ('liberal...   \n",
      "\n",
      "                                                   nouns  \\\n",
      "0      ['u', 'transmasc', 'masc', 'bit', 'u', 'good',...   \n",
      "1                                             ['faggot']   \n",
      "2                       ['flair', 'women', 'minorities']   \n",
      "3                  ['flair', 'death', 'niggers', 'gays']   \n",
      "4      ['gulhfg', 'sound', 'mom', 'dick', 'fuckin', '...   \n",
      "...                                                  ...   \n",
      "15834                                 ['time', 'asians']   \n",
      "15835                                 ['god', 'eastern']   \n",
      "15836                                    ['gas', 'jews']   \n",
      "15837  ['gay', 'fag', 'pride', 'parade', 'hundreds', ...   \n",
      "15838  ['limousine', 'jews', 'wasps', 'guilt', 'sjw',...   \n",
      "\n",
      "                                                   verbs  \\\n",
      "0      ['thank', 'am', 'look', 'was', 'wondering', 'g...   \n",
      "1                                         ['go', 'fuck']   \n",
      "2                                               ['love']   \n",
      "3                                                     []   \n",
      "4                                     ['sucking', 'was']   \n",
      "...                                                  ...   \n",
      "15834                                ['posting', 'post']   \n",
      "15835                                       ['ur', 'is']   \n",
      "15836                                                 []   \n",
      "15837             ['deserve', 'go', 'cry', 'be', 'fuck']   \n",
      "15838  ['want', 'assuage', 'maladjusted', 'pester', '...   \n",
      "\n",
      "                                              srl_output  \n",
      "0      {'verbs': [{'verb': 'thank', 'description': '!...  \n",
      "1      {'verbs': [{'verb': 'Go', 'description': '! [V...  \n",
      "2      {'verbs': [{'verb': 'love', 'description': '! ...  \n",
      "3      {'verbs': [], 'words': ['!', 'flair', '[', 'de...  \n",
      "4      {'verbs': [{'verb': \"'s\", 'description': '\" * ...  \n",
      "...                                                  ...  \n",
      "15834  {'verbs': [{'verb': 'posting', 'description': ...  \n",
      "15835  {'verbs': [{'verb': 'ur', 'description': '😍 😍 ...  \n",
      "15836  {'verbs': [], 'words': ['🤡', 'gas', 'yourself'...  \n",
      "15837  {'verbs': [{'verb': 'deserve', 'description': ...  \n",
      "15838  {'verbs': [{'verb': 'want', 'description': \"🤧 ...  \n",
      "\n",
      "[15839 rows x 9 columns]\n"
     ]
    }
   ],
   "execution_count": 165
  },
  {
   "metadata": {
    "ExecuteTime": {
     "end_time": "2025-03-27T07:39:38.928258Z",
     "start_time": "2025-03-27T07:39:21.419141Z"
    }
   },
   "cell_type": "code",
   "source": [
    "import json\n",
    "import ast\n",
    "from nltk import Tree\n",
    "\n",
    "def parse_srl_output(row):\n",
    "    \"\"\"\n",
    "    Given a DataFrame row that contains a column 'srl_output' (which should be a dict with keys \"words\" and \"verbs\"),\n",
    "    return a list of extractions. Each extraction is a dict with:\n",
    "      - 'verb': the predicate word\n",
    "      - 'roles': a dictionary mapping role labels (e.g., ARG0, V, ARG1, ARGM-CAU) to a list of extracted phrases.\n",
    "    \"\"\"\n",
    "    result = row['srl_output']\n",
    "    # If result is a string, try parsing it\n",
    "    if isinstance(result, str):\n",
    "        try:\n",
    "            result = json.loads(result)\n",
    "        except json.JSONDecodeError:\n",
    "            # If JSON parsing fails, try using ast.literal_eval (works on valid Python literals)\n",
    "            result = ast.literal_eval(result)\n",
    "    words = result[\"words\"]\n",
    "    verb_extractions = []\n",
    "    for verb_info in result[\"verbs\"]:\n",
    "        predicate = verb_info[\"verb\"]\n",
    "        tags = verb_info[\"tags\"]\n",
    "        roles = {}  # dictionary mapping role labels to list of phrases\n",
    "        current_label = None\n",
    "        current_tokens = []\n",
    "        for i, tag in enumerate(tags):\n",
    "            if tag == \"O\":\n",
    "                if current_label is not None:\n",
    "                    phrase = \" \".join(current_tokens)\n",
    "                    roles.setdefault(current_label, []).append(phrase)\n",
    "                    current_label = None\n",
    "                    current_tokens = []\n",
    "                continue\n",
    "            # For IOB tags: B- indicates beginning of a new span, I- continues the current span.\n",
    "            prefix, label = tag.split(\"-\", 1)\n",
    "            if prefix == \"B\":\n",
    "                if current_label is not None:\n",
    "                    phrase = \" \".join(current_tokens)\n",
    "                    roles.setdefault(current_label, []).append(phrase)\n",
    "                current_label = label\n",
    "                current_tokens = [words[i]]\n",
    "            elif prefix == \"I\":\n",
    "                if current_label == label:\n",
    "                    current_tokens.append(words[i])\n",
    "                else:\n",
    "                    if current_label is not None:\n",
    "                        phrase = \" \".join(current_tokens)\n",
    "                        roles.setdefault(current_label, []).append(phrase)\n",
    "                    current_label = label\n",
    "                    current_tokens = [words[i]]\n",
    "        # Finalize any active span.\n",
    "        if current_label is not None and current_tokens:\n",
    "            phrase = \" \".join(current_tokens)\n",
    "            roles.setdefault(current_label, []).append(phrase)\n",
    "        verb_extractions.append({\n",
    "            \"verb\": predicate,\n",
    "            \"roles\": roles\n",
    "        })\n",
    "    return verb_extractions\n",
    "\n",
    "def build_srl_tree(extraction: dict) :\n",
    "    \"\"\"\n",
    "    Given an SRL extraction (with a 'verb' and 'roles' dict),\n",
    "    build an NLTK Tree that represents the semantic roles.\n",
    "\n",
    "    Example tree structure:\n",
    "\n",
    "      SRL\n",
    "      ├── Verb: <verb>\n",
    "      ├── ARG0: <phrase>\n",
    "      ├── ARG1: <phrase>\n",
    "      └── ARGM-CAU: <phrase>\n",
    "    \"\"\"\n",
    "    verb = extraction['verb']\n",
    "    roles = extraction['roles']\n",
    "    # Start with a subtree for the verb.\n",
    "    children = [Tree(\"Verb\", [verb])]\n",
    "    # For each role, add a child node (or multiple if there are multiple phrases).\n",
    "    for role, phrases in roles.items():\n",
    "        for phrase in phrases:\n",
    "            children.append(Tree(role, [phrase]))\n",
    "    return Tree(\"SRL\", children)\n",
    "\n",
    "\n",
    "themantised_df[\"extractions\"] = themantised_df.apply(parse_srl_output, axis=1)\n",
    "print(themantised_df[[\"text\", \"srl_output\", \"extractions\", \"hate_speech_score\"]].head())\n"
   ],
   "id": "dac166a9bf388814",
   "outputs": [
    {
     "name": "stdout",
     "output_type": "stream",
     "text": [
      "                                                text  \\\n",
      "0  ! thank u! im transmasc and generally present ...   \n",
      "1                          !Go fuck yourself faggot!   \n",
      "2               !flair [I love women and minorities]   \n",
      "3             !flair [death to all niggers and gays]   \n",
      "4  \" *gulhfg* that's the sound of your mom suckin...   \n",
      "\n",
      "                                          srl_output  \\\n",
      "0  {'verbs': [{'verb': 'thank', 'description': '!...   \n",
      "1  {'verbs': [{'verb': 'Go', 'description': '! [V...   \n",
      "2  {'verbs': [{'verb': 'love', 'description': '! ...   \n",
      "3  {'verbs': [], 'words': ['!', 'flair', '[', 'de...   \n",
      "4  {'verbs': [{'verb': \"'s\", 'description': '\" * ...   \n",
      "\n",
      "                                         extractions  hate_speech_score  \n",
      "0  [{'verb': 'thank', 'roles': {'V': ['thank'], '...              -3.92  \n",
      "1  [{'verb': 'Go', 'roles': {'V': ['Go'], 'ARG1':...               2.47  \n",
      "2  [{'verb': 'love', 'roles': {'ARG0': ['I'], 'V'...              -4.48  \n",
      "3                                                 []               3.28  \n",
      "4  [{'verb': ''s', 'roles': {'ARG1': ['that'], 'V...               1.81  \n"
     ]
    }
   ],
   "execution_count": 166
  },
  {
   "metadata": {
    "ExecuteTime": {
     "end_time": "2025-03-27T07:39:40.585313Z",
     "start_time": "2025-03-27T07:39:38.955561Z"
    }
   },
   "cell_type": "code",
   "source": [
    "\n",
    "# Optionally, build syntax trees for each extraction.\n",
    "# If there are multiple extractions per sentence, you can build a list of trees.\n",
    "themantised_df[\"srl_trees\"] = themantised_df[\"extractions\"].apply(lambda extractions: [build_srl_tree(ext) for ext in extractions])\n"
   ],
   "id": "7bf1bd1384fdd31b",
   "outputs": [],
   "execution_count": 167
  },
  {
   "metadata": {
    "ExecuteTime": {
     "end_time": "2025-03-27T07:39:40.667258Z",
     "start_time": "2025-03-27T07:39:40.662569Z"
    }
   },
   "cell_type": "code",
   "source": [
    "def print_thematic(id):\n",
    "    # Print the sentence from the first row.\n",
    "    print(\"Sentence:\", themantised_df[\"text\"].iloc[id])\n",
    "\n",
    "    # Retrieve the list of syntax trees for the first row.\n",
    "    extractions = themantised_df[\"srl_trees\"].iloc[id]\n",
    "\n",
    "    # Print the number of extractions.\n",
    "    print(\"Number of extractions:\", len(extractions))\n",
    "\n",
    "    # Print each tree.\n",
    "    for i, tree in enumerate(extractions):\n",
    "        print(f\"\\nExtraction {i+1}:\")\n",
    "        tree.pretty_print()\n",
    "\n",
    "\n"
   ],
   "id": "5ccc7e7ac7a74cc",
   "outputs": [],
   "execution_count": 168
  },
  {
   "metadata": {
    "ExecuteTime": {
     "end_time": "2025-03-27T08:14:20.475798Z",
     "start_time": "2025-03-27T08:14:18.068620Z"
    }
   },
   "cell_type": "code",
   "source": [
    "### Processing the extractions column in the thematised_df\n",
    "new_rows = []\n",
    "\n",
    "# Iterate through each row of the DataFrame\n",
    "for idx, row in themantised_df.iterrows():\n",
    "    sentence = row['text']\n",
    "    raw_hate_score = row.get('hate_speech_score', None)  # Adjust if your hate speech score column has a different name\n",
    "\n",
    "    # Iterate through each extraction in this row\n",
    "    for extraction in row['extractions']:\n",
    "        roles = extraction['roles']\n",
    "        new_row = {\n",
    "            'sentence': sentence,\n",
    "            'verb': extraction['verb'],\n",
    "            'ARG0': roles.get('ARG0', [None])[0],\n",
    "            'ARG1': roles.get('ARG1', [None])[0],\n",
    "            'ARG2': roles.get('ARG2', [None])[0],\n",
    "            'Raw_Hate_Speech': raw_hate_score\n",
    "        }\n",
    "        new_rows.append(new_row)\n",
    "\n",
    "# Create the new DataFrame\n",
    "parsed_extractions_df = pd.DataFrame(new_rows)"
   ],
   "id": "bea130eb32b49603",
   "outputs": [],
   "execution_count": 179
  },
  {
   "metadata": {},
   "cell_type": "markdown",
   "source": "### Analysis of Thematic Roles Arg0, Arg1 and Arg2 distribution vs hate speech",
   "id": "cb62cd71da48a32b"
  },
  {
   "metadata": {
    "ExecuteTime": {
     "end_time": "2025-03-27T08:19:51.802414Z",
     "start_time": "2025-03-27T08:19:51.789349Z"
    }
   },
   "cell_type": "code",
   "source": "print(parsed_extractions_df.head())",
   "id": "2baa338fed250b15",
   "outputs": [
    {
     "name": "stdout",
     "output_type": "stream",
     "text": [
      "                                            sentence       verb  ARG0  \\\n",
      "0  ! thank u! im transmasc and generally present ...      thank  None   \n",
      "1  ! thank u! im transmasc and generally present ...          m  None   \n",
      "2  ! thank u! im transmasc and generally present ...       look     i   \n",
      "3  ! thank u! im transmasc and generally present ...        was  None   \n",
      "4  ! thank u! im transmasc and generally present ...  wondering     i   \n",
      "\n",
      "                      ARG1       ARG2  Raw_Hate_Speech ARG0_nouns ARG1_nouns  \\\n",
      "0                        u       None            -3.92         []        [u]   \n",
      "1                        i  transmasc            -3.92         []        [i]   \n",
      "2                a bit gay       None            -3.92        [i]      [bit]   \n",
      "3                     None       None            -3.92         []         []   \n",
      "4  about how that would go       None            -3.92        [i]         []   \n",
      "\n",
      "    ARG2_nouns  \n",
      "0           []  \n",
      "1  [transmasc]  \n",
      "2           []  \n",
      "3           []  \n",
      "4           []  \n"
     ]
    }
   ],
   "execution_count": 181
  },
  {
   "metadata": {
    "ExecuteTime": {
     "end_time": "2025-03-27T08:33:13.456521Z",
     "start_time": "2025-03-27T08:33:12.597890Z"
    }
   },
   "cell_type": "code",
   "source": [
    "from collections import Counter\n",
    "import pandas as pd\n",
    "\n",
    "# Simulate loading the DataFrame (assuming it's already defined in your environment)\n",
    "# parsed_extractions_df = pd.read_csv(\"parsed_extractions_with_nouns.csv\")\n",
    "\n",
    "# Flatten and lowercase all nouns per role\n",
    "arg0_words = [word.lower() for sublist in parsed_extractions_df['ARG0_nouns'].dropna() for word in sublist]\n",
    "arg1_words = [word.lower() for sublist in parsed_extractions_df['ARG1_nouns'].dropna() for word in sublist]\n",
    "arg2_words = [word.lower() for sublist in parsed_extractions_df['ARG2_nouns'].dropna() for word in sublist]\n",
    "\n",
    "# Count frequencies\n",
    "arg0_counts = Counter(arg0_words)\n",
    "arg1_counts = Counter(arg1_words)\n",
    "arg2_counts = Counter(arg2_words)\n",
    "\n",
    "# Get all unique words from all roles\n",
    "all_words = set(arg0_counts) | set(arg1_counts) | set(arg2_counts)\n",
    "\n",
    "# Build a new DataFrame\n",
    "noun_freq_df = pd.DataFrame({\n",
    "    \"word\": list(all_words),\n",
    "    \"ARG0_count\": [arg0_counts.get(w, 0) for w in all_words],\n",
    "    \"ARG1_count\": [arg1_counts.get(w, 0) for w in all_words],\n",
    "    \"ARG2_count\": [arg2_counts.get(w, 0) for w in all_words]\n",
    "})\n",
    "\n",
    "# Calculate Thematic Role Ratios\n",
    "noun_freq_df[\"total\"] = noun_freq_df[\"ARG0_count\"] + noun_freq_df[\"ARG1_count\"] + noun_freq_df[\"ARG2_count\"]\n",
    "noun_freq_df[\"ARG0_ratio\"] = noun_freq_df[\"ARG0_count\"] / noun_freq_df[\"total\"]\n",
    "noun_freq_df[\"ARG1_ARG2_ratio\"] = (noun_freq_df[\"ARG1_count\"] + noun_freq_df[\"ARG2_count\"]) / noun_freq_df[\"total\"]\n",
    "\n"
   ],
   "id": "a35315f71850e222",
   "outputs": [],
   "execution_count": 183
  },
  {
   "metadata": {
    "ExecuteTime": {
     "end_time": "2025-03-27T08:33:36.542143Z",
     "start_time": "2025-03-27T08:33:36.511425Z"
    }
   },
   "cell_type": "code",
   "source": "print(noun_freq_df.head)",
   "id": "8b5ed486a9d7c4e1",
   "outputs": [
    {
     "name": "stdout",
     "output_type": "stream",
     "text": [
      "<bound method NDFrame.head of           word  ARG0_count  ARG1_count  ARG2_count  total  ARG0_ratio  \\\n",
      "0          win           0           7          13     20    0.000000   \n",
      "1          t_d           0           2           0      2    0.000000   \n",
      "2            😊           1           2           0      3    0.333333   \n",
      "3      lungren           0           2           0      2    0.000000   \n",
      "4          wit           0           0           3      3    0.000000   \n",
      "...        ...         ...         ...         ...    ...         ...   \n",
      "12753        n           1          30           5     36    0.027778   \n",
      "12754  sarongs           0           2           0      2    0.000000   \n",
      "12755    mmmmm           0           1           0      1    0.000000   \n",
      "12756     army           9          11           5     25    0.360000   \n",
      "12757   hewitt           0           1           0      1    0.000000   \n",
      "\n",
      "       ARG1_ARG2_ratio  \n",
      "0             1.000000  \n",
      "1             1.000000  \n",
      "2             0.666667  \n",
      "3             1.000000  \n",
      "4             1.000000  \n",
      "...                ...  \n",
      "12753         0.972222  \n",
      "12754         1.000000  \n",
      "12755         1.000000  \n",
      "12756         0.640000  \n",
      "12757         1.000000  \n",
      "\n",
      "[12758 rows x 7 columns]>\n"
     ]
    }
   ],
   "execution_count": 184
  },
  {
   "metadata": {
    "ExecuteTime": {
     "end_time": "2025-03-27T08:39:31.745566Z",
     "start_time": "2025-03-27T08:39:31.614084Z"
    }
   },
   "cell_type": "code",
   "source": "noun_freq_hs_df = noun_freq_df.merge(word_scores_df[['word', 'weighted_score']], on='word', how='left')",
   "id": "f1be9331ef4ed43f",
   "outputs": [],
   "execution_count": 185
  },
  {
   "metadata": {
    "ExecuteTime": {
     "end_time": "2025-03-27T09:01:52.860996Z",
     "start_time": "2025-03-27T09:01:52.790643Z"
    }
   },
   "cell_type": "code",
   "source": [
    "noun_freq_hs_df_interesting = noun_freq_hs_df[['word','ARG0_ratio','ARG1_ARG2_ratio','weighted_score']]\n",
    "print(noun_freq_hs_df_interesting.head())"
   ],
   "id": "d2bb5e72a76d91f1",
   "outputs": [
    {
     "name": "stdout",
     "output_type": "stream",
     "text": [
      "      word  ARG0_ratio  ARG1_ARG2_ratio  weighted_score\n",
      "0      win    0.000000         1.000000          -67.26\n",
      "1      t_d    0.000000         1.000000            2.27\n",
      "2        😊    0.333333         0.666667             NaN\n",
      "3  lungren    0.000000         1.000000           -1.73\n",
      "4      wit    0.000000         1.000000           -4.89\n"
     ]
    }
   ],
   "execution_count": 194
  },
  {
   "metadata": {
    "ExecuteTime": {
     "end_time": "2025-03-27T09:04:24.604025Z",
     "start_time": "2025-03-27T09:04:24.122548Z"
    }
   },
   "cell_type": "code",
   "source": [
    "import matplotlib.pyplot as plt\n",
    "import seaborn as sns\n",
    "\n",
    "# Filter out rows with missing weighted_score or ratio values\n",
    "plot_df = noun_freq_hs_df.dropna(subset=[\"weighted_score\", \"ARG0_ratio\"])\n",
    "\n",
    "# Further filter to scores between -10000 and 10000\n",
    "plot_df = plot_df[(plot_df[\"weighted_score\"] >= -10000) & (plot_df[\"weighted_score\"] <= 10000)]\n",
    "\n",
    "# Create scatter plot\n",
    "plt.figure(figsize=(10, 6))\n",
    "sns.scatterplot(\n",
    "    data=plot_df,\n",
    "    x=\"weighted_score\",\n",
    "    y=\"ARG0_ratio\"\n",
    ")\n",
    "\n",
    "plt.xlabel(\"Weighted Hate Speech Score\")\n",
    "plt.ylabel(\"ARG0 Ratio\")\n",
    "plt.title(\"ARG0_ratio vs Weighted Hate Speech Score\")\n",
    "plt.grid(True)\n",
    "plt.tight_layout()\n",
    "plt.savefig(\"scatter_thematic_ARG0_HS\", dpi=300)\n",
    "plt.show()"
   ],
   "id": "5bc0af23a62351d",
   "outputs": [
    {
     "data": {
      "text/plain": [
       "<Figure size 1000x600 with 1 Axes>"
      ],
      "image/png": "[encoded data removed]"
     },
     "metadata": {},
     "output_type": "display_data"
    }
   ],
   "execution_count": 195
  },
  {
   "metadata": {
    "ExecuteTime": {
     "end_time": "2025-03-27T06:55:22.648081Z",
     "start_time": "2025-03-27T06:55:22.617012Z"
    }
   },
   "cell_type": "code",
   "source": "print_thematic(9009)",
   "id": "e7492f4e7171264e",
   "outputs": [
    {
     "name": "stdout",
     "output_type": "stream",
     "text": [
      "Sentence: Oh god.  Everything. All of my problems right now have to deal with me being trans. If I was acid woman I would have literally no problems on my life and I'd be the happiest I've ever been.  Literally the only thing I've prayed for in the past two years is to wake up as a cis woman\n",
      "Number of extractions: 14\n",
      "\n",
      "Extraction 1:\n",
      "     SRL     \n",
      "  ____|___    \n",
      "Verb      V  \n",
      " |        |   \n",
      "have     have\n",
      "\n",
      "\n",
      "Extraction 2:\n",
      "           SRL                           \n",
      "  __________|____________________         \n",
      "Verb       ARG0        V        ARG1     \n",
      " |          |          |         |        \n",
      "deal All of my proble deal with me being \n",
      "            ms                 trans     \n",
      "\n",
      "\n",
      "Extraction 3:\n",
      "      SRL             \n",
      "   ____|___________    \n",
      " Verb ARG1   V    ARG2\n",
      "  |    |     |     |   \n",
      "being  me  being trans\n",
      "\n",
      "\n",
      "Extraction 4:\n",
      "     SRL                \n",
      "  ____|___________       \n",
      "Verb ARG1  V     ARG2   \n",
      " |    |    |      |      \n",
      "was   I   was acid woman\n",
      "\n",
      "\n",
      "Extraction 5:\n",
      "      SRL      \n",
      "   ____|____    \n",
      " Verb       V  \n",
      "  |         |   \n",
      "would     would\n",
      "\n",
      "\n",
      "Extraction 6:\n",
      "                              SRL                               \n",
      "  _____________________________|________________________         \n",
      "Verb    ARGM-ADV     ARGM-ADV ARG0 ARGM-MOD  V         ARG1     \n",
      " |         |            |      |      |      |          |        \n",
      "have If I was acid  literally  I    would   have no problems on \n",
      "         woman                                       my life    \n",
      "\n",
      "\n",
      "Extraction 7:\n",
      "     SRL    \n",
      "  ____|___   \n",
      "Verb      V \n",
      " |        |  \n",
      " 'd       'd\n",
      "\n",
      "\n",
      "Extraction 8:\n",
      "            SRL                        \n",
      "  ___________|________________          \n",
      "Verb ARG1 ARGM-MOD  V        ARG2      \n",
      " |    |      |      |         |         \n",
      " be   I      'd     be the happiest I '\n",
      "                         ve ever been  \n",
      "\n",
      "\n",
      "Extraction 9:\n",
      "     SRL    \n",
      "  ____|___   \n",
      "Verb      V \n",
      " |        |  \n",
      "'ve      've\n",
      "\n",
      "\n",
      "Extraction 10:\n",
      "                  SRL               \n",
      "  _________________|_____________    \n",
      "Verb     ARG2     ARG1 ARGM-TMP  V  \n",
      " |        |        |      |      |   \n",
      "been the happiest  I     ever   been\n",
      "\n",
      "\n",
      "Extraction 11:\n",
      "     SRL    \n",
      "  ____|___   \n",
      "Verb      V \n",
      " |        |  \n",
      "'ve      've\n",
      "\n",
      "\n",
      "Extraction 12:\n",
      "             SRL                        \n",
      "   ___________|________________          \n",
      " Verb  ARG0   V    ARG1     ARGM-TMP    \n",
      "  |     |     |     |          |         \n",
      "prayed  I   prayed for  in the past two \n",
      "                             years      \n",
      "\n",
      "\n",
      "Extraction 13:\n",
      "                      SRL                             \n",
      "  _____________________|_____________________          \n",
      "Verb  ARGM-ADV        ARG1         V        ARG2      \n",
      " |       |             |           |         |         \n",
      " is  Literally the only thing I '  is to wake up as a \n",
      "               ve prayed for in          cis woman    \n",
      "                 the past two                         \n",
      "                     years                            \n",
      "\n",
      "\n",
      "Extraction 14:\n",
      "     SRL                \n",
      "  ____|_________         \n",
      "Verb  V      ARGM-PRD   \n",
      " |    |         |        \n",
      "wake wake as a cis woman\n",
      "\n"
     ]
    }
   ],
   "execution_count": 157
  },
  {
   "metadata": {
    "ExecuteTime": {
     "end_time": "2025-03-27T06:53:16.390492Z",
     "start_time": "2025-03-27T06:53:16.360021Z"
    }
   },
   "cell_type": "code",
   "source": [
    "from pprint import pprint\n",
    "\n",
    "text = themantised_df.loc[9009, 'text']\n",
    "test = themantised_df.loc[9009, 'extractions']\n",
    "raw  = themantised_df.loc[9009, 'srl_output']\n",
    "print(text)\n",
    "print(json.dumps(test, indent=2))\n",
    "# pprint(test)\n",
    "\n",
    "print(raw)\n"
   ],
   "id": "85a8342d55f1a71",
   "outputs": [
    {
     "name": "stdout",
     "output_type": "stream",
     "text": [
      "Oh god.  Everything. All of my problems right now have to deal with me being trans. If I was acid woman I would have literally no problems on my life and I'd be the happiest I've ever been.  Literally the only thing I've prayed for in the past two years is to wake up as a cis woman\n",
      "[\n",
      "  {\n",
      "    \"verb\": \"have\",\n",
      "    \"roles\": {\n",
      "      \"V\": [\n",
      "        \"have\"\n",
      "      ]\n",
      "    }\n",
      "  },\n",
      "  {\n",
      "    \"verb\": \"deal\",\n",
      "    \"roles\": {\n",
      "      \"ARG0\": [\n",
      "        \"All of my problems\"\n",
      "      ],\n",
      "      \"V\": [\n",
      "        \"deal\"\n",
      "      ],\n",
      "      \"ARG1\": [\n",
      "        \"with me being trans\"\n",
      "      ]\n",
      "    }\n",
      "  },\n",
      "  {\n",
      "    \"verb\": \"being\",\n",
      "    \"roles\": {\n",
      "      \"ARG1\": [\n",
      "        \"me\"\n",
      "      ],\n",
      "      \"V\": [\n",
      "        \"being\"\n",
      "      ],\n",
      "      \"ARG2\": [\n",
      "        \"trans\"\n",
      "      ]\n",
      "    }\n",
      "  },\n",
      "  {\n",
      "    \"verb\": \"was\",\n",
      "    \"roles\": {\n",
      "      \"ARG1\": [\n",
      "        \"I\"\n",
      "      ],\n",
      "      \"V\": [\n",
      "        \"was\"\n",
      "      ],\n",
      "      \"ARG2\": [\n",
      "        \"acid woman\"\n",
      "      ]\n",
      "    }\n",
      "  },\n",
      "  {\n",
      "    \"verb\": \"would\",\n",
      "    \"roles\": {\n",
      "      \"V\": [\n",
      "        \"would\"\n",
      "      ]\n",
      "    }\n",
      "  },\n",
      "  {\n",
      "    \"verb\": \"have\",\n",
      "    \"roles\": {\n",
      "      \"ARGM-ADV\": [\n",
      "        \"If I was acid woman\",\n",
      "        \"literally\"\n",
      "      ],\n",
      "      \"ARG0\": [\n",
      "        \"I\"\n",
      "      ],\n",
      "      \"ARGM-MOD\": [\n",
      "        \"would\"\n",
      "      ],\n",
      "      \"V\": [\n",
      "        \"have\"\n",
      "      ],\n",
      "      \"ARG1\": [\n",
      "        \"no problems on my life\"\n",
      "      ]\n",
      "    }\n",
      "  },\n",
      "  {\n",
      "    \"verb\": \"'d\",\n",
      "    \"roles\": {\n",
      "      \"V\": [\n",
      "        \"'d\"\n",
      "      ]\n",
      "    }\n",
      "  },\n",
      "  {\n",
      "    \"verb\": \"be\",\n",
      "    \"roles\": {\n",
      "      \"ARG1\": [\n",
      "        \"I\"\n",
      "      ],\n",
      "      \"ARGM-MOD\": [\n",
      "        \"'d\"\n",
      "      ],\n",
      "      \"V\": [\n",
      "        \"be\"\n",
      "      ],\n",
      "      \"ARG2\": [\n",
      "        \"the happiest I 've ever been\"\n",
      "      ]\n",
      "    }\n",
      "  },\n",
      "  {\n",
      "    \"verb\": \"'ve\",\n",
      "    \"roles\": {\n",
      "      \"V\": [\n",
      "        \"'ve\"\n",
      "      ]\n",
      "    }\n",
      "  },\n",
      "  {\n",
      "    \"verb\": \"been\",\n",
      "    \"roles\": {\n",
      "      \"ARG2\": [\n",
      "        \"the happiest\"\n",
      "      ],\n",
      "      \"ARG1\": [\n",
      "        \"I\"\n",
      "      ],\n",
      "      \"ARGM-TMP\": [\n",
      "        \"ever\"\n",
      "      ],\n",
      "      \"V\": [\n",
      "        \"been\"\n",
      "      ]\n",
      "    }\n",
      "  },\n",
      "  {\n",
      "    \"verb\": \"'ve\",\n",
      "    \"roles\": {\n",
      "      \"V\": [\n",
      "        \"'ve\"\n",
      "      ]\n",
      "    }\n",
      "  },\n",
      "  {\n",
      "    \"verb\": \"prayed\",\n",
      "    \"roles\": {\n",
      "      \"ARG0\": [\n",
      "        \"I\"\n",
      "      ],\n",
      "      \"V\": [\n",
      "        \"prayed\"\n",
      "      ],\n",
      "      \"ARG1\": [\n",
      "        \"for\"\n",
      "      ],\n",
      "      \"ARGM-TMP\": [\n",
      "        \"in the past two years\"\n",
      "      ]\n",
      "    }\n",
      "  },\n",
      "  {\n",
      "    \"verb\": \"is\",\n",
      "    \"roles\": {\n",
      "      \"ARGM-ADV\": [\n",
      "        \"Literally\"\n",
      "      ],\n",
      "      \"ARG1\": [\n",
      "        \"the only thing I 've prayed for in the past two years\"\n",
      "      ],\n",
      "      \"V\": [\n",
      "        \"is\"\n",
      "      ],\n",
      "      \"ARG2\": [\n",
      "        \"to wake up as a cis woman\"\n",
      "      ]\n",
      "    }\n",
      "  },\n",
      "  {\n",
      "    \"verb\": \"wake\",\n",
      "    \"roles\": {\n",
      "      \"V\": [\n",
      "        \"wake\"\n",
      "      ],\n",
      "      \"ARGM-PRD\": [\n",
      "        \"as a cis woman\"\n",
      "      ]\n",
      "    }\n",
      "  }\n",
      "]\n",
      "{'verbs': [{'verb': 'have', 'description': \"Oh god . Everything . All of my problems right now [V: have] to deal with me being trans . If I was acid woman I would have literally no problems on my life and I 'd be the happiest I 've ever been . Literally the only thing I 've prayed for in the past two years is to wake up as a cis woman\", 'tags': ['O', 'O', 'O', 'O', 'O', 'O', 'O', 'O', 'O', 'O', 'O', 'B-V', 'O', 'O', 'O', 'O', 'O', 'O', 'O', 'O', 'O', 'O', 'O', 'O', 'O', 'O', 'O', 'O', 'O', 'O', 'O', 'O', 'O', 'O', 'O', 'O', 'O', 'O', 'O', 'O', 'O', 'O', 'O', 'O', 'O', 'O', 'O', 'O', 'O', 'O', 'O', 'O', 'O', 'O', 'O', 'O', 'O', 'O', 'O', 'O', 'O', 'O', 'O', 'O', 'O']}, {'verb': 'deal', 'description': \"Oh god . Everything . [ARG0: All of my problems] right now have to [V: deal] [ARG1: with me being trans] . If I was acid woman I would have literally no problems on my life and I 'd be the happiest I 've ever been . Literally the only thing I 've prayed for in the past two years is to wake up as a cis woman\", 'tags': ['O', 'O', 'O', 'O', 'O', 'B-ARG0', 'I-ARG0', 'I-ARG0', 'I-ARG0', 'O', 'O', 'O', 'O', 'B-V', 'B-ARG1', 'I-ARG1', 'I-ARG1', 'I-ARG1', 'O', 'O', 'O', 'O', 'O', 'O', 'O', 'O', 'O', 'O', 'O', 'O', 'O', 'O', 'O', 'O', 'O', 'O', 'O', 'O', 'O', 'O', 'O', 'O', 'O', 'O', 'O', 'O', 'O', 'O', 'O', 'O', 'O', 'O', 'O', 'O', 'O', 'O', 'O', 'O', 'O', 'O', 'O', 'O', 'O', 'O', 'O']}, {'verb': 'being', 'description': \"Oh god . Everything . All of my problems right now have to deal with [ARG1: me] [V: being] [ARG2: trans] . If I was acid woman I would have literally no problems on my life and I 'd be the happiest I 've ever been . Literally the only thing I 've prayed for in the past two years is to wake up as a cis woman\", 'tags': ['O', 'O', 'O', 'O', 'O', 'O', 'O', 'O', 'O', 'O', 'O', 'O', 'O', 'O', 'O', 'B-ARG1', 'B-V', 'B-ARG2', 'O', 'O', 'O', 'O', 'O', 'O', 'O', 'O', 'O', 'O', 'O', 'O', 'O', 'O', 'O', 'O', 'O', 'O', 'O', 'O', 'O', 'O', 'O', 'O', 'O', 'O', 'O', 'O', 'O', 'O', 'O', 'O', 'O', 'O', 'O', 'O', 'O', 'O', 'O', 'O', 'O', 'O', 'O', 'O', 'O', 'O', 'O']}, {'verb': 'was', 'description': \"Oh god . Everything . All of my problems right now have to deal with me being trans . If [ARG1: I] [V: was] [ARG2: acid woman] I would have literally no problems on my life and I 'd be the happiest I 've ever been . Literally the only thing I 've prayed for in the past two years is to wake up as a cis woman\", 'tags': ['O', 'O', 'O', 'O', 'O', 'O', 'O', 'O', 'O', 'O', 'O', 'O', 'O', 'O', 'O', 'O', 'O', 'O', 'O', 'O', 'B-ARG1', 'B-V', 'B-ARG2', 'I-ARG2', 'O', 'O', 'O', 'O', 'O', 'O', 'O', 'O', 'O', 'O', 'O', 'O', 'O', 'O', 'O', 'O', 'O', 'O', 'O', 'O', 'O', 'O', 'O', 'O', 'O', 'O', 'O', 'O', 'O', 'O', 'O', 'O', 'O', 'O', 'O', 'O', 'O', 'O', 'O', 'O', 'O']}, {'verb': 'would', 'description': \"Oh god . Everything . All of my problems right now have to deal with me being trans . If I was acid woman I [V: would] have literally no problems on my life and I 'd be the happiest I 've ever been . Literally the only thing I 've prayed for in the past two years is to wake up as a cis woman\", 'tags': ['O', 'O', 'O', 'O', 'O', 'O', 'O', 'O', 'O', 'O', 'O', 'O', 'O', 'O', 'O', 'O', 'O', 'O', 'O', 'O', 'O', 'O', 'O', 'O', 'O', 'B-V', 'O', 'O', 'O', 'O', 'O', 'O', 'O', 'O', 'O', 'O', 'O', 'O', 'O', 'O', 'O', 'O', 'O', 'O', 'O', 'O', 'O', 'O', 'O', 'O', 'O', 'O', 'O', 'O', 'O', 'O', 'O', 'O', 'O', 'O', 'O', 'O', 'O', 'O', 'O']}, {'verb': 'have', 'description': \"Oh god . Everything . All of my problems right now have to deal with me being trans . [ARGM-ADV: If I was acid woman] [ARG0: I] [ARGM-MOD: would] [V: have] [ARGM-ADV: literally] [ARG1: no problems on my life] and I 'd be the happiest I 've ever been . Literally the only thing I 've prayed for in the past two years is to wake up as a cis woman\", 'tags': ['O', 'O', 'O', 'O', 'O', 'O', 'O', 'O', 'O', 'O', 'O', 'O', 'O', 'O', 'O', 'O', 'O', 'O', 'O', 'B-ARGM-ADV', 'I-ARGM-ADV', 'I-ARGM-ADV', 'I-ARGM-ADV', 'I-ARGM-ADV', 'B-ARG0', 'B-ARGM-MOD', 'B-V', 'B-ARGM-ADV', 'B-ARG1', 'I-ARG1', 'I-ARG1', 'I-ARG1', 'I-ARG1', 'O', 'O', 'O', 'O', 'O', 'O', 'O', 'O', 'O', 'O', 'O', 'O', 'O', 'O', 'O', 'O', 'O', 'O', 'O', 'O', 'O', 'O', 'O', 'O', 'O', 'O', 'O', 'O', 'O', 'O', 'O', 'O']}, {'verb': \"'d\", 'description': \"Oh god . Everything . All of my problems right now have to deal with me being trans . If I was acid woman I would have literally no problems on my life and I [V: 'd] be the happiest I 've ever been . Literally the only thing I 've prayed for in the past two years is to wake up as a cis woman\", 'tags': ['O', 'O', 'O', 'O', 'O', 'O', 'O', 'O', 'O', 'O', 'O', 'O', 'O', 'O', 'O', 'O', 'O', 'O', 'O', 'O', 'O', 'O', 'O', 'O', 'O', 'O', 'O', 'O', 'O', 'O', 'O', 'O', 'O', 'O', 'O', 'B-V', 'O', 'O', 'O', 'O', 'O', 'O', 'O', 'O', 'O', 'O', 'O', 'O', 'O', 'O', 'O', 'O', 'O', 'O', 'O', 'O', 'O', 'O', 'O', 'O', 'O', 'O', 'O', 'O', 'O']}, {'verb': 'be', 'description': \"Oh god . Everything . All of my problems right now have to deal with me being trans . If I was acid woman I would have literally no problems on my life and [ARG1: I] [ARGM-MOD: 'd] [V: be] [ARG2: the happiest I 've ever been] . Literally the only thing I 've prayed for in the past two years is to wake up as a cis woman\", 'tags': ['O', 'O', 'O', 'O', 'O', 'O', 'O', 'O', 'O', 'O', 'O', 'O', 'O', 'O', 'O', 'O', 'O', 'O', 'O', 'O', 'O', 'O', 'O', 'O', 'O', 'O', 'O', 'O', 'O', 'O', 'O', 'O', 'O', 'O', 'B-ARG1', 'B-ARGM-MOD', 'B-V', 'B-ARG2', 'I-ARG2', 'I-ARG2', 'I-ARG2', 'I-ARG2', 'I-ARG2', 'O', 'O', 'O', 'O', 'O', 'O', 'O', 'O', 'O', 'O', 'O', 'O', 'O', 'O', 'O', 'O', 'O', 'O', 'O', 'O', 'O', 'O']}, {'verb': \"'ve\", 'description': \"Oh god . Everything . All of my problems right now have to deal with me being trans . If I was acid woman I would have literally no problems on my life and I 'd be the happiest I [V: 've] ever been . Literally the only thing I 've prayed for in the past two years is to wake up as a cis woman\", 'tags': ['O', 'O', 'O', 'O', 'O', 'O', 'O', 'O', 'O', 'O', 'O', 'O', 'O', 'O', 'O', 'O', 'O', 'O', 'O', 'O', 'O', 'O', 'O', 'O', 'O', 'O', 'O', 'O', 'O', 'O', 'O', 'O', 'O', 'O', 'O', 'O', 'O', 'O', 'O', 'O', 'B-V', 'O', 'O', 'O', 'O', 'O', 'O', 'O', 'O', 'O', 'O', 'O', 'O', 'O', 'O', 'O', 'O', 'O', 'O', 'O', 'O', 'O', 'O', 'O', 'O']}, {'verb': 'been', 'description': \"Oh god . Everything . All of my problems right now have to deal with me being trans . If I was acid woman I would have literally no problems on my life and I 'd be [ARG2: the happiest] [ARG1: I] 've [ARGM-TMP: ever] [V: been] . Literally the only thing I 've prayed for in the past two years is to wake up as a cis woman\", 'tags': ['O', 'O', 'O', 'O', 'O', 'O', 'O', 'O', 'O', 'O', 'O', 'O', 'O', 'O', 'O', 'O', 'O', 'O', 'O', 'O', 'O', 'O', 'O', 'O', 'O', 'O', 'O', 'O', 'O', 'O', 'O', 'O', 'O', 'O', 'O', 'O', 'O', 'B-ARG2', 'I-ARG2', 'B-ARG1', 'O', 'B-ARGM-TMP', 'B-V', 'O', 'O', 'O', 'O', 'O', 'O', 'O', 'O', 'O', 'O', 'O', 'O', 'O', 'O', 'O', 'O', 'O', 'O', 'O', 'O', 'O', 'O']}, {'verb': \"'ve\", 'description': \"Oh god . Everything . All of my problems right now have to deal with me being trans . If I was acid woman I would have literally no problems on my life and I 'd be the happiest I 've ever been . Literally the only thing I [V: 've] prayed for in the past two years is to wake up as a cis woman\", 'tags': ['O', 'O', 'O', 'O', 'O', 'O', 'O', 'O', 'O', 'O', 'O', 'O', 'O', 'O', 'O', 'O', 'O', 'O', 'O', 'O', 'O', 'O', 'O', 'O', 'O', 'O', 'O', 'O', 'O', 'O', 'O', 'O', 'O', 'O', 'O', 'O', 'O', 'O', 'O', 'O', 'O', 'O', 'O', 'O', 'O', 'O', 'O', 'O', 'O', 'B-V', 'O', 'O', 'O', 'O', 'O', 'O', 'O', 'O', 'O', 'O', 'O', 'O', 'O', 'O', 'O']}, {'verb': 'prayed', 'description': \"Oh god . Everything . All of my problems right now have to deal with me being trans . If I was acid woman I would have literally no problems on my life and I 'd be the happiest I 've ever been . Literally the only thing [ARG0: I] 've [V: prayed] [ARG1: for] [ARGM-TMP: in the past two years] is to wake up as a cis woman\", 'tags': ['O', 'O', 'O', 'O', 'O', 'O', 'O', 'O', 'O', 'O', 'O', 'O', 'O', 'O', 'O', 'O', 'O', 'O', 'O', 'O', 'O', 'O', 'O', 'O', 'O', 'O', 'O', 'O', 'O', 'O', 'O', 'O', 'O', 'O', 'O', 'O', 'O', 'O', 'O', 'O', 'O', 'O', 'O', 'O', 'O', 'O', 'O', 'O', 'B-ARG0', 'O', 'B-V', 'B-ARG1', 'B-ARGM-TMP', 'I-ARGM-TMP', 'I-ARGM-TMP', 'I-ARGM-TMP', 'I-ARGM-TMP', 'O', 'O', 'O', 'O', 'O', 'O', 'O', 'O']}, {'verb': 'is', 'description': \"Oh god . Everything . All of my problems right now have to deal with me being trans . If I was acid woman I would have literally no problems on my life and I 'd be the happiest I 've ever been . [ARGM-ADV: Literally] [ARG1: the only thing I 've prayed for in the past two years] [V: is] [ARG2: to wake up as a cis woman]\", 'tags': ['O', 'O', 'O', 'O', 'O', 'O', 'O', 'O', 'O', 'O', 'O', 'O', 'O', 'O', 'O', 'O', 'O', 'O', 'O', 'O', 'O', 'O', 'O', 'O', 'O', 'O', 'O', 'O', 'O', 'O', 'O', 'O', 'O', 'O', 'O', 'O', 'O', 'O', 'O', 'O', 'O', 'O', 'O', 'O', 'B-ARGM-ADV', 'B-ARG1', 'I-ARG1', 'I-ARG1', 'I-ARG1', 'I-ARG1', 'I-ARG1', 'I-ARG1', 'I-ARG1', 'I-ARG1', 'I-ARG1', 'I-ARG1', 'I-ARG1', 'B-V', 'B-ARG2', 'I-ARG2', 'I-ARG2', 'I-ARG2', 'I-ARG2', 'I-ARG2', 'I-ARG2']}, {'verb': 'wake', 'description': \"Oh god . Everything . All of my problems right now have to deal with me being trans . If I was acid woman I would have literally no problems on my life and I 'd be the happiest I 've ever been . Literally the only thing I 've prayed for in the past two years is to [V: wake] up [ARGM-PRD: as a cis woman]\", 'tags': ['O', 'O', 'O', 'O', 'O', 'O', 'O', 'O', 'O', 'O', 'O', 'O', 'O', 'O', 'O', 'O', 'O', 'O', 'O', 'O', 'O', 'O', 'O', 'O', 'O', 'O', 'O', 'O', 'O', 'O', 'O', 'O', 'O', 'O', 'O', 'O', 'O', 'O', 'O', 'O', 'O', 'O', 'O', 'O', 'O', 'O', 'O', 'O', 'O', 'O', 'O', 'O', 'O', 'O', 'O', 'O', 'O', 'O', 'O', 'B-V', 'O', 'B-ARGM-PRD', 'I-ARGM-PRD', 'I-ARGM-PRD', 'I-ARGM-PRD']}], 'words': ['Oh', 'god', '.', 'Everything', '.', 'All', 'of', 'my', 'problems', 'right', 'now', 'have', 'to', 'deal', 'with', 'me', 'being', 'trans', '.', 'If', 'I', 'was', 'acid', 'woman', 'I', 'would', 'have', 'literally', 'no', 'problems', 'on', 'my', 'life', 'and', 'I', \"'d\", 'be', 'the', 'happiest', 'I', \"'ve\", 'ever', 'been', '.', 'Literally', 'the', 'only', 'thing', 'I', \"'ve\", 'prayed', 'for', 'in', 'the', 'past', 'two', 'years', 'is', 'to', 'wake', 'up', 'as', 'a', 'cis', 'woman']}\n"
     ]
    }
   ],
   "execution_count": 156
  },
  {
   "metadata": {},
   "cell_type": "code",
   "outputs": [],
   "execution_count": null,
   "source": "### we looking at arg0 arg1 and arg2",
   "id": "1169fbeffb4ee3e1"
  },
  {
   "metadata": {},
   "cell_type": "markdown",
   "source": "### OLD THEMATIC ANALYSER FROM HERE\n",
   "id": "9d2f6ac8c846f2c6"
  },
  {
   "cell_type": "code",
   "source": [
    "def extract_thematic_roles():\n",
    "    import pandas as pd\n",
    "    from transformers import AutoTokenizer, AutoModelForTokenClassification, pipeline\n",
    "\n",
    "    def extract_thematic_roles(df, text_col=\"text\"):\n",
    "        # Load the model and tokenizer from Hugging Face\n",
    "        model_checkpoint = \"liaad/srl-en_xlmr-large\"\n",
    "        tokenizer = AutoTokenizer.from_pretrained(model_checkpoint)\n",
    "        model = AutoModelForTokenClassification.from_pretrained(model_checkpoint)\n",
    "        \n",
    "        # Create a token classification pipeline.\n",
    "        # The aggregation_strategy groups contiguous tokens with the same label.\n",
    "        srl_pipeline = pipeline(\n",
    "            \"token-classification\", \n",
    "            model=model, \n",
    "            tokenizer=tokenizer, \n",
    "            aggregation_strategy=\"simple\"\n",
    "        )\n",
    "        \n",
    "        # Apply the pipeline on the specified text column.\n",
    "        # The output will be a list of dictionaries containing token groups and labels.\n",
    "        df[\"srl\"] = df[text_col].apply(lambda text: srl_pipeline(text))\n",
    "        return df\n",
    "\n",
    "    # Example usage:\n",
    "    # Create a sample DataFrame\n",
    "    data = {\"text\": [\"John sold the car to Mary.\", \"Alice gave Bob a book.\"]}\n",
    "    pos_df = pd.DataFrame(data)\n",
    "    \n",
    "    # Extract thematic roles\n",
    "    result_df = extract_thematic_roles(pos_df, text_col=\"text\")\n",
    "    print(result_df)\n",
    "\n",
    "\n",
    "\n",
    "extract_thematic_roles()"
   ],
   "metadata": {
    "collapsed": false,
    "ExecuteTime": {
     "end_time": "2025-03-26T20:33:50.547847Z",
     "start_time": "2025-03-26T19:06:05.136290Z"
    }
   },
   "id": "6d51f45eb378a2bd",
   "outputs": [
    {
     "name": "stderr",
     "output_type": "stream",
     "text": [
      "None of PyTorch, TensorFlow >= 2.0, or Flax have been found. Models won't be available and only tokenizers, configuration and file/data utilities can be used.\n",
      "None of PyTorch, TensorFlow >= 2.0, or Flax have been found. Models won't be available and only tokenizers, configuration and file/data utilities can be used.\n"
     ]
    },
    {
     "ename": "ImportError",
     "evalue": "\n requires the protobuf library but it was not found in your environment. Checkout the instructions on the\ninstallation page of its repo: https://github.com/protocolbuffers/protobuf/tree/master/python#installation and follow the ones\nthat match your environment. Please note that you may need to restart your runtime after installation.\n",
     "output_type": "error",
     "traceback": [
      "\u001B[0;31m---------------------------------------------------------------------------\u001B[0m",
      "\u001B[0;31mModuleNotFoundError\u001B[0m                       Traceback (most recent call last)",
      "File \u001B[0;32m~/Desktop/DiyaDiss/.venv/lib/python3.9/site-packages/transformers/convert_slow_tokenizer.py:1587\u001B[0m, in \u001B[0;36mTikTokenConverter.extract_vocab_merges_from_model\u001B[0;34m(self, tiktoken_url)\u001B[0m\n\u001B[1;32m   1586\u001B[0m \u001B[38;5;28;01mtry\u001B[39;00m:\n\u001B[0;32m-> 1587\u001B[0m     \u001B[38;5;28;01mfrom\u001B[39;00m\u001B[38;5;250m \u001B[39m\u001B[38;5;21;01mtiktoken\u001B[39;00m\u001B[38;5;21;01m.\u001B[39;00m\u001B[38;5;21;01mload\u001B[39;00m\u001B[38;5;250m \u001B[39m\u001B[38;5;28;01mimport\u001B[39;00m load_tiktoken_bpe\n\u001B[1;32m   1588\u001B[0m \u001B[38;5;28;01mexcept\u001B[39;00m \u001B[38;5;167;01mException\u001B[39;00m:\n",
      "\u001B[0;31mModuleNotFoundError\u001B[0m: No module named 'tiktoken'",
      "\nDuring handling of the above exception, another exception occurred:\n",
      "\u001B[0;31mValueError\u001B[0m                                Traceback (most recent call last)",
      "File \u001B[0;32m~/Desktop/DiyaDiss/.venv/lib/python3.9/site-packages/transformers/convert_slow_tokenizer.py:1727\u001B[0m, in \u001B[0;36mconvert_slow_tokenizer\u001B[0;34m(transformer_tokenizer, from_tiktoken)\u001B[0m\n\u001B[1;32m   1726\u001B[0m     logger\u001B[38;5;241m.\u001B[39minfo(\u001B[38;5;124m\"\u001B[39m\u001B[38;5;124mConverting from Tiktoken\u001B[39m\u001B[38;5;124m\"\u001B[39m)\n\u001B[0;32m-> 1727\u001B[0m     \u001B[38;5;28;01mreturn\u001B[39;00m \u001B[43mTikTokenConverter\u001B[49m\u001B[43m(\u001B[49m\n\u001B[1;32m   1728\u001B[0m \u001B[43m        \u001B[49m\u001B[43mvocab_file\u001B[49m\u001B[38;5;241;43m=\u001B[39;49m\u001B[43mtransformer_tokenizer\u001B[49m\u001B[38;5;241;43m.\u001B[39;49m\u001B[43mvocab_file\u001B[49m\u001B[43m,\u001B[49m\n\u001B[1;32m   1729\u001B[0m \u001B[43m        \u001B[49m\u001B[43madditional_special_tokens\u001B[49m\u001B[38;5;241;43m=\u001B[39;49m\u001B[43mtransformer_tokenizer\u001B[49m\u001B[38;5;241;43m.\u001B[39;49m\u001B[43madditional_special_tokens\u001B[49m\u001B[43m,\u001B[49m\n\u001B[1;32m   1730\u001B[0m \u001B[43m    \u001B[49m\u001B[43m)\u001B[49m\u001B[38;5;241;43m.\u001B[39;49m\u001B[43mconverted\u001B[49m\u001B[43m(\u001B[49m\u001B[43m)\u001B[49m\n\u001B[1;32m   1731\u001B[0m \u001B[38;5;28;01mexcept\u001B[39;00m \u001B[38;5;167;01mException\u001B[39;00m:\n",
      "File \u001B[0;32m~/Desktop/DiyaDiss/.venv/lib/python3.9/site-packages/transformers/convert_slow_tokenizer.py:1624\u001B[0m, in \u001B[0;36mTikTokenConverter.converted\u001B[0;34m(self)\u001B[0m\n\u001B[1;32m   1623\u001B[0m \u001B[38;5;28;01mdef\u001B[39;00m\u001B[38;5;250m \u001B[39m\u001B[38;5;21mconverted\u001B[39m(\u001B[38;5;28mself\u001B[39m) \u001B[38;5;241m-\u001B[39m\u001B[38;5;241m>\u001B[39m Tokenizer:\n\u001B[0;32m-> 1624\u001B[0m     tokenizer \u001B[38;5;241m=\u001B[39m \u001B[38;5;28;43mself\u001B[39;49m\u001B[38;5;241;43m.\u001B[39;49m\u001B[43mtokenizer\u001B[49m\u001B[43m(\u001B[49m\u001B[43m)\u001B[49m\n\u001B[1;32m   1625\u001B[0m     tokenizer\u001B[38;5;241m.\u001B[39mpre_tokenizer \u001B[38;5;241m=\u001B[39m pre_tokenizers\u001B[38;5;241m.\u001B[39mSequence(\n\u001B[1;32m   1626\u001B[0m         [\n\u001B[1;32m   1627\u001B[0m             pre_tokenizers\u001B[38;5;241m.\u001B[39mSplit(Regex(\u001B[38;5;28mself\u001B[39m\u001B[38;5;241m.\u001B[39mpattern), behavior\u001B[38;5;241m=\u001B[39m\u001B[38;5;124m\"\u001B[39m\u001B[38;5;124misolated\u001B[39m\u001B[38;5;124m\"\u001B[39m, invert\u001B[38;5;241m=\u001B[39m\u001B[38;5;28;01mFalse\u001B[39;00m),\n\u001B[1;32m   1628\u001B[0m             pre_tokenizers\u001B[38;5;241m.\u001B[39mByteLevel(add_prefix_space\u001B[38;5;241m=\u001B[39m\u001B[38;5;28mself\u001B[39m\u001B[38;5;241m.\u001B[39madd_prefix_space, use_regex\u001B[38;5;241m=\u001B[39m\u001B[38;5;28;01mFalse\u001B[39;00m),\n\u001B[1;32m   1629\u001B[0m         ]\n\u001B[1;32m   1630\u001B[0m     )\n",
      "File \u001B[0;32m~/Desktop/DiyaDiss/.venv/lib/python3.9/site-packages/transformers/convert_slow_tokenizer.py:1617\u001B[0m, in \u001B[0;36mTikTokenConverter.tokenizer\u001B[0;34m(self)\u001B[0m\n\u001B[1;32m   1616\u001B[0m \u001B[38;5;28;01mdef\u001B[39;00m\u001B[38;5;250m \u001B[39m\u001B[38;5;21mtokenizer\u001B[39m(\u001B[38;5;28mself\u001B[39m):\n\u001B[0;32m-> 1617\u001B[0m     vocab_scores, merges \u001B[38;5;241m=\u001B[39m \u001B[38;5;28;43mself\u001B[39;49m\u001B[38;5;241;43m.\u001B[39;49m\u001B[43mextract_vocab_merges_from_model\u001B[49m\u001B[43m(\u001B[49m\u001B[38;5;28;43mself\u001B[39;49m\u001B[38;5;241;43m.\u001B[39;49m\u001B[43mvocab_file\u001B[49m\u001B[43m)\u001B[49m\n\u001B[1;32m   1618\u001B[0m     tokenizer \u001B[38;5;241m=\u001B[39m Tokenizer(BPE(vocab_scores, merges, fuse_unk\u001B[38;5;241m=\u001B[39m\u001B[38;5;28;01mFalse\u001B[39;00m))\n",
      "File \u001B[0;32m~/Desktop/DiyaDiss/.venv/lib/python3.9/site-packages/transformers/convert_slow_tokenizer.py:1589\u001B[0m, in \u001B[0;36mTikTokenConverter.extract_vocab_merges_from_model\u001B[0;34m(self, tiktoken_url)\u001B[0m\n\u001B[1;32m   1588\u001B[0m \u001B[38;5;28;01mexcept\u001B[39;00m \u001B[38;5;167;01mException\u001B[39;00m:\n\u001B[0;32m-> 1589\u001B[0m     \u001B[38;5;28;01mraise\u001B[39;00m \u001B[38;5;167;01mValueError\u001B[39;00m(\n\u001B[1;32m   1590\u001B[0m         \u001B[38;5;124m\"\u001B[39m\u001B[38;5;124m`tiktoken` is required to read a `tiktoken` file. Install it with \u001B[39m\u001B[38;5;124m\"\u001B[39m \u001B[38;5;124m\"\u001B[39m\u001B[38;5;124m`pip install tiktoken`.\u001B[39m\u001B[38;5;124m\"\u001B[39m\n\u001B[1;32m   1591\u001B[0m     )\n\u001B[1;32m   1593\u001B[0m bpe_ranks \u001B[38;5;241m=\u001B[39m load_tiktoken_bpe(tiktoken_url)\n",
      "\u001B[0;31mValueError\u001B[0m: `tiktoken` is required to read a `tiktoken` file. Install it with `pip install tiktoken`.",
      "\nDuring handling of the above exception, another exception occurred:\n",
      "\u001B[0;31mValueError\u001B[0m                                Traceback (most recent call last)",
      "File \u001B[0;32m~/Desktop/DiyaDiss/.venv/lib/python3.9/site-packages/transformers/tokenization_utils_base.py:2302\u001B[0m, in \u001B[0;36mPreTrainedTokenizerBase._from_pretrained\u001B[0;34m(cls, resolved_vocab_files, pretrained_model_name_or_path, init_configuration, token, cache_dir, local_files_only, _commit_hash, _is_local, trust_remote_code, *init_inputs, **kwargs)\u001B[0m\n\u001B[1;32m   2301\u001B[0m \u001B[38;5;28;01mtry\u001B[39;00m:\n\u001B[0;32m-> 2302\u001B[0m     tokenizer \u001B[38;5;241m=\u001B[39m \u001B[38;5;28;43mcls\u001B[39;49m\u001B[43m(\u001B[49m\u001B[38;5;241;43m*\u001B[39;49m\u001B[43minit_inputs\u001B[49m\u001B[43m,\u001B[49m\u001B[43m \u001B[49m\u001B[38;5;241;43m*\u001B[39;49m\u001B[38;5;241;43m*\u001B[39;49m\u001B[43minit_kwargs\u001B[49m\u001B[43m)\u001B[49m\n\u001B[1;32m   2303\u001B[0m \u001B[38;5;28;01mexcept\u001B[39;00m import_protobuf_decode_error():\n",
      "File \u001B[0;32m~/Desktop/DiyaDiss/.venv/lib/python3.9/site-packages/transformers/models/xlm_roberta/tokenization_xlm_roberta_fast.py:108\u001B[0m, in \u001B[0;36mXLMRobertaTokenizerFast.__init__\u001B[0;34m(self, vocab_file, tokenizer_file, bos_token, eos_token, sep_token, cls_token, unk_token, pad_token, mask_token, **kwargs)\u001B[0m\n\u001B[1;32m    106\u001B[0m mask_token \u001B[38;5;241m=\u001B[39m AddedToken(mask_token, lstrip\u001B[38;5;241m=\u001B[39m\u001B[38;5;28;01mTrue\u001B[39;00m, rstrip\u001B[38;5;241m=\u001B[39m\u001B[38;5;28;01mFalse\u001B[39;00m) \u001B[38;5;28;01mif\u001B[39;00m \u001B[38;5;28misinstance\u001B[39m(mask_token, \u001B[38;5;28mstr\u001B[39m) \u001B[38;5;28;01melse\u001B[39;00m mask_token\n\u001B[0;32m--> 108\u001B[0m \u001B[38;5;28;43msuper\u001B[39;49m\u001B[43m(\u001B[49m\u001B[43m)\u001B[49m\u001B[38;5;241;43m.\u001B[39;49m\u001B[38;5;21;43m__init__\u001B[39;49m\u001B[43m(\u001B[49m\n\u001B[1;32m    109\u001B[0m \u001B[43m    \u001B[49m\u001B[43mvocab_file\u001B[49m\u001B[43m,\u001B[49m\n\u001B[1;32m    110\u001B[0m \u001B[43m    \u001B[49m\u001B[43mtokenizer_file\u001B[49m\u001B[38;5;241;43m=\u001B[39;49m\u001B[43mtokenizer_file\u001B[49m\u001B[43m,\u001B[49m\n\u001B[1;32m    111\u001B[0m \u001B[43m    \u001B[49m\u001B[43mbos_token\u001B[49m\u001B[38;5;241;43m=\u001B[39;49m\u001B[43mbos_token\u001B[49m\u001B[43m,\u001B[49m\n\u001B[1;32m    112\u001B[0m \u001B[43m    \u001B[49m\u001B[43meos_token\u001B[49m\u001B[38;5;241;43m=\u001B[39;49m\u001B[43meos_token\u001B[49m\u001B[43m,\u001B[49m\n\u001B[1;32m    113\u001B[0m \u001B[43m    \u001B[49m\u001B[43msep_token\u001B[49m\u001B[38;5;241;43m=\u001B[39;49m\u001B[43msep_token\u001B[49m\u001B[43m,\u001B[49m\n\u001B[1;32m    114\u001B[0m \u001B[43m    \u001B[49m\u001B[43mcls_token\u001B[49m\u001B[38;5;241;43m=\u001B[39;49m\u001B[43mcls_token\u001B[49m\u001B[43m,\u001B[49m\n\u001B[1;32m    115\u001B[0m \u001B[43m    \u001B[49m\u001B[43munk_token\u001B[49m\u001B[38;5;241;43m=\u001B[39;49m\u001B[43munk_token\u001B[49m\u001B[43m,\u001B[49m\n\u001B[1;32m    116\u001B[0m \u001B[43m    \u001B[49m\u001B[43mpad_token\u001B[49m\u001B[38;5;241;43m=\u001B[39;49m\u001B[43mpad_token\u001B[49m\u001B[43m,\u001B[49m\n\u001B[1;32m    117\u001B[0m \u001B[43m    \u001B[49m\u001B[43mmask_token\u001B[49m\u001B[38;5;241;43m=\u001B[39;49m\u001B[43mmask_token\u001B[49m\u001B[43m,\u001B[49m\n\u001B[1;32m    118\u001B[0m \u001B[43m    \u001B[49m\u001B[38;5;241;43m*\u001B[39;49m\u001B[38;5;241;43m*\u001B[39;49m\u001B[43mkwargs\u001B[49m\u001B[43m,\u001B[49m\n\u001B[1;32m    119\u001B[0m \u001B[43m\u001B[49m\u001B[43m)\u001B[49m\n\u001B[1;32m    121\u001B[0m \u001B[38;5;28mself\u001B[39m\u001B[38;5;241m.\u001B[39mvocab_file \u001B[38;5;241m=\u001B[39m vocab_file\n",
      "File \u001B[0;32m~/Desktop/DiyaDiss/.venv/lib/python3.9/site-packages/transformers/tokenization_utils_fast.py:139\u001B[0m, in \u001B[0;36mPreTrainedTokenizerFast.__init__\u001B[0;34m(self, *args, **kwargs)\u001B[0m\n\u001B[1;32m    138\u001B[0m \u001B[38;5;28mself\u001B[39m\u001B[38;5;241m.\u001B[39madditional_special_tokens \u001B[38;5;241m=\u001B[39m kwargs\u001B[38;5;241m.\u001B[39mget(\u001B[38;5;124m\"\u001B[39m\u001B[38;5;124madditional_special_tokens\u001B[39m\u001B[38;5;124m\"\u001B[39m, [])\n\u001B[0;32m--> 139\u001B[0m fast_tokenizer \u001B[38;5;241m=\u001B[39m \u001B[43mconvert_slow_tokenizer\u001B[49m\u001B[43m(\u001B[49m\u001B[38;5;28;43mself\u001B[39;49m\u001B[43m,\u001B[49m\u001B[43m \u001B[49m\u001B[43mfrom_tiktoken\u001B[49m\u001B[38;5;241;43m=\u001B[39;49m\u001B[38;5;28;43;01mTrue\u001B[39;49;00m\u001B[43m)\u001B[49m\n\u001B[1;32m    140\u001B[0m slow_tokenizer \u001B[38;5;241m=\u001B[39m \u001B[38;5;28;01mNone\u001B[39;00m\n",
      "File \u001B[0;32m~/Desktop/DiyaDiss/.venv/lib/python3.9/site-packages/transformers/convert_slow_tokenizer.py:1732\u001B[0m, in \u001B[0;36mconvert_slow_tokenizer\u001B[0;34m(transformer_tokenizer, from_tiktoken)\u001B[0m\n\u001B[1;32m   1731\u001B[0m \u001B[38;5;28;01mexcept\u001B[39;00m \u001B[38;5;167;01mException\u001B[39;00m:\n\u001B[0;32m-> 1732\u001B[0m     \u001B[38;5;28;01mraise\u001B[39;00m \u001B[38;5;167;01mValueError\u001B[39;00m(\n\u001B[1;32m   1733\u001B[0m         \u001B[38;5;124mf\u001B[39m\u001B[38;5;124m\"\u001B[39m\u001B[38;5;124mConverting from Tiktoken failed, if a converter for SentencePiece is available, provide a model path \u001B[39m\u001B[38;5;124m\"\u001B[39m\n\u001B[1;32m   1734\u001B[0m         \u001B[38;5;124mf\u001B[39m\u001B[38;5;124m\"\u001B[39m\u001B[38;5;124mwith a SentencePiece tokenizer.model file.\u001B[39m\u001B[38;5;124m\"\u001B[39m\n\u001B[1;32m   1735\u001B[0m         \u001B[38;5;124mf\u001B[39m\u001B[38;5;124m\"\u001B[39m\u001B[38;5;124mCurrently available slow->fast converters: \u001B[39m\u001B[38;5;132;01m{\u001B[39;00m\u001B[38;5;28mlist\u001B[39m(SLOW_TO_FAST_CONVERTERS\u001B[38;5;241m.\u001B[39mkeys())\u001B[38;5;132;01m}\u001B[39;00m\u001B[38;5;124m\"\u001B[39m\n\u001B[1;32m   1736\u001B[0m     )\n",
      "\u001B[0;31mValueError\u001B[0m: Converting from Tiktoken failed, if a converter for SentencePiece is available, provide a model path with a SentencePiece tokenizer.model file.Currently available slow->fast converters: ['AlbertTokenizer', 'BartTokenizer', 'BarthezTokenizer', 'BertTokenizer', 'BigBirdTokenizer', 'BlenderbotTokenizer', 'CamembertTokenizer', 'CLIPTokenizer', 'CodeGenTokenizer', 'ConvBertTokenizer', 'DebertaTokenizer', 'DebertaV2Tokenizer', 'DistilBertTokenizer', 'DPRReaderTokenizer', 'DPRQuestionEncoderTokenizer', 'DPRContextEncoderTokenizer', 'ElectraTokenizer', 'FNetTokenizer', 'FunnelTokenizer', 'GPT2Tokenizer', 'HerbertTokenizer', 'LayoutLMTokenizer', 'LayoutLMv2Tokenizer', 'LayoutLMv3Tokenizer', 'LayoutXLMTokenizer', 'LongformerTokenizer', 'LEDTokenizer', 'LxmertTokenizer', 'MarkupLMTokenizer', 'MBartTokenizer', 'MBart50Tokenizer', 'MPNetTokenizer', 'MobileBertTokenizer', 'MvpTokenizer', 'NllbTokenizer', 'OpenAIGPTTokenizer', 'PegasusTokenizer', 'Qwen2Tokenizer', 'RealmTokenizer', 'ReformerTokenizer', 'RemBertTokenizer', 'RetriBertTokenizer', 'RobertaTokenizer', 'RoFormerTokenizer', 'SeamlessM4TTokenizer', 'SqueezeBertTokenizer', 'T5Tokenizer', 'UdopTokenizer', 'WhisperTokenizer', 'XLMRobertaTokenizer', 'XLNetTokenizer', 'SplinterTokenizer', 'XGLMTokenizer', 'LlamaTokenizer', 'CodeLlamaTokenizer', 'GemmaTokenizer', 'Phi3Tokenizer']",
      "\nDuring handling of the above exception, another exception occurred:\n",
      "\u001B[0;31mImportError\u001B[0m                               Traceback (most recent call last)",
      "Cell \u001B[0;32mIn[101], line 36\u001B[0m\n\u001B[1;32m     31\u001B[0m     result_df \u001B[38;5;241m=\u001B[39m extract_thematic_roles(pos_df, text_col\u001B[38;5;241m=\u001B[39m\u001B[38;5;124m\"\u001B[39m\u001B[38;5;124mtext\u001B[39m\u001B[38;5;124m\"\u001B[39m)\n\u001B[1;32m     32\u001B[0m     \u001B[38;5;28mprint\u001B[39m(result_df)\n\u001B[0;32m---> 36\u001B[0m \u001B[43mextract_thematic_roles\u001B[49m\u001B[43m(\u001B[49m\u001B[43m)\u001B[49m\n",
      "Cell \u001B[0;32mIn[101], line 31\u001B[0m, in \u001B[0;36mextract_thematic_roles\u001B[0;34m()\u001B[0m\n\u001B[1;32m     28\u001B[0m pos_df \u001B[38;5;241m=\u001B[39m pd\u001B[38;5;241m.\u001B[39mDataFrame(data)\n\u001B[1;32m     30\u001B[0m \u001B[38;5;66;03m# Extract thematic roles\u001B[39;00m\n\u001B[0;32m---> 31\u001B[0m result_df \u001B[38;5;241m=\u001B[39m \u001B[43mextract_thematic_roles\u001B[49m\u001B[43m(\u001B[49m\u001B[43mpos_df\u001B[49m\u001B[43m,\u001B[49m\u001B[43m \u001B[49m\u001B[43mtext_col\u001B[49m\u001B[38;5;241;43m=\u001B[39;49m\u001B[38;5;124;43m\"\u001B[39;49m\u001B[38;5;124;43mtext\u001B[39;49m\u001B[38;5;124;43m\"\u001B[39;49m\u001B[43m)\u001B[49m\n\u001B[1;32m     32\u001B[0m \u001B[38;5;28mprint\u001B[39m(result_df)\n",
      "Cell \u001B[0;32mIn[101], line 8\u001B[0m, in \u001B[0;36mextract_thematic_roles.<locals>.extract_thematic_roles\u001B[0;34m(df, text_col)\u001B[0m\n\u001B[1;32m      5\u001B[0m \u001B[38;5;28;01mdef\u001B[39;00m\u001B[38;5;250m \u001B[39m\u001B[38;5;21mextract_thematic_roles\u001B[39m(df, text_col\u001B[38;5;241m=\u001B[39m\u001B[38;5;124m\"\u001B[39m\u001B[38;5;124mtext\u001B[39m\u001B[38;5;124m\"\u001B[39m):\n\u001B[1;32m      6\u001B[0m     \u001B[38;5;66;03m# Load the model and tokenizer from Hugging Face\u001B[39;00m\n\u001B[1;32m      7\u001B[0m     model_checkpoint \u001B[38;5;241m=\u001B[39m \u001B[38;5;124m\"\u001B[39m\u001B[38;5;124mliaad/srl-en_xlmr-large\u001B[39m\u001B[38;5;124m\"\u001B[39m\n\u001B[0;32m----> 8\u001B[0m     tokenizer \u001B[38;5;241m=\u001B[39m \u001B[43mAutoTokenizer\u001B[49m\u001B[38;5;241;43m.\u001B[39;49m\u001B[43mfrom_pretrained\u001B[49m\u001B[43m(\u001B[49m\u001B[43mmodel_checkpoint\u001B[49m\u001B[43m)\u001B[49m\n\u001B[1;32m      9\u001B[0m     model \u001B[38;5;241m=\u001B[39m AutoModelForTokenClassification\u001B[38;5;241m.\u001B[39mfrom_pretrained(model_checkpoint)\n\u001B[1;32m     11\u001B[0m     \u001B[38;5;66;03m# Create a token classification pipeline.\u001B[39;00m\n\u001B[1;32m     12\u001B[0m     \u001B[38;5;66;03m# The aggregation_strategy groups contiguous tokens with the same label.\u001B[39;00m\n",
      "File \u001B[0;32m~/Desktop/DiyaDiss/.venv/lib/python3.9/site-packages/transformers/models/auto/tokenization_auto.py:992\u001B[0m, in \u001B[0;36mAutoTokenizer.from_pretrained\u001B[0;34m(cls, pretrained_model_name_or_path, *inputs, **kwargs)\u001B[0m\n\u001B[1;32m    989\u001B[0m tokenizer_class_py, tokenizer_class_fast \u001B[38;5;241m=\u001B[39m TOKENIZER_MAPPING[\u001B[38;5;28mtype\u001B[39m(config)]\n\u001B[1;32m    991\u001B[0m \u001B[38;5;28;01mif\u001B[39;00m tokenizer_class_fast \u001B[38;5;129;01mand\u001B[39;00m (use_fast \u001B[38;5;129;01mor\u001B[39;00m tokenizer_class_py \u001B[38;5;129;01mis\u001B[39;00m \u001B[38;5;28;01mNone\u001B[39;00m):\n\u001B[0;32m--> 992\u001B[0m     \u001B[38;5;28;01mreturn\u001B[39;00m \u001B[43mtokenizer_class_fast\u001B[49m\u001B[38;5;241;43m.\u001B[39;49m\u001B[43mfrom_pretrained\u001B[49m\u001B[43m(\u001B[49m\u001B[43mpretrained_model_name_or_path\u001B[49m\u001B[43m,\u001B[49m\u001B[43m \u001B[49m\u001B[38;5;241;43m*\u001B[39;49m\u001B[43minputs\u001B[49m\u001B[43m,\u001B[49m\u001B[43m \u001B[49m\u001B[38;5;241;43m*\u001B[39;49m\u001B[38;5;241;43m*\u001B[39;49m\u001B[43mkwargs\u001B[49m\u001B[43m)\u001B[49m\n\u001B[1;32m    993\u001B[0m \u001B[38;5;28;01melse\u001B[39;00m:\n\u001B[1;32m    994\u001B[0m     \u001B[38;5;28;01mif\u001B[39;00m tokenizer_class_py \u001B[38;5;129;01mis\u001B[39;00m \u001B[38;5;129;01mnot\u001B[39;00m \u001B[38;5;28;01mNone\u001B[39;00m:\n",
      "File \u001B[0;32m~/Desktop/DiyaDiss/.venv/lib/python3.9/site-packages/transformers/tokenization_utils_base.py:2062\u001B[0m, in \u001B[0;36mPreTrainedTokenizerBase.from_pretrained\u001B[0;34m(cls, pretrained_model_name_or_path, cache_dir, force_download, local_files_only, token, revision, trust_remote_code, *init_inputs, **kwargs)\u001B[0m\n\u001B[1;32m   2059\u001B[0m     \u001B[38;5;28;01melse\u001B[39;00m:\n\u001B[1;32m   2060\u001B[0m         logger\u001B[38;5;241m.\u001B[39minfo(\u001B[38;5;124mf\u001B[39m\u001B[38;5;124m\"\u001B[39m\u001B[38;5;124mloading file \u001B[39m\u001B[38;5;132;01m{\u001B[39;00mfile_path\u001B[38;5;132;01m}\u001B[39;00m\u001B[38;5;124m from cache at \u001B[39m\u001B[38;5;132;01m{\u001B[39;00mresolved_vocab_files[file_id]\u001B[38;5;132;01m}\u001B[39;00m\u001B[38;5;124m\"\u001B[39m)\n\u001B[0;32m-> 2062\u001B[0m \u001B[38;5;28;01mreturn\u001B[39;00m \u001B[38;5;28;43mcls\u001B[39;49m\u001B[38;5;241;43m.\u001B[39;49m\u001B[43m_from_pretrained\u001B[49m\u001B[43m(\u001B[49m\n\u001B[1;32m   2063\u001B[0m \u001B[43m    \u001B[49m\u001B[43mresolved_vocab_files\u001B[49m\u001B[43m,\u001B[49m\n\u001B[1;32m   2064\u001B[0m \u001B[43m    \u001B[49m\u001B[43mpretrained_model_name_or_path\u001B[49m\u001B[43m,\u001B[49m\n\u001B[1;32m   2065\u001B[0m \u001B[43m    \u001B[49m\u001B[43minit_configuration\u001B[49m\u001B[43m,\u001B[49m\n\u001B[1;32m   2066\u001B[0m \u001B[43m    \u001B[49m\u001B[38;5;241;43m*\u001B[39;49m\u001B[43minit_inputs\u001B[49m\u001B[43m,\u001B[49m\n\u001B[1;32m   2067\u001B[0m \u001B[43m    \u001B[49m\u001B[43mtoken\u001B[49m\u001B[38;5;241;43m=\u001B[39;49m\u001B[43mtoken\u001B[49m\u001B[43m,\u001B[49m\n\u001B[1;32m   2068\u001B[0m \u001B[43m    \u001B[49m\u001B[43mcache_dir\u001B[49m\u001B[38;5;241;43m=\u001B[39;49m\u001B[43mcache_dir\u001B[49m\u001B[43m,\u001B[49m\n\u001B[1;32m   2069\u001B[0m \u001B[43m    \u001B[49m\u001B[43mlocal_files_only\u001B[49m\u001B[38;5;241;43m=\u001B[39;49m\u001B[43mlocal_files_only\u001B[49m\u001B[43m,\u001B[49m\n\u001B[1;32m   2070\u001B[0m \u001B[43m    \u001B[49m\u001B[43m_commit_hash\u001B[49m\u001B[38;5;241;43m=\u001B[39;49m\u001B[43mcommit_hash\u001B[49m\u001B[43m,\u001B[49m\n\u001B[1;32m   2071\u001B[0m \u001B[43m    \u001B[49m\u001B[43m_is_local\u001B[49m\u001B[38;5;241;43m=\u001B[39;49m\u001B[43mis_local\u001B[49m\u001B[43m,\u001B[49m\n\u001B[1;32m   2072\u001B[0m \u001B[43m    \u001B[49m\u001B[43mtrust_remote_code\u001B[49m\u001B[38;5;241;43m=\u001B[39;49m\u001B[43mtrust_remote_code\u001B[49m\u001B[43m,\u001B[49m\n\u001B[1;32m   2073\u001B[0m \u001B[43m    \u001B[49m\u001B[38;5;241;43m*\u001B[39;49m\u001B[38;5;241;43m*\u001B[39;49m\u001B[43mkwargs\u001B[49m\u001B[43m,\u001B[49m\n\u001B[1;32m   2074\u001B[0m \u001B[43m\u001B[49m\u001B[43m)\u001B[49m\n",
      "File \u001B[0;32m~/Desktop/DiyaDiss/.venv/lib/python3.9/site-packages/transformers/tokenization_utils_base.py:2303\u001B[0m, in \u001B[0;36mPreTrainedTokenizerBase._from_pretrained\u001B[0;34m(cls, resolved_vocab_files, pretrained_model_name_or_path, init_configuration, token, cache_dir, local_files_only, _commit_hash, _is_local, trust_remote_code, *init_inputs, **kwargs)\u001B[0m\n\u001B[1;32m   2301\u001B[0m \u001B[38;5;28;01mtry\u001B[39;00m:\n\u001B[1;32m   2302\u001B[0m     tokenizer \u001B[38;5;241m=\u001B[39m \u001B[38;5;28mcls\u001B[39m(\u001B[38;5;241m*\u001B[39minit_inputs, \u001B[38;5;241m*\u001B[39m\u001B[38;5;241m*\u001B[39minit_kwargs)\n\u001B[0;32m-> 2303\u001B[0m \u001B[38;5;28;01mexcept\u001B[39;00m \u001B[43mimport_protobuf_decode_error\u001B[49m\u001B[43m(\u001B[49m\u001B[43m)\u001B[49m:\n\u001B[1;32m   2304\u001B[0m     logger\u001B[38;5;241m.\u001B[39minfo(\n\u001B[1;32m   2305\u001B[0m         \u001B[38;5;124m\"\u001B[39m\u001B[38;5;124mUnable to load tokenizer model from SPM, loading from TikToken will be attempted instead.\u001B[39m\u001B[38;5;124m\"\u001B[39m\n\u001B[1;32m   2306\u001B[0m         \u001B[38;5;124m\"\u001B[39m\u001B[38;5;124m(Google protobuf error: Tried to load SPM model with non-SPM vocab file).\u001B[39m\u001B[38;5;124m\"\u001B[39m,\n\u001B[1;32m   2307\u001B[0m     )\n\u001B[1;32m   2308\u001B[0m     \u001B[38;5;28;01mreturn\u001B[39;00m \u001B[38;5;28;01mFalse\u001B[39;00m\n",
      "File \u001B[0;32m~/Desktop/DiyaDiss/.venv/lib/python3.9/site-packages/transformers/tokenization_utils_base.py:87\u001B[0m, in \u001B[0;36mimport_protobuf_decode_error\u001B[0;34m(error_message)\u001B[0m\n\u001B[1;32m     85\u001B[0m     \u001B[38;5;28;01mreturn\u001B[39;00m DecodeError\n\u001B[1;32m     86\u001B[0m \u001B[38;5;28;01melse\u001B[39;00m:\n\u001B[0;32m---> 87\u001B[0m     \u001B[38;5;28;01mraise\u001B[39;00m \u001B[38;5;167;01mImportError\u001B[39;00m(PROTOBUF_IMPORT_ERROR\u001B[38;5;241m.\u001B[39mformat(error_message))\n",
      "\u001B[0;31mImportError\u001B[0m: \n requires the protobuf library but it was not found in your environment. Checkout the instructions on the\ninstallation page of its repo: https://github.com/protocolbuffers/protobuf/tree/master/python#installation and follow the ones\nthat match your environment. Please note that you may need to restart your runtime after installation.\n"
     ]
    }
   ],
   "execution_count": 101
  },
  {
   "cell_type": "code",
   "execution_count": null,
   "outputs": [],
   "source": [
    "# # def extract_thematic_roles(text):\n",
    "# #     '''\n",
    "# #     Function to extract thematic roles using spaCy\n",
    "# # \n",
    "# #     :param text: original text of tweet as str\n",
    "# #     :return: list of thematic roles identified in 'text'\n",
    "# #     '''\n",
    "# #     doc = nlp(text)\n",
    "# #     roles = {}\n",
    "# #     for token in doc:\n",
    "# #         if token.dep_ in ['nsubj', 'dobj', 'iobj', 'pobj', 'attr', 'agent', 'prep']:  # Common thematic roles\n",
    "# #             roles[token.dep_] = token.text\n",
    "# #     return roles\n",
    "# \n",
    "# # Function to compare thematic roles with VerbNet classes\n",
    "# \n",
    "def match_verbnet_classes(verb, sentence):\n",
    "    candidates = vn.classids(verb)\n",
    "    sentence_roles = extract_thematic_roles(sentence)\n",
    "    best_match = None\n",
    "    best_score = 0\n",
    "\n",
    "    for candidate in candidates:\n",
    "        themroles = vn.themroles(candidate)\n",
    "        vn_roles = [role[0] for role in themroles]  # Extract thematic role types\n",
    "\n",
    "        # Count the matches between extracted roles and VerbNet roles\n",
    "        match_count = sum(1 for role in sentence_roles if role in vn_roles)\n",
    "\n",
    "        if match_count > best_score:\n",
    "            best_match = candidate\n",
    "            best_score = match_count\n",
    "\n",
    "    return best_match, best_score\n",
    "# \n",
    "# # Apply match_verbnet_classes function to pos_df\n",
    "# \n",
    "def apply_verbnet_matching(row):\n",
    "    verbnet_matches = {}\n",
    "    for verb in row['verb_lemmas']:\n",
    "        best_class, score = match_verbnet_classes(verb, row['text'])\n",
    "        if best_class is not None:\n",
    "            verbnet_matches[verb] = (best_class, score)\n",
    "    return verbnet_matches\n"
   ],
   "metadata": {
    "collapsed": false,
    "ExecuteTime": {
     "end_time": "2025-03-26T20:33:50.549221Z",
     "start_time": "2025-03-26T13:28:03.270510Z"
    }
   },
   "id": "9b9cddee7bf6cbb3"
  },
  {
   "cell_type": "code",
   "execution_count": null,
   "outputs": [],
   "source": [
    "# pos_df['verbnet_matches'] = pos_df.apply(apply_verbnet_matching, axis=1)\n",
    "# \n",
    "# # Display sample of pos_df\n",
    "# pos_df.head()"
   ],
   "metadata": {
    "collapsed": false,
    "ExecuteTime": {
     "end_time": "2025-03-26T20:33:50.570530Z",
     "start_time": "2025-03-26T13:28:03.271741Z"
    }
   },
   "id": "8e0d712db27954a9"
  },
  {
   "cell_type": "code",
   "execution_count": null,
   "outputs": [],
   "source": [
    "# verb_scores_df = weighted_hatespeech_score(pos_df, 'verb_lemmas')\n",
    "# print(verb_scores_df)"
   ],
   "metadata": {
    "collapsed": false,
    "ExecuteTime": {
     "end_time": "2025-03-26T20:33:50.592417Z",
     "start_time": "2025-03-26T13:28:03.272572Z"
    }
   },
   "id": "94ed41d0add53df9"
  },
  {
   "cell_type": "code",
   "execution_count": null,
   "outputs": [],
   "source": [
    "#### TODO SLUR FILTER"
   ],
   "metadata": {
    "collapsed": false,
    "ExecuteTime": {
     "end_time": "2025-03-26T20:33:50.595006Z",
     "start_time": "2025-03-26T13:28:03.273467Z"
    }
   },
   "id": "423cc56950f46279"
  },
  {
   "cell_type": "code",
   "execution_count": null,
   "outputs": [],
   "source": [
    "# # List of slurs, derogatory words, or abusive words\n",
    "# slurs_list = [\n",
    "#     'bastard', 'bitch', 'cunt', 'dick', 'faggot', 'fuck', 'motherfucking', 'nigga', 'nigger', 'prick', 'slut', 'whore', 'dumb', 'inbred',\n",
    "#     'retard', 'pussy', 'twat', 'wanker', 'arsehole', 'cock', 'shithead', 'tosser', 'slag', 'dyke', 'homo', 'tranny', 'cock',\n",
    "#     'spaz', 'chink', 'gook', 'wetback', 'spic', 'kike', 'cracker', 'coon', 'raghead', 'redskin', 'jap', 'mick', 'kraut', 'shit'\n",
    "# ]\n",
    "# \n",
    "# # Function to filter out slurs from the DataFrame\n",
    "# \n",
    "# def filter_slurs(df, column_name):\n",
    "#     slurs_removed_df = df[~df[column_name].isin(slurs_list)]\n",
    "#     return slurs_removed_df\n",
    "# \n",
    "# # Apply filtering to verb_scores_df\n",
    "# filtered_verb_scores_df = filter_slurs(verb_scores_df, \"word\")\n",
    "# print(filtered_verb_scores_df)\n"
   ],
   "metadata": {
    "collapsed": false,
    "ExecuteTime": {
     "end_time": "2025-03-26T20:33:50.595975Z",
     "start_time": "2025-03-26T13:28:03.274513Z"
    }
   },
   "id": "d3f5dd3c4f6cf507"
  },
  {
   "cell_type": "code",
   "execution_count": null,
   "outputs": [],
   "source": [
    "# Print the top 20 words by normalized weighted score\n",
    "print(filtered_verb_scores_df.head(60))\n",
    "\n",
    "# Print the bottom 20 words by normalized weighted score\n",
    "print(filtered_verb_scores_df.tail(60))"
   ],
   "metadata": {
    "collapsed": false,
    "ExecuteTime": {
     "end_time": "2025-03-26T20:33:50.605439Z",
     "start_time": "2025-03-26T13:28:03.275326Z"
    }
   },
   "id": "faa4fd73a630d0d1"
  },
  {
   "cell_type": "code",
   "execution_count": null,
   "outputs": [],
   "source": [
    "filtered_verb_scores_df['verb_class'] = filtered_verb_scores_df['word'].apply(lambda word: vn.classids(word))\n",
    "print(filtered_verb_scores_df.head(50))"
   ],
   "metadata": {
    "collapsed": false,
    "ExecuteTime": {
     "end_time": "2025-03-26T20:33:50.609077Z",
     "start_time": "2025-03-26T13:28:03.276325Z"
    }
   },
   "id": "64eb852fce52add1"
  },
  {
   "cell_type": "code",
   "execution_count": null,
   "outputs": [],
   "source": [
    "# most common verb classes\n",
    "\n",
    "pos_df['verb_classes'] = pos_df['verb_lemmas'].apply(\n",
    "    lambda row: [vn.classids(verb) for verb in row ]\n",
    ")\n",
    "\n",
    "# pos_df = get_lemmas(pos_df, 'verbs', 'verb_lemmas')"
   ],
   "metadata": {
    "collapsed": false,
    "ExecuteTime": {
     "end_time": "2025-03-26T20:33:50.609371Z",
     "start_time": "2025-03-26T13:28:03.277345Z"
    }
   },
   "id": "38752349a93f3c94"
  },
  {
   "cell_type": "code",
   "execution_count": null,
   "outputs": [],
   "source": [
    "print(pos_df)"
   ],
   "metadata": {
    "collapsed": false,
    "ExecuteTime": {
     "end_time": "2025-03-26T20:33:50.609767Z",
     "start_time": "2025-03-26T13:28:03.278154Z"
    }
   },
   "id": "818a19307ff8f17e"
  },
  {
   "cell_type": "code",
   "execution_count": null,
   "outputs": [],
   "source": [
    "# def get_verb_class(row):\n",
    "#     '''\n",
    "#     Extracts VerbNet classes and thematic roles for all verbs in a row.\n",
    "# \n",
    "#     :param row: A single row from a DataFrame (pd.Series) containing a 'verbs' column.\n",
    "#     :return: Dictionary with verb classes and their thematic roles\n",
    "#     '''\n",
    "#     tagged_verbs = []\n",
    "# \n",
    "#     if isinstance(row, pd.Series) and 'verbs' in row and isinstance(row['verbs'], list):  \n",
    "#         for verb in row['verbs']:\n",
    "#             if isinstance(verb, str):  # Ensure each item is a string\n",
    "#                 verb_classes = vn.classids(verb)\n",
    "#                 if verb_classes:\n",
    "#                     verb_class = verb_classes if verb_classes else verb\n",
    "#                     tagged_verbs.append(verb_class)\n",
    "#                     \n",
    "#                     verb_info = []\n",
    "# \n",
    "#                     # Retrieve thematic roles associated with this verb class\n",
    "#                     for vn_class in verb_classes:\n",
    "#                         themroles = vn_reader.themroles(vn_class)  # Get thematic roles\n",
    "#                         verb_info.append({\n",
    "#                             \"vn_class\": vn_class,\n",
    "#                             \"thematic_roles\": [{\n",
    "#                                 \"type\": role['type'], \n",
    "#                                 \"modifiers\": role.get('modifiers', {}), \n",
    "#                                 \"selectional_restrictions\": role.get('selrestrs')\n",
    "#                             } for role in themroles]\n",
    "#                         })\n",
    "#                 # return verb_info\n",
    "#                     \n",
    "#                 #     themroles = vn.themroles(verb_class)\n",
    "#                 #     if themroles:\n",
    "#                 #         for role in themroles:\n",
    "#                 #             role_name = role.get('themrole')\n",
    "#                 #             selectional_restrictions = role.get('selrestrs')  # e.g., {'+animate'}\n",
    "#                 #             verb_roles[verb].append((role_name, selectional_restrictions))\n",
    "#                 # else:\n",
    "#                 #     tagged_verbs.append(None)\n",
    "#     \n",
    "#     # Return both the classes and thematic roles for each verb\n",
    "#     else:\n",
    "#         verb_info = []\n",
    "#     return {'verb_classes': tagged_verbs, 'verb_args': verb_info}\n"
   ],
   "metadata": {
    "collapsed": false,
    "ExecuteTime": {
     "end_time": "2025-03-26T20:33:50.609874Z",
     "start_time": "2025-03-26T13:28:03.279133Z"
    }
   },
   "id": "7ab1c4c3838e514a"
  },
  {
   "cell_type": "code",
   "execution_count": null,
   "outputs": [],
   "source": [
    "# pos_df['verb_info'] = pos_df.apply(get_verb_class, axis=1)\n",
    "# print(pos_df)"
   ],
   "metadata": {
    "collapsed": false,
    "ExecuteTime": {
     "end_time": "2025-03-26T20:33:50.609955Z",
     "start_time": "2025-03-26T13:28:03.279931Z"
    }
   },
   "id": "d50654111afad283"
  },
  {
   "cell_type": "code",
   "execution_count": null,
   "outputs": [],
   "source": [
    "# def get_verbnet_info(verb):\n",
    "#     \"\"\"\n",
    "#     Get VerbNet class and thematic roles for a given verb.\n",
    "#     \"\"\"\n",
    "#     vn_classes = vn_reader.classids(lemma=verb)\n",
    "#     verb_info = []\n",
    "#     for vn_class in vn_classes:\n",
    "#         themroles = vn_reader.themroles(vn_class)  # Get thematic roles\n",
    "#         verb_info.append({\n",
    "#             \"vn_class\": vn_class,\n",
    "#             \"thematic_roles\": [{\n",
    "#                 \"type\": role['type'], \n",
    "#                 \"modifiers\": role.get('modifiers', {}), \n",
    "#                 \"selectional_restrictions\": role.get('selrestrs')} \n",
    "#                 for role in themroles]\n",
    "#         })\n",
    "#     return verb_info\n",
    "# \n",
    "# # Example usage\n",
    "# verb = \"cause\"\n",
    "# info = get_verbnet_info(verb)\n",
    "# print(info)"
   ],
   "metadata": {
    "collapsed": false,
    "ExecuteTime": {
     "end_time": "2025-03-26T20:33:50.610092Z",
     "start_time": "2025-03-26T13:28:03.280946Z"
    }
   },
   "id": "991241584ecbdcbc"
  },
  {
   "cell_type": "markdown",
   "source": [
    "### Connectives"
   ],
   "metadata": {
    "collapsed": false
   },
   "id": "a1a57ebf26080f4b"
  },
  {
   "cell_type": "code",
   "execution_count": null,
   "outputs": [],
   "source": [
    "# Causality connectives list\n",
    "causality_connectives = [\n",
    "    \"because\", \"so\", \"therefore\", \"thus\", \"due to\", \"as a result\", \"consequently\", \"hence\", \n",
    "    \"since\", \"for this reason\", \"for that reason\", \"as\", \"owing to\", \"so that\", \"this leads to\", \n",
    "    \"this results in\", \"accordingly\", \"in consequence\", \"in view of\", \"on account of\", \"thanks to\", \n",
    "    \"caused by\", \"is why\", \"if\", \"then\", \"thereby\", \"by virtue of\", \"thus far\", \"given that\", \n",
    "    \"in that\", \"in turn\", \"as long as\", \"as a consequence\", \"due to the fact that\", \"because of\", \n",
    "    \"for\", \"in order to\", \"with the result that\", \"so as to\", \"such that\", \"as such\", \"from this follows\", \n",
    "    \"on condition that\", \"in effect\", \"leading to\", \"making it so\", \"with the effect that\", \"as a byproduct of\",\n",
    "    \"resulting from\", \"contributing to\", \"with\", \"unless\"\n",
    "]\n",
    "\n",
    "# Function to find counts of causality connectives from diff dictionary\n",
    "def find_causality_connective_counts(diff, connectives):\n",
    "    # Create a dictionary to store the counts for the connectives\n",
    "    connective_counts = {}\n",
    "    \n",
    "    for word in diff:\n",
    "        if word in connectives:  # Check if the word is in the list of causality connectives\n",
    "            connective_counts[word] = diff[word]  # Store the diff value for that word\n",
    "    \n",
    "    return connective_counts\n",
    "\n",
    "# Example diff dictionary (from your code)\n",
    "# diff = { ... }  # This would be generated from your previous code\n",
    "\n",
    "# Get the causality connective counts\n",
    "causal_connective_diff_counts = find_causality_connective_counts(diff, causality_connectives)\n",
    "\n",
    "# Print the sorted result\n",
    "print(dict(sorted(causal_connective_diff_counts.items(), key=lambda item: item[1], reverse=True)))"
   ],
   "metadata": {
    "collapsed": false,
    "ExecuteTime": {
     "end_time": "2025-03-26T20:33:50.610241Z",
     "start_time": "2025-03-26T13:28:03.281753Z"
    }
   },
   "id": "4b7e797e5d31749"
  },
  {
   "cell_type": "markdown",
   "source": [
    "### Noun classes"
   ],
   "metadata": {
    "collapsed": false
   },
   "id": "f8adb3f7665135eb"
  },
  {
   "cell_type": "code",
   "execution_count": null,
   "outputs": [],
   "source": [
    "def count_noun_classes(tokens):\n",
    "    \"\"\"\n",
    "    Classifies nouns and counts occurrences in each class: proper, abstract, concrete, and animate.\n",
    "    \"\"\"\n",
    "    noun_counts = defaultdict(int)\n",
    "\n",
    "    def classify_noun(noun):\n",
    "        synsets = wn.synsets(noun, pos=wn.NOUN)\n",
    "        if not synsets:\n",
    "            return \"unknown\"\n",
    "        for synset in synsets:\n",
    "            hypernyms = set(h.name() for h in synset.closure(lambda s: s.hypernyms()))\n",
    "            if \"physical_entity.n.01\" in hypernyms:\n",
    "                return \"concrete\"\n",
    "            if \"person.n.01\" in hypernyms or \"animal.n.01\" in hypernyms:\n",
    "                return \"animate\"\n",
    "        return \"abstract\"\n",
    "\n",
    "    for token in tokens:\n",
    "        classification = classify_noun(token)\n",
    "        noun_counts[classification] += 1\n",
    "\n",
    "    return noun_counts\n",
    "\n",
    "def accumulate_noun_counts(ds, hs='all'):\n",
    "    total_counts = defaultdict(int)\n",
    "\n",
    "    if hs == 'yes':\n",
    "        token_lists = [row['tokens'] for row in ds if row['hate_speech_score'] >= 0.5]\n",
    "    elif hs == 'no':\n",
    "        token_lists = [row['tokens'] for row in ds if row['hate_speech_score'] < 0.5]\n",
    "    else:\n",
    "        token_lists = [row['tokens'] for row in ds]\n",
    "\n",
    "    for tokens in token_lists:\n",
    "        noun_counts = count_noun_classes(tokens)\n",
    "        for noun_class, count in noun_counts.items():\n",
    "            total_counts[noun_class] += count\n",
    "\n",
    "    return total_counts\n",
    "\n",
    "hs_noun_counts = accumulate_noun_counts(tokenised_ds, hs='yes')\n",
    "non_hs_noun_counts = accumulate_noun_counts(tokenised_ds, hs='no')\n",
    "\n",
    "print(\"Hate Speech Noun Counts:\", hs_noun_counts)\n",
    "print(\"Non-Hate Speech Noun Counts:\", non_hs_noun_counts)"
   ],
   "metadata": {
    "collapsed": false,
    "ExecuteTime": {
     "end_time": "2025-03-26T20:33:50.610456Z",
     "start_time": "2025-03-26T13:28:03.282852Z"
    }
   },
   "id": "7dfec2ecbb1c340e"
  },
  {
   "cell_type": "markdown",
   "source": [
    "### Modals"
   ],
   "metadata": {
    "collapsed": false
   },
   "id": "43350be6ae2ed103"
  },
  {
   "cell_type": "code",
   "execution_count": null,
   "outputs": [],
   "source": [
    "modals = ['can', 'could', 'shall', 'should', 'will', 'would', 'may', 'might', 'must']"
   ],
   "metadata": {
    "collapsed": false,
    "ExecuteTime": {
     "end_time": "2025-03-26T20:33:50.610689Z",
     "start_time": "2025-03-26T13:28:03.283679Z"
    }
   },
   "id": "66c297f15a5ca3ee"
  },
  {
   "cell_type": "markdown",
   "source": [],
   "metadata": {
    "collapsed": false
   },
   "id": "16a9eca9e81ea48b"
  },
  {
   "cell_type": "code",
   "execution_count": null,
   "outputs": [],
   "source": [
    "print(max(filtered_df['hate_speech_score']))"
   ],
   "metadata": {
    "collapsed": false,
    "ExecuteTime": {
     "end_time": "2025-03-26T20:33:50.610778Z",
     "start_time": "2025-03-26T13:28:03.284803Z"
    }
   },
   "id": "61411f11cfe2fd08"
  },
  {
   "cell_type": "markdown",
   "source": [
    "descriptive stats are ok! andrew gillman (bayesian but not ideological) - cool blog. embrace uncertainty - exploratory analyses: be open and honest about what worked and what didn't work. "
   ],
   "metadata": {
    "collapsed": false
   },
   "id": "27edccf95864ea69"
  },
  {
   "cell_type": "markdown",
   "source": [
    "# Verbnet"
   ],
   "metadata": {
    "collapsed": false
   },
   "id": "9e2730890c7977ae"
  },
  {
   "cell_type": "code",
   "execution_count": null,
   "outputs": [],
   "source": [
    "# def analyze_verbnet_patterns(dataset, hate_speech_filter='all'):\n",
    "#     \"\"\"\n",
    "#     Analyze VerbNet patterns in a dataset for hate speech and non-hate speech.\n",
    "#     :param dataset: List of dictionaries with 'tokens' and 'hate_speech_score'.\n",
    "#     :param hate_speech_filter: 'yes', 'no', or 'all' to filter by hate speech score.\n",
    "#     :return: A dictionary of counts for VerbNet classes, semantic roles, and predicates.\n",
    "#     \"\"\"\n",
    "#     results = {\n",
    "#         'verbnet_classes': defaultdict(int),\n",
    "#         'semantic_roles': defaultdict(int),\n",
    "#         'semantic_predicates': defaultdict(int),\n",
    "#     }\n",
    "# \n",
    "#     # Filter dataset based on hate speech score\n",
    "#     if hate_speech_filter == 'yes':\n",
    "#         token_lists = [row['tokens'] for row in dataset if row['hate_speech_score'] >= 0.5]\n",
    "#     elif hate_speech_filter == 'no':\n",
    "#         token_lists = [row['tokens'] for row in dataset if row['hate_speech_score'] < 0.5]\n",
    "#     else:\n",
    "#         token_lists = [row['tokens'] for row in dataset]\n",
    "# \n",
    "#     for tokens in token_lists:\n",
    "#         tagged_tokens = pos_tag(tokens)\n",
    "# \n",
    "#         verbs = [token for token, tag in tagged_tokens if tag.startswith('VB')]\n",
    "#         for verb in verbs:\n",
    "#             try:\n",
    "#                 classes = vn.classids(lemma=verb)\n",
    "#                 for verb_class in classes:\n",
    "#                     # Count VerbNet classes\n",
    "#                     results['verbnet_classes'][verb_class] += 1\n",
    "#             except Exception as e:\n",
    "#                 # Handle cases where the verb doesn't have a VerbNet class\n",
    "#                 print(f\"Error processing verb {verb}: {e}\")\n",
    "#                 continue\n",
    "# \n",
    "#     return results\n",
    "# \n",
    "# # Analyze hate speech and non-hate speech patterns\n",
    "# hs_results = analyze_verbnet_patterns(tokenised_ds, hate_speech_filter='yes')\n",
    "# non_hs_results = analyze_verbnet_patterns(tokenised_ds, hate_speech_filter='no')\n",
    "# results = analyze_verbnet_patterns(tokenised_ds)\n",
    "# print(results)\n",
    "# print(\"Hate Speech Analysis:\", hs_results)\n",
    "# print(\"Non-Hate Speech Analysis:\", non_hs_results)"
   ],
   "metadata": {
    "collapsed": false,
    "ExecuteTime": {
     "end_time": "2025-03-26T20:33:50.610927Z",
     "start_time": "2025-03-26T13:28:03.285806Z"
    }
   },
   "id": "915d92550825f1d6"
  },
  {
   "cell_type": "markdown",
   "source": [
    "# Clause length"
   ],
   "metadata": {
    "collapsed": false
   },
   "id": "d1b76fec8d1c438e"
  },
  {
   "cell_type": "code",
   "source": [
    "def calculate_clause_length(example):\n",
    "    \"\"\"\n",
    "    Calculate the lengths of clauses in the text and the average clause length.\n",
    "    \"\"\"\n",
    "    # Split text into clauses using common clause delimiters\n",
    "    clauses = re.split(r'[;,.]', example['text'])  # Split on semicolons, commas, and periods\n",
    "    clauses = [clause.strip() for clause in clauses if len(clause.strip())>2]  # Remove empty strings and whitespace\n",
    "    \n",
    "    # Calculate clause lengths\n",
    "    clause_lengths = [len(clause.split()) for clause in clauses]\n",
    "    avg_clause_length = sum(clause_lengths) / len(clause_lengths) if clause_lengths else 0\n",
    "\n",
    "    return {\n",
    "        'clause_lengths': clause_lengths,\n",
    "        'avg_clause_length': avg_clause_length\n",
    "    }\n",
    "\n",
    "# Add average clause length to the dataset\n",
    "filtered_ds = filtered_ds.map(calculate_clause_length)"
   ],
   "metadata": {
    "collapsed": false,
    "ExecuteTime": {
     "end_time": "2025-03-27T09:35:55.082421Z",
     "start_time": "2025-03-27T09:35:51.799065Z"
    }
   },
   "id": "bd649f5a060d2d5d",
   "outputs": [
    {
     "name": "stderr",
     "output_type": "stream",
     "text": [
      "Map: 100%|██████████| 37164/37164 [00:03<00:00, 11510.82 examples/s]\n"
     ]
    }
   ],
   "execution_count": 206
  },
  {
   "cell_type": "code",
   "source": [
    "def summarize_clause_lengths(ds, hs='all'):\n",
    "    \"\"\"\n",
    "    Summarize average clause lengths for hate speech, non-hate speech, or all data.\n",
    "    \"\"\"\n",
    "    if hs == 'yes':\n",
    "        lengths = [row['avg_clause_length'] for row in ds if row['hate_speech_score'] >= 0.5]\n",
    "    elif hs == 'no':\n",
    "        lengths = [row['avg_clause_length'] for row in ds if row['hate_speech_score'] < 0.5]\n",
    "    else:\n",
    "        lengths = [row['avg_clause_length'] for row in ds]\n",
    "\n",
    "    avg_length = sum(lengths) / len(lengths) if lengths else 0\n",
    "    return avg_length\n"
   ],
   "metadata": {
    "collapsed": false,
    "ExecuteTime": {
     "end_time": "2025-03-27T09:35:56.008482Z",
     "start_time": "2025-03-27T09:35:55.992668Z"
    }
   },
   "id": "de5ef35343dd577e",
   "outputs": [],
   "execution_count": 207
  },
  {
   "cell_type": "code",
   "source": [
    "hs_clause_length = summarize_clause_lengths(filtered_ds, hs='yes')\n",
    "non_hs_clause_length = summarize_clause_lengths(filtered_ds, hs='no')\n",
    "all_clause_length = summarize_clause_lengths(filtered_ds, hs='all')\n",
    "\n",
    "print(\"Average Clause Length (Hate Speech):\", hs_clause_length)\n",
    "print(\"Average Clause Length (Non-Hate Speech):\", non_hs_clause_length)\n",
    "print(\"Average Clause Length (All):\", all_clause_length)\n"
   ],
   "metadata": {
    "collapsed": false,
    "ExecuteTime": {
     "end_time": "2025-03-27T09:36:02.337133Z",
     "start_time": "2025-03-27T09:35:58.310193Z"
    }
   },
   "id": "b68fd735404b4ac",
   "outputs": [
    {
     "name": "stdout",
     "output_type": "stream",
     "text": [
      "Average Clause Length (Hate Speech): 9.723298676228243\n",
      "Average Clause Length (Non-Hate Speech): 10.606370492146928\n",
      "Average Clause Length (All): 10.353619579814323\n"
     ]
    }
   ],
   "execution_count": 208
  },
  {
   "cell_type": "markdown",
   "source": [
    "# Completed tests"
   ],
   "metadata": {
    "collapsed": false
   },
   "id": "1a1c3a2fb39e2e90"
  },
  {
   "cell_type": "markdown",
   "source": [
    "## Sentiment analysis"
   ],
   "metadata": {
    "collapsed": false
   },
   "id": "acc66ff8abae1ef0"
  },
  {
   "cell_type": "code",
   "execution_count": null,
   "outputs": [],
   "source": [
    "# Initialize VADER\n",
    "sia = SentimentIntensityAnalyzer()\n",
    "\n",
    "def sentiment_analysis_vader(example):\n",
    "    \"\"\"\n",
    "    Perform sentiment analysis using VADER.\n",
    "    Returns compound score for sentiment.\n",
    "    \"\"\"\n",
    "    scores = sia.polarity_scores(example['text'])\n",
    "    return scores['compound']\n",
    "\n",
    "# Apply sentiment analysis\n",
    "filtered_df['sentiment score'] = filtered_df.apply(sentiment_analysis_vader, axis=1)\n",
    "\n",
    "print(filtered_df.head())"
   ],
   "metadata": {
    "collapsed": false,
    "ExecuteTime": {
     "end_time": "2025-03-26T20:33:50.611438Z",
     "start_time": "2025-03-26T13:28:03.289372Z"
    }
   },
   "id": "65985e8eace7cb3b"
  },
  {
   "cell_type": "code",
   "execution_count": null,
   "outputs": [],
   "source": [
    "# Initialize the SentimentIntensityAnalyzer\n",
    "sia = SentimentIntensityAnalyzer()\n",
    "\n",
    "# Function to compute sentiment for each sentence in the text\n",
    "def get_sentiment_contours(text):\n",
    "    # Tokenize the text into sentences\n",
    "    sentences = sent_tokenize(text)\n",
    "    \n",
    "    # Get sentiment scores for each sentence\n",
    "    sentiment_scores = []\n",
    "    for sentence in sentences:\n",
    "        # Get sentiment scores (using VADER)\n",
    "        score = sia.polarity_scores(sentence)\n",
    "        sentiment_scores.append(score['compound'])  # 'compound' gives the overall sentiment\n",
    "        \n",
    "    return sentences, sentiment_scores\n",
    "\n",
    "# Example text\n",
    "for text in filtered_ds['text']:\n",
    "# Get the sentiment contours\n",
    "    sentences, sentiment_scores = get_sentiment_contours(text)\n",
    "\n",
    "# Plot the sentiment contour\n",
    "plt.figure(figsize=(10, 6))\n",
    "plt.plot(range(len(sentiment_scores)), sentiment_scores, marker='o', color='b')\n",
    "plt.xticks(range(len(sentences)), sentences, rotation=90)\n",
    "plt.xlabel(\"Sentence\")\n",
    "plt.ylabel(\"Sentiment Score (Compound)\")\n",
    "plt.title(\"Sentiment Contours of Text\")\n",
    "plt.grid(True)\n",
    "plt.show()\n"
   ],
   "metadata": {
    "collapsed": false,
    "ExecuteTime": {
     "end_time": "2025-03-26T20:33:50.611645Z",
     "start_time": "2025-03-26T13:28:03.290587Z"
    }
   },
   "id": "ce71107b36f3d6e6"
  },
  {
   "cell_type": "code",
   "execution_count": null,
   "outputs": [],
   "source": [
    "# bin and average\n",
    "filtered_df[\"hate_speech_score\"] = zscore(filtered_df[\"hate_speech_score\"])\n",
    "bin_size = 0.5\n",
    "filtered_df[\"binned_x\"] = (filtered_df[\"hate_speech_score\"] // bin_size) * bin_size\n",
    "bin_avg = filtered_df.groupby(\"binned_x\")[\"sentiment score\"].mean().reset_index()\n",
    "\n",
    "plt.plot(bin_avg[\"binned_x\"], bin_avg[\"sentiment score\"], marker=\"o\", linestyle=\"-\")\n",
    "plt.xlabel(\"Hate Speech Score\")\n",
    "plt.ylabel(\"Sentiment Score\")\n",
    "plt.title(\"Hate Speech Score vs. Sentiment Score\")\n",
    "plt.grid(True)\n",
    "plt.savefig(\"HS-score-vs-sentiment-score\", dpi=100, bbox_inches=\"tight\")\n",
    "plt.show()"
   ],
   "metadata": {
    "collapsed": false,
    "ExecuteTime": {
     "end_time": "2025-03-26T20:33:50.611756Z",
     "start_time": "2025-03-26T13:28:03.291470Z"
    }
   },
   "id": "8e862262ac4225c5"
  },
  {
   "cell_type": "code",
   "execution_count": null,
   "outputs": [],
   "source": [
    "pearson_corr, _ = pearsonr(filtered_df[\"hate_speech_score\"], filtered_df[\"sentiment score\"])\n",
    "spearman_corr, _ = spearmanr(filtered_df[\"hate_speech_score\"], filtered_df[\"sentiment score\"])\n",
    "print(pearson_corr, spearman_corr)"
   ],
   "metadata": {
    "collapsed": false,
    "ExecuteTime": {
     "end_time": "2025-03-26T20:33:50.611925Z",
     "start_time": "2025-03-26T13:28:03.292466Z"
    }
   },
   "id": "cbcb4918bd034a64"
  },
  {
   "cell_type": "code",
   "execution_count": null,
   "outputs": [],
   "source": [
    "x = filtered_df['hate_speech_score']\n",
    "y = filtered_df['sentiment score']\n",
    "\n",
    "X_min, X_max = min(filtered_df['hate_speech_score']), max(filtered_df['hate_speech_score'])\n",
    "X = filtered_df['hate_speech_score'].to_numpy().T\n",
    "X_rescaled = ((X - X_min) / (X_max - X_min)) * 2 - 1\n",
    "Y = filtered_df['sentiment score'].to_numpy().T\n",
    "\n",
    "cov_mat = np.stack((X_rescaled, y), axis = 1).T\n",
    "\n",
    "print(np.cov(cov_mat))"
   ],
   "metadata": {
    "collapsed": false,
    "ExecuteTime": {
     "end_time": "2025-03-26T20:33:50.612007Z",
     "start_time": "2025-03-26T13:28:03.293266Z"
    }
   },
   "id": "fb53257e6e3e0596"
  },
  {
   "cell_type": "code",
   "execution_count": null,
   "outputs": [],
   "source": [
    "# measuring outliers\n",
    "\n",
    "# Fit a polynomial regression model (degree=2 for a simple curve)\n",
    "poly = PolynomialFeatures(degree=2)  \n",
    "X_poly = poly.fit_transform(X_rescaled.reshape(-1, 1))\n",
    "\n",
    "# Train the model\n",
    "model = LinearRegression()\n",
    "model.fit(X_poly, y)\n",
    "\n",
    "# Predict expected values\n",
    "y_pred = model.predict(X_poly)\n",
    "\n",
    "# Compute residuals\n",
    "residuals = y - y_pred\n",
    "std_dev = np.std(residuals)\n",
    "\n",
    "# Identify significant outliers (2 standard deviations)\n",
    "outliers_mask = np.abs(residuals) > 2 * std_dev\n",
    "outliers_df = filtered_df[outliers_mask]\n",
    "\n",
    "# print(outliers_df)  # Print detected outliers\n",
    "# outliers_df['text'].to_csv('outliers.txt', index=False, header=False)\n"
   ],
   "metadata": {
    "collapsed": false,
    "ExecuteTime": {
     "end_time": "2025-03-26T20:33:50.612153Z",
     "start_time": "2025-03-26T13:28:03.294180Z"
    }
   },
   "id": "e0aea9440fc5d810"
  },
  {
   "cell_type": "code",
   "execution_count": null,
   "outputs": [],
   "source": [
    "# Define function to apply formatting\n",
    "def label_hate_speech(score):\n",
    "    if score > 0.5:\n",
    "        return \"HS\"\n",
    "    elif -0.5 <= score <= 0.5:\n",
    "        return \"N\"\n",
    "    else:\n",
    "        return \"NHS\"\n",
    "\n",
    "def label_sentiment(score):\n",
    "    return \"Positive\" if score > 0 else \"Negative\"\n",
    "\n",
    "# Select only the required columns\n",
    "export_df = outliers_df[['text', 'hate_speech_score', 'sentiment score']].copy()\n",
    "\n",
    "# Apply formatting functions\n",
    "export_df['hate_speech_score'] = export_df['hate_speech_score'].apply(label_hate_speech)\n",
    "export_df['sentiment score'] = export_df['sentiment score'].apply(label_sentiment)\n",
    "\n",
    "# Export to CSV\n",
    "export_df.to_csv(\"formatted_output.csv\", index=False)\n",
    "\n",
    "# question is: why is the sentiment analyser wrong?\n"
   ],
   "metadata": {
    "collapsed": false,
    "ExecuteTime": {
     "end_time": "2025-03-26T20:33:50.612380Z",
     "start_time": "2025-03-26T13:28:03.294958Z"
    }
   },
   "id": "1e62f4146e71c5cc"
  },
  {
   "cell_type": "markdown",
   "source": [
    "## punctuation"
   ],
   "metadata": {
    "collapsed": false
   },
   "id": "3525130c973999f6"
  },
  {
   "cell_type": "code",
   "execution_count": null,
   "outputs": [],
   "source": [
    " def count_punctuation(example):\n",
    "    # counts all punctuation\n",
    "    punctuation_counts = {p: example['text'].count(p) for p in string.punctuation}\n",
    "    total_punctuation = sum(punctuation_counts.values())\n",
    "    \n",
    "    return {\n",
    "        'punctuation_counts': punctuation_counts,\n",
    "        'total_punctuation': total_punctuation\n",
    "    }\n",
    "\n",
    "# Apply function to each row\n",
    "punctuation_results = filtered_df.apply(count_punctuation, axis=1).apply(pd.Series)\n",
    "\n",
    "# Merge the new columns back into the original DataFrame\n",
    "filtered_df = filtered_df.join(punctuation_results)\n",
    "\n",
    "# Print updated DataFrame\n",
    "print(filtered_df)\n"
   ],
   "metadata": {
    "collapsed": false,
    "ExecuteTime": {
     "end_time": "2025-03-26T20:33:50.612558Z",
     "start_time": "2025-03-26T13:28:03.295591Z"
    }
   },
   "id": "aa1e3412b7ccdba"
  },
  {
   "cell_type": "code",
   "execution_count": null,
   "outputs": [],
   "source": [
    "# plotting punctuation counts against hate speech scores\n",
    "plt.figure(figsize=(12, 6))\n",
    "plt.scatter(filtered_df[\"hate_speech_score\"], filtered_df[\"total_punctuation\"], s=1)\n",
    "plt.xlabel(\"Hate Speech Score\")\n",
    "plt.ylabel(\"Number of Punctuation\")\n",
    "plt.title(\"Hate Speech Score vs. Average Number of Punctuation\")\n",
    "# plt.savefig(\"HS-score-vs-punctuation-scatter\", dpi=300, bbox_inches=\"tight\")\n",
    "# plt.show()"
   ],
   "metadata": {
    "collapsed": false,
    "ExecuteTime": {
     "end_time": "2025-03-26T20:33:50.612683Z",
     "start_time": "2025-03-26T13:28:03.296212Z"
    }
   },
   "id": "ffaa254a5cb779c0"
  },
  {
   "cell_type": "code",
   "execution_count": null,
   "outputs": [],
   "source": [
    "# correlation value\n",
    "pearson_corr, _ = pearsonr(filtered_df[\"hate_speech_score\"], filtered_df[\"total_punctuation\"])\n",
    "spearman_corr, _ = spearmanr(filtered_df[\"hate_speech_score\"], filtered_df[\"total_punctuation\"])\n",
    "print(f\"Pearson Correlation: {pearson_corr}\")\n",
    "print(f\"Spearman Correlation: {spearman_corr}\")"
   ],
   "metadata": {
    "collapsed": false,
    "ExecuteTime": {
     "end_time": "2025-03-26T20:33:50.612840Z",
     "start_time": "2025-03-26T13:28:03.296881Z"
    }
   },
   "id": "8288092cce71915"
  },
  {
   "cell_type": "code",
   "execution_count": null,
   "outputs": [],
   "source": [
    "plt.plot(bin_avg[\"binned_x\"], bin_avg[\"total_punctuation\"], marker=\"o\", linestyle=\"-\")\n",
    "plt.xlabel(\"Hate Speech Score\")\n",
    "plt.ylabel(\"Average Number of Punctuation\")\n",
    "plt.title(\"Hate Speech Score vs. Average Number of Punctuation\")\n",
    "plt.grid(True)\n",
    "# plt.savefig(\"HS-score-vs-punctuation-bins\", dpi=100, bbox_inches=\"tight\")\n",
    "# plt.show()"
   ],
   "metadata": {
    "collapsed": false,
    "ExecuteTime": {
     "end_time": "2025-03-26T20:33:50.612969Z",
     "start_time": "2025-03-26T13:28:03.297604Z"
    }
   },
   "id": "90f1ca2fe32bc722"
  },
  {
   "cell_type": "code",
   "execution_count": null,
   "outputs": [],
   "source": [
    "plt.figure(figsize=(10, 10))\n",
    "\n",
    "for p in string.punctuation:\n",
    "    filtered_df[f\"{p}_count\"] = filtered_df[\"punctuation_counts\"].apply(lambda x: x.get(p, 0))\n",
    "    bin_avg = filtered_df.groupby(\"binned_x\")[f\"{p}_count\"].mean().reset_index()\n",
    "    \n",
    "    # Calculate the average for the current punctuation\n",
    "    avg_count = bin_avg[f\"{p}_count\"].mean()\n",
    "    \n",
    "    # Plot only if the average count is greater than 0.1\n",
    "    if avg_count > 0.1:\n",
    "        plt.plot(bin_avg[\"binned_x\"], bin_avg[f\"{p}_count\"], marker=\"o\", linestyle=\"-\", label=f\"'{p}'\")\n",
    "\n",
    "plt.legend(title=\"Punctuation\")\n",
    "plt.xlabel(\"Hate Speech Score\")\n",
    "plt.ylabel(\"Average number of each punctation\")\n",
    "plt.title(\"Distribution of punctuation across hate speech score bins\")\n",
    "# plt.savefig(\"HS-score-vs-individual-punctuation-bins\", dpi=200, bbox_inches=\"tight\")\n",
    "# plt.show()"
   ],
   "metadata": {
    "collapsed": false,
    "ExecuteTime": {
     "end_time": "2025-03-26T20:33:50.613043Z",
     "start_time": "2025-03-26T13:28:03.298178Z"
    }
   },
   "id": "6c51dbab300144ff"
  },
  {
   "cell_type": "markdown",
   "source": [
    "## capitalised words"
   ],
   "metadata": {
    "collapsed": false
   },
   "id": "6777cf449eaba51f"
  },
  {
   "cell_type": "code",
   "execution_count": null,
   "outputs": [],
   "source": [
    "def count_caps(example):\n",
    "    # counts all capital words\n",
    "    capitalized_words = [word.strip(string.punctuation).lower() for word in example['text'].split() if word.isupper() and len(word) > 1]\n",
    "    capitalized_words_count = len(capitalized_words)\n",
    "        \n",
    "    return {\n",
    "        'capitalized_words': capitalized_words,\n",
    "        'capitalized_words_count': capitalized_words_count\n",
    "    }\n",
    "\n",
    "capitalised_ds = filtered_ds.map(count_caps)\n",
    "capitalised_df = pd.DataFrame(capitalised_ds)\n",
    "print(capitalised_df)"
   ],
   "metadata": {
    "collapsed": false,
    "ExecuteTime": {
     "end_time": "2025-03-26T20:33:50.613127Z",
     "start_time": "2025-03-26T13:28:03.298804Z"
    }
   },
   "id": "8e5d811943332844"
  },
  {
   "cell_type": "code",
   "execution_count": null,
   "outputs": [],
   "source": [
    "def get_caps_lemmas(example):\n",
    "    lemmatized_tokens = [lemmatizer.lemmatize(token, get_wordnet_pos(token)) for token in example['capitalized_words']]\n",
    "    example['lemmas'] = lemmatized_tokens\n",
    "    return example\n",
    "\n",
    "capitalised_df = capitalised_df.apply(get_caps_lemmas, axis=1)\n",
    "print(capitalised_df)"
   ],
   "metadata": {
    "collapsed": false,
    "ExecuteTime": {
     "end_time": "2025-03-26T20:33:50.613203Z",
     "start_time": "2025-03-26T13:28:03.299410Z"
    }
   },
   "id": "80b9b751effce16"
  },
  {
   "cell_type": "code",
   "execution_count": null,
   "outputs": [],
   "source": [
    "plt.plot(bin_avg[\"binned_x\"], bin_avg[\"capitalized_words_count\"], marker=\"o\", linestyle=\"-\")\n",
    "plt.xlabel(\"Hate Speech Score\")\n",
    "plt.ylabel(\"Average Number of Capital Words\")\n",
    "plt.title(\"Hate Speech Score vs. Average Number of Capitalised Words\")\n",
    "plt.grid(True)\n",
    "# plt.savefig(\"HS-score-vs-capitals-bins\", dpi=100, bbox_inches=\"tight\")\n",
    "# plt.show()"
   ],
   "metadata": {
    "collapsed": false,
    "ExecuteTime": {
     "end_time": "2025-03-26T20:33:50.613270Z",
     "start_time": "2025-03-26T13:28:03.300007Z"
    }
   },
   "id": "8c69148586aa5bcb"
  },
  {
   "cell_type": "markdown",
   "source": [
    "Why might this be interesting?"
   ],
   "metadata": {
    "collapsed": false
   },
   "id": "1c9148fac4812458"
  },
  {
   "cell_type": "code",
   "execution_count": null,
   "outputs": [],
   "source": [
    "# correlation value\n",
    "pearson_corr, _ = pearsonr(capitalised_df[\"hate_speech_score\"], capitalised_df[\"capitalized_words_count\"])\n",
    "spearman_corr, _ = spearmanr(capitalised_df[\"hate_speech_score\"], capitalised_df[\"capitalized_words_count\"])\n",
    "print(f\"Pearson Correlation: {pearson_corr}\")\n",
    "print(f\"Spearman Correlation: {spearman_corr}\")"
   ],
   "metadata": {
    "collapsed": false,
    "ExecuteTime": {
     "end_time": "2025-03-26T20:33:50.613391Z",
     "start_time": "2025-03-26T13:28:03.300643Z"
    }
   },
   "id": "5f42fba5b71300b4"
  },
  {
   "cell_type": "markdown",
   "source": [
    "# Abandoned tests"
   ],
   "metadata": {
    "collapsed": false
   },
   "id": "31d09861651d8ab5"
  },
  {
   "cell_type": "markdown",
   "source": [
    "## Spelling correction"
   ],
   "metadata": {
    "collapsed": false
   },
   "id": "4b507c3eac27b737"
  },
  {
   "cell_type": "code",
   "execution_count": null,
   "outputs": [],
   "source": [
    "# tokenised_df = filtered_df.copy()\n",
    "# \n",
    "# def correct_text(text):\n",
    "#     return str(TextBlob(text).correct())\n",
    "# \n",
    "# tokenised_df['text'] = filtered_df['text'].apply(correct_text)"
   ],
   "metadata": {
    "collapsed": false,
    "ExecuteTime": {
     "end_time": "2025-03-26T20:33:50.613489Z",
     "start_time": "2025-03-26T13:28:03.301287Z"
    }
   },
   "id": "8128be09b8f93560"
  },
  {
   "metadata": {},
   "cell_type": "code",
   "outputs": [],
   "execution_count": null,
   "source": "parsed_extractions_df[\"text_length\"] = parsed_extractions_df[\"text\"].apply(lambda x: len(str(x)))",
   "id": "17ba07954e3d7e02"
  },
  {
   "cell_type": "markdown",
   "source": [
    "## Weighted log odds"
   ],
   "metadata": {
    "collapsed": false
   },
   "id": "bdd77533b3526264"
  },
  {
   "cell_type": "code",
   "execution_count": null,
   "outputs": [],
   "source": [
    "# def weighted_log_odds(df, column_name, alpha=1, beta=1, s_min=-8, s_max=8):\n",
    "#     \"\"\"\n",
    "#     Computes the weighted log-odds ratio for words in a specified column of a DataFrame,\n",
    "#     using continuous hate speech scores.\n",
    "# \n",
    "#     Parameters:\n",
    "#     - df: DataFrame containing the dataset with 'hate_speech_score' and other columns\n",
    "#     - column_name: The column name containing tokens or lemmas to compute counts\n",
    "#     - alpha, beta: Dirichlet smoothing priors (default 1)\n",
    "#     - s_min, s_max: Minimum and maximum hate speech scores (default -8 to 8)\n",
    "# \n",
    "#     Returns:\n",
    "#     - log_odds: Weighted log-odds ratio for the word\n",
    "#     \"\"\"\n",
    "#     \n",
    "#     # Initialize lists for word counts, hate speech scores, and total word counts\n",
    "#     word_counts = {}\n",
    "#     total_word_counts = []\n",
    "#     word_scores = []\n",
    "# \n",
    "#     for _, row in df.iterrows():\n",
    "#         # Get the tokens or lemmas from the specified column\n",
    "#         words = row[column_name]\n",
    "#         \n",
    "#         # Calculate word frequency and total word count in the text\n",
    "#         word_freq = pd.Series(words).value_counts()\n",
    "#         total_count = len(words)\n",
    "#         \n",
    "#         # Append word frequencies and corresponding hate speech score\n",
    "#         for word, count in word_freq.items():\n",
    "#             if word not in word_counts:\n",
    "#                 word_counts[word] = 0\n",
    "#                 total_word_counts[word] = 0\n",
    "#                 word_scores[word] = []\n",
    "#             word_counts[word] += count\n",
    "#             total_word_counts[word] += total_count\n",
    "#             word_scores[word].append(row['hate_speech_score'])\n",
    "#     \n",
    "#     # Compute the log-odds for each word\n",
    "#     log_odds_dict = {}\n",
    "#     for word in word_counts:\n",
    "#         # Normalize hate speech scores to [0,1] scale\n",
    "#         f_scores = [(s - s_min) / (s_max - s_min) for s in word_scores[word]]  # Weight function\n",
    "#         f_neutral = [1 - f for f in f_scores]  # Complementary weight for neutral texts\n",
    "# \n",
    "#         # Compute weighted probability estimates\n",
    "#         P_w_hate = (sum(word_counts[word] * f for f in f_scores) + alpha) / (sum(total_word_counts[word] * f for f in f_scores) + beta)\n",
    "#         P_w_neutral = (sum(word_counts[word] * f for f in f_neutral) + alpha) / (sum(total_word_counts[word] * f for f in f_neutral) + beta)\n",
    "# \n",
    "#         # Compute log-odds ratio for the word\n",
    "#         log_odds = np.log(P_w_hate / P_w_neutral)\n",
    "#         log_odds_dict[word] = log_odds\n",
    "# \n",
    "#     return log_odds_dict\n"
   ],
   "metadata": {
    "collapsed": false,
    "ExecuteTime": {
     "end_time": "2025-03-26T20:33:50.613692Z",
     "start_time": "2025-03-26T13:28:03.301933Z"
    }
   },
   "id": "ced130d9bfb04b77"
  },
  {
   "cell_type": "code",
   "execution_count": null,
   "outputs": [],
   "source": [
    "for file in `find /Users/souparna/Desktop/DiyaDiss/stanford-corenlp-4.5.9 -name \"*.jar\"`; do export\n",
    "CLASSPATH=\"$CLASSPATH:`realpath $file`\"; done\n"
   ],
   "metadata": {
    "collapsed": false,
    "ExecuteTime": {
     "end_time": "2025-03-26T20:33:50.613903Z",
     "start_time": "2025-03-26T13:28:03.302558Z"
    }
   },
   "id": "23aeb259df61e237"
  }
 ],
 "metadata": {
  "kernelspec": {
   "display_name": "Python 3",
   "language": "python",
   "name": "python3"
  },
  "language_info": {
   "codemirror_mode": {
    "name": "ipython",
    "version": 2
   },
   "file_extension": ".py",
   "mimetype": "text/x-python",
   "name": "python",
   "nbconvert_exporter": "python",
   "pygments_lexer": "ipython2",
   "version": "2.7.6"
  }
 },
 "nbformat": 4,
 "nbformat_minor": 5
}
